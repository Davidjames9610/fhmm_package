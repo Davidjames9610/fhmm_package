{
 "cells": [
  {
   "cell_type": "code",
   "execution_count": 1,
   "metadata": {},
   "outputs": [],
   "source": [
    "import sys\n",
    "import numpy as np\n",
    "sys.path.append(\"/Users/david/Documents/code/fhmm/v1\")"
   ]
  },
  {
   "cell_type": "code",
   "execution_count": 2,
   "metadata": {},
   "outputs": [
    {
     "name": "stdout",
     "output_type": "stream",
     "text": [
      "/Users/david/Documents/code/fhmm/v1/src/classifiers_davidjames9610/test_a/speech_commands\n"
     ]
    }
   ],
   "source": [
    "from importlib import reload\n",
    "from src.classifiers_davidjames9610.test_a.config import config_location\n",
    "import importlib\n",
    "import src.classifiers_davidjames9610.test_a.config as base_config\n",
    "reload(base_config)\n",
    "config = importlib.import_module(base_config.config_location)\n",
    "reload(config)\n",
    "print(config.basedir)\n",
    "import pandas as pd\n",
    "import time"
   ]
  },
  {
   "cell_type": "code",
   "execution_count": 3,
   "metadata": {},
   "outputs": [
    {
     "name": "stdout",
     "output_type": "stream",
     "text": [
      "loading lp_RealNoise_UNDER_WATER_DRONE_SNR1.pickle\n",
      "loading lp_GaussNoise_SNR20.pickle\n",
      "loading mfcc_RealNoise_UNDER_WATER_DRONE_SNR40.pickle\n",
      "loading lp_RealNoise_UNDER_WATER_DRONE_SNR60.pickle\n",
      "loading mfcc_GaussNoise_SNR60.pickle\n",
      "loading lp_RealNoise_UNDER_WATER_DRONE_SNR40.pickle\n",
      "loading mfcc_RealNoise_UNDER_WATER_DRONE_SNR60.pickle\n",
      "loading mfcc_GaussNoise_SNR40.pickle\n",
      "loading lp_GaussNoise_SNR10.pickle\n",
      "loading lp_RealNoise_UNDER_WATER_DRONE_SNR5.pickle\n",
      "loading mfcc_None_None.pickle\n",
      "loading mfcc_RealNoise_UNDER_WATER_DRONE_SNR20.pickle\n",
      "loading mfcc_RealNoise_UNDER_WATER_DRONE_SNR5.pickle\n",
      "loading mfcc_GaussNoise_SNR5.pickle\n",
      "loading lp_None_None.pickle\n",
      "loading lp_GaussNoise_SNR40.pickle\n",
      "loading lp_GaussNoise_SNR5.pickle\n",
      "loading mfcc_GaussNoise_SNR10.pickle\n",
      "loading lp_RealNoise_UNDER_WATER_DRONE_SNR10.pickle\n",
      "loading lp_GaussNoise_SNR1.pickle\n",
      "loading lp_GaussNoise_SNR60.pickle\n",
      "loading mfcc_RealNoise_UNDER_WATER_DRONE_SNR10.pickle\n",
      "loading mfcc_RealNoise_UNDER_WATER_DRONE_SNR1.pickle\n",
      "loading mfcc_GaussNoise_SNR20.pickle\n",
      "loading lp_RealNoise_UNDER_WATER_DRONE_SNR20.pickle\n",
      "loading mfcc_GaussNoise_SNR1.pickle\n",
      "loading GMMHMM.pickle\n",
      "loading GaussianHMM.pickle\n",
      "loading fhmm.pickle\n"
     ]
    }
   ],
   "source": [
    "import pickle\n",
    "import d_classifiers_to_results\n",
    "reload(d_classifiers_to_results)\n",
    "import src.misc_davidjames9610.utils as utils\n",
    "reload(utils)\n",
    "\n",
    "sls = pickle.load(open(config.samples_labels,'rb'))\n",
    "features = utils.folder_pickles_to_dict(config.basedir + '/features')\n",
    "classifiers = utils.folder_pickles_to_dict(config.basedir + '/classifiers')\n"
   ]
  },
  {
   "cell_type": "code",
   "execution_count": 4,
   "outputs": [],
   "source": [
    "! find . -name \".DS_Store\" -type f -delete"
   ],
   "metadata": {
    "collapsed": false
   }
  },
  {
   "cell_type": "code",
   "execution_count": 10,
   "metadata": {},
   "outputs": [
    {
     "name": "stdout",
     "output_type": "stream",
     "text": [
      "loading lp_GaussNoise_SNR20.pickle\n",
      "loading lp_RealNoise_UNDER_WATER_DRONE_SNR60.pickle\n",
      "loading lp_RealNoise_UNDER_WATER_DRONE_SNR40.pickle\n",
      "loading lp_GaussNoise_SNR10.pickle\n",
      "loading lp_GaussNoise_SNR40.pickle\n",
      "loading lp_RealNoise_UNDER_WATER_DRONE_SNR10.pickle\n",
      "loading lp_GaussNoise_SNR60.pickle\n",
      "loading lp_RealNoise_UNDER_WATER_DRONE_SNR20.pickle\n",
      "loading lp_GaussNoise_SNR20.pickle\n",
      "loading lp_RealNoise_UNDER_WATER_DRONE_SNR60.pickle\n",
      "loading lp_RealNoise_UNDER_WATER_DRONE_SNR40.pickle\n",
      "loading lp_GaussNoise_SNR10.pickle\n",
      "loading lp_None_None.pickle\n",
      "loading lp_GaussNoise_SNR40.pickle\n",
      "loading lp_RealNoise_UNDER_WATER_DRONE_SNR10.pickle\n",
      "loading lp_GaussNoise_SNR60.pickle\n",
      "loading lp_RealNoise_UNDER_WATER_DRONE_SNR20.pickle\n",
      "loading mfcc_RealNoise_UNDER_WATER_DRONE_SNR40.pickle\n",
      "loading mfcc_GaussNoise_SNR60.pickle\n",
      "loading mfcc_RealNoise_UNDER_WATER_DRONE_SNR60.pickle\n",
      "loading mfcc_GaussNoise_SNR40.pickle\n",
      "loading mfcc_None_None.pickle\n",
      "loading mfcc_RealNoise_UNDER_WATER_DRONE_SNR20.pickle\n",
      "loading mfcc_GaussNoise_SNR10.pickle\n",
      "loading mfcc_RealNoise_UNDER_WATER_DRONE_SNR10.pickle\n",
      "loading mfcc_GaussNoise_SNR20.pickle\n",
      "Directory '/Users/david/Documents/code/fhmm/v1/src/classifiers_davidjames9610/test_a/speech_commands//csvs' already exists, removing old files:  False\n",
      "loading lp_RealNoise_UNDER_WATER_DRONE_SNR1.pickle\n",
      "loading lp_GaussNoise_SNR20.pickle\n",
      "loading lp_RealNoise_UNDER_WATER_DRONE_SNR60.pickle\n",
      "loading lp_RealNoise_UNDER_WATER_DRONE_SNR40.pickle\n",
      "loading lp_GaussNoise_SNR10.pickle\n",
      "loading lp_RealNoise_UNDER_WATER_DRONE_SNR5.pickle\n",
      "loading lp_GaussNoise_SNR40.pickle\n",
      "loading lp_GaussNoise_SNR5.pickle\n",
      "loading lp_RealNoise_UNDER_WATER_DRONE_SNR10.pickle\n",
      "loading lp_GaussNoise_SNR1.pickle\n",
      "loading lp_GaussNoise_SNR60.pickle\n",
      "loading lp_RealNoise_UNDER_WATER_DRONE_SNR20.pickle\n",
      "loading lp_RealNoise_UNDER_WATER_DRONE_SNR1.pickle\n",
      "loading lp_GaussNoise_SNR20.pickle\n",
      "loading lp_RealNoise_UNDER_WATER_DRONE_SNR60.pickle\n",
      "loading lp_RealNoise_UNDER_WATER_DRONE_SNR40.pickle\n",
      "loading lp_GaussNoise_SNR10.pickle\n",
      "loading lp_RealNoise_UNDER_WATER_DRONE_SNR5.pickle\n",
      "loading lp_None_None.pickle\n",
      "loading lp_GaussNoise_SNR40.pickle\n",
      "loading lp_GaussNoise_SNR5.pickle\n",
      "loading lp_RealNoise_UNDER_WATER_DRONE_SNR10.pickle\n",
      "loading lp_GaussNoise_SNR1.pickle\n",
      "loading lp_GaussNoise_SNR60.pickle\n",
      "loading lp_RealNoise_UNDER_WATER_DRONE_SNR20.pickle\n",
      "loading mfcc_RealNoise_UNDER_WATER_DRONE_SNR40.pickle\n",
      "loading mfcc_GaussNoise_SNR60.pickle\n",
      "loading mfcc_RealNoise_UNDER_WATER_DRONE_SNR60.pickle\n",
      "loading mfcc_GaussNoise_SNR40.pickle\n",
      "loading mfcc_None_None.pickle\n",
      "loading mfcc_RealNoise_UNDER_WATER_DRONE_SNR20.pickle\n",
      "loading mfcc_RealNoise_UNDER_WATER_DRONE_SNR5.pickle\n",
      "loading mfcc_GaussNoise_SNR5.pickle\n",
      "loading mfcc_GaussNoise_SNR10.pickle\n",
      "loading mfcc_RealNoise_UNDER_WATER_DRONE_SNR10.pickle\n",
      "loading mfcc_RealNoise_UNDER_WATER_DRONE_SNR1.pickle\n",
      "loading mfcc_GaussNoise_SNR20.pickle\n",
      "loading mfcc_GaussNoise_SNR1.pickle\n",
      "Directory '/Users/david/Documents/code/fhmm/v1/src/classifiers_davidjames9610/test_a/speech_commands//csvs' already exists, removing old files:  False\n",
      "loading lp_RealNoise_UNDER_WATER_DRONE_SNR1.pickle\n",
      "loading lp_GaussNoise_SNR20.pickle\n",
      "loading lp_RealNoise_UNDER_WATER_DRONE_SNR60.pickle\n",
      "loading lp_RealNoise_UNDER_WATER_DRONE_SNR40.pickle\n",
      "loading lp_GaussNoise_SNR10.pickle\n",
      "loading lp_RealNoise_UNDER_WATER_DRONE_SNR5.pickle\n",
      "loading lp_GaussNoise_SNR40.pickle\n",
      "loading lp_GaussNoise_SNR5.pickle\n",
      "loading lp_RealNoise_UNDER_WATER_DRONE_SNR10.pickle\n",
      "loading lp_GaussNoise_SNR1.pickle\n",
      "loading lp_GaussNoise_SNR60.pickle\n",
      "loading lp_RealNoise_UNDER_WATER_DRONE_SNR20.pickle\n",
      "loading lp_RealNoise_UNDER_WATER_DRONE_SNR1.pickle\n",
      "loading lp_GaussNoise_SNR20.pickle\n",
      "loading lp_RealNoise_UNDER_WATER_DRONE_SNR60.pickle\n",
      "loading lp_RealNoise_UNDER_WATER_DRONE_SNR40.pickle\n",
      "loading lp_GaussNoise_SNR10.pickle\n",
      "loading lp_RealNoise_UNDER_WATER_DRONE_SNR5.pickle\n",
      "loading lp_None_None.pickle\n",
      "loading lp_GaussNoise_SNR40.pickle\n",
      "loading lp_GaussNoise_SNR5.pickle\n",
      "loading lp_RealNoise_UNDER_WATER_DRONE_SNR10.pickle\n",
      "loading lp_GaussNoise_SNR1.pickle\n",
      "loading lp_GaussNoise_SNR60.pickle\n",
      "loading lp_RealNoise_UNDER_WATER_DRONE_SNR20.pickle\n",
      "loading mfcc_RealNoise_UNDER_WATER_DRONE_SNR40.pickle\n",
      "loading mfcc_GaussNoise_SNR60.pickle\n",
      "loading mfcc_RealNoise_UNDER_WATER_DRONE_SNR60.pickle\n",
      "loading mfcc_GaussNoise_SNR40.pickle\n",
      "loading mfcc_None_None.pickle\n",
      "loading mfcc_RealNoise_UNDER_WATER_DRONE_SNR20.pickle\n",
      "loading mfcc_RealNoise_UNDER_WATER_DRONE_SNR5.pickle\n",
      "loading mfcc_GaussNoise_SNR5.pickle\n",
      "loading mfcc_GaussNoise_SNR10.pickle\n",
      "loading mfcc_RealNoise_UNDER_WATER_DRONE_SNR10.pickle\n",
      "loading mfcc_RealNoise_UNDER_WATER_DRONE_SNR1.pickle\n",
      "loading mfcc_GaussNoise_SNR20.pickle\n",
      "loading mfcc_GaussNoise_SNR1.pickle\n",
      "Directory '/Users/david/Documents/code/fhmm/v1/src/classifiers_davidjames9610/test_a/speech_commands//csvs' already exists, removing old files:  False\n",
      "loading lp_GaussNoise_SNR20.pickle\n",
      "loading lp_RealNoise_UNDER_WATER_DRONE_SNR60.pickle\n",
      "loading lp_RealNoise_UNDER_WATER_DRONE_SNR40.pickle\n",
      "loading lp_GaussNoise_SNR10.pickle\n",
      "loading lp_GaussNoise_SNR40.pickle\n",
      "loading lp_RealNoise_UNDER_WATER_DRONE_SNR10.pickle\n",
      "loading lp_GaussNoise_SNR60.pickle\n",
      "loading lp_RealNoise_UNDER_WATER_DRONE_SNR20.pickle\n",
      "loading lp_GaussNoise_SNR20.pickle\n",
      "loading lp_RealNoise_UNDER_WATER_DRONE_SNR60.pickle\n",
      "loading lp_RealNoise_UNDER_WATER_DRONE_SNR40.pickle\n",
      "loading lp_GaussNoise_SNR10.pickle\n",
      "loading lp_None_None.pickle\n",
      "loading lp_GaussNoise_SNR40.pickle\n",
      "loading lp_RealNoise_UNDER_WATER_DRONE_SNR10.pickle\n",
      "loading lp_GaussNoise_SNR60.pickle\n",
      "loading lp_RealNoise_UNDER_WATER_DRONE_SNR20.pickle\n",
      "loading mfcc_RealNoise_UNDER_WATER_DRONE_SNR40.pickle\n",
      "loading mfcc_GaussNoise_SNR60.pickle\n",
      "loading mfcc_RealNoise_UNDER_WATER_DRONE_SNR60.pickle\n",
      "loading mfcc_GaussNoise_SNR40.pickle\n",
      "loading mfcc_None_None.pickle\n",
      "loading mfcc_RealNoise_UNDER_WATER_DRONE_SNR20.pickle\n",
      "loading mfcc_GaussNoise_SNR10.pickle\n",
      "loading mfcc_RealNoise_UNDER_WATER_DRONE_SNR10.pickle\n",
      "loading mfcc_GaussNoise_SNR20.pickle\n",
      "Directory '/Users/david/Documents/code/fhmm/v1/src/classifiers_davidjames9610/test_a/speech_commands//csvs' already exists, removing old files:  False\n"
     ]
    }
   ],
   "source": [
    "import os\n",
    "# dataframes_arrays = {}\n",
    "# dataframe = {}\n",
    "cols_order = ['model','feature', 'SNR', 'noise', 'time', 'ACC', 'PPV', 'TPR', 'TNR', 'FPR', 'FNR', 'NPV', 'FDR']\n",
    "df_array = {}\n",
    "for classifier_approach in os.listdir(config.basedir + '/results'):\n",
    "    if not classifier_approach.__contains__('.DS_Store'):\n",
    "        row_array = []\n",
    "        approach_approach_path = os.path.join(config.basedir + '/results', classifier_approach)\n",
    "        for classifier_type in os.listdir(approach_approach_path):\n",
    "            classifier_type_path = os.path.join(approach_approach_path, classifier_type)\n",
    "            classifier_results = utils.folder_pickles_to_dict(classifier_type_path)\n",
    "            for feature_key in classifier_results:\n",
    "                curr_stats = classifier_results[feature_key]['stats']\n",
    "\n",
    "                row = curr_stats.copy()\n",
    "                row['model'] = classifier_type\n",
    "                row['feature'] = feature_key.split('_')[0]\n",
    "                if len(feature_key.split('_')) > 1:\n",
    "                    snr = feature_key.split('_')[-1].replace('SNR','')\n",
    "                    if snr != 'None':\n",
    "                        snr = int(snr)\n",
    "                        row['SNR'] = snr\n",
    "                    row['noise'] = ' '.join(feature_key.split('_')[1:-1])\n",
    "                row['time'] = classifier_results[feature_key]['time']\n",
    "                row_array.append(row)\n",
    "        curr_df = pd.DataFrame(row_array)\n",
    "        curr_df = curr_df[cols_order]\n",
    "        curr_df = curr_df.sort_values(['noise', 'SNR','model'], ascending=[True, True, True]).copy()\n",
    "        # re-order any None to top\n",
    "        rows_to_move = curr_df[curr_df['noise'] == 'None']\n",
    "        rest_of_df = curr_df[curr_df['noise'] != 'None']\n",
    "        df_rounded = pd.concat([rows_to_move, rest_of_df])\n",
    "        df_rounded = df_rounded.round(decimals=3).copy()\n",
    "        df_replaced_values = df_rounded.replace({'GaussNoise': 'Gaussian Noise', 'RealNoise': 'Real Noise', 'lp': 'log-power', 'fhmm': 'FHMM'})\n",
    "\n",
    "        df_array[classifier_approach] = df_replaced_values\n",
    "        new_dir = config.basedir + '//csvs'\n",
    "        utils.create_directory_if_not_exists(new_dir, False)\n",
    "\n",
    "        df_array[classifier_approach].to_csv(new_dir + '//' + classifier_approach + '.csv')\n",
    "\n",
    "# find . -name \".DS_Store\" -type f -delete"
   ]
  },
  {
   "cell_type": "code",
   "execution_count": 5,
   "metadata": {
    "pycharm": {
     "name": "#%%    \n"
    }
   },
   "outputs": [
    {
     "name": "stdout",
     "output_type": "stream",
     "text": [
      "Directory '/Users/david/Documents/code/fhmm/v1/src/classifiers_davidjames9610/test_a/speech_commands//csvs' already exists, removing old files:  False\n",
      "Directory '/Users/david/Documents/code/fhmm/v1/src/classifiers_davidjames9610/test_a/speech_commands//csvs' already exists, removing old files:  False\n",
      "Directory '/Users/david/Documents/code/fhmm/v1/src/classifiers_davidjames9610/test_a/speech_commands//csvs' already exists, removing old files:  False\n",
      "Directory '/Users/david/Documents/code/fhmm/v1/src/classifiers_davidjames9610/test_a/speech_commands//csvs' already exists, removing old files:  False\n"
     ]
    }
   ],
   "source": [
    "# save as csvs\n",
    "# for key in df_array:\n",
    "#     new_dir = config.basedir + '//csvs'\n",
    "#     utils.create_directory_if_not_exists(new_dir, False)\n",
    "#     df_array[key].to_csv(new_dir + '//' + key + '.csv')"
   ]
  },
  {
   "cell_type": "code",
   "execution_count": 10,
   "metadata": {},
   "outputs": [
    {
     "name": "stdout",
     "output_type": "stream",
     "text": [
      "saving plots for: classification_buffer\n",
      "Gaussian Noise\n"
     ]
    },
    {
     "ename": "KeyError",
     "evalue": "'Gaussian Noise'",
     "output_type": "error",
     "traceback": [
      "\u001B[0;31m---------------------------------------------------------------------------\u001B[0m",
      "\u001B[0;31mKeyError\u001B[0m                                  Traceback (most recent call last)",
      "Cell \u001B[0;32mIn[10], line 26\u001B[0m\n\u001B[1;32m     24\u001B[0m curr_df_noise \u001B[38;5;241m=\u001B[39m curr_df[(curr_df[\u001B[38;5;124m'\u001B[39m\u001B[38;5;124mnoise\u001B[39m\u001B[38;5;124m'\u001B[39m] \u001B[38;5;241m==\u001B[39m noise)]\n\u001B[1;32m     25\u001B[0m save_key \u001B[38;5;241m=\u001B[39m arr_key \u001B[38;5;241m+\u001B[39m \u001B[38;5;124m'\u001B[39m\u001B[38;5;124m_\u001B[39m\u001B[38;5;124m'\u001B[39m \u001B[38;5;241m+\u001B[39m noise \u001B[38;5;241m+\u001B[39m \u001B[38;5;124m'\u001B[39m\u001B[38;5;124m_\u001B[39m\u001B[38;5;124m'\u001B[39m \u001B[38;5;241m+\u001B[39m measure\n\u001B[0;32m---> 26\u001B[0m title \u001B[38;5;241m=\u001B[39m classifier_type_dict[arr_key] \u001B[38;5;241m+\u001B[39m \u001B[38;5;124m'\u001B[39m\u001B[38;5;124m \u001B[39m\u001B[38;5;124m'\u001B[39m \u001B[38;5;241m+\u001B[39m \u001B[43mnoise_type_dict\u001B[49m\u001B[43m[\u001B[49m\u001B[43mnoise\u001B[49m\u001B[43m]\u001B[49m\n\u001B[1;32m     28\u001B[0m plt\u001B[38;5;241m.\u001B[39mfigure(figsize\u001B[38;5;241m=\u001B[39m(\u001B[38;5;241m10\u001B[39m, \u001B[38;5;241m6\u001B[39m))\n\u001B[1;32m     29\u001B[0m sns\u001B[38;5;241m.\u001B[39mbarplot(x\u001B[38;5;241m=\u001B[39m\u001B[38;5;124m'\u001B[39m\u001B[38;5;124mSNR\u001B[39m\u001B[38;5;124m'\u001B[39m, y\u001B[38;5;241m=\u001B[39mmeasure, hue\u001B[38;5;241m=\u001B[39m\u001B[38;5;124m'\u001B[39m\u001B[38;5;124mmodel\u001B[39m\u001B[38;5;124m'\u001B[39m, data\u001B[38;5;241m=\u001B[39mcurr_df_noise, errorbar\u001B[38;5;241m=\u001B[39m\u001B[38;5;28;01mNone\u001B[39;00m)\n",
      "\u001B[0;31mKeyError\u001B[0m: 'Gaussian Noise'"
     ]
    }
   ],
   "source": [
    "import seaborn as sns\n",
    "import matplotlib.pyplot as plt\n",
    "\n",
    "classifier_type_dict = {\n",
    "    'classification_annotations': 'Annotations',\n",
    "    'classification_buffer': 'Buffer',\n",
    "    'classification_annotations_valg': 'Viterbi',\n",
    "    'classification_buffer_valg': 'Viterbi Buffer'\n",
    "}\n",
    "\n",
    "noise_type_dict = {\n",
    "    'GaussNoise': 'Gaussian Noise',\n",
    "    'RealNoise UNDER WATER DRONE': 'Under Water Drone'\n",
    "}\n",
    "\n",
    "measure = 'ACC'\n",
    "\n",
    "for arr_key in df_array:\n",
    "    curr_df = df_array[arr_key]\n",
    "    print('saving plots for:', arr_key)\n",
    "    for noise in curr_df['noise'].unique():\n",
    "        if noise != 'None':\n",
    "            print(noise)\n",
    "            curr_df_noise = curr_df[(curr_df['noise'] == noise)]\n",
    "            save_key = arr_key + '_' + noise + '_' + measure\n",
    "            title = classifier_type_dict[arr_key] + ' ' + noise_type_dict[noise]\n",
    "\n",
    "            plt.figure(figsize=(10, 6))\n",
    "            sns.barplot(x='SNR', y=measure, hue='model', data=curr_df_noise, errorbar=None)\n",
    "\n",
    "            # Customize the plot\n",
    "            plt.title(title + ' ' + measure + ' vs SNR')\n",
    "            plt.xlabel('SNR')\n",
    "            plt.ylabel('Time')\n",
    "            plt.legend(title='Model Type')\n",
    "            new_dir = config.basedir + '//bar_plots//' + arr_key\n",
    "            utils.create_directory_if_not_exists(new_dir, False)\n",
    "            plt.savefig(new_dir + '//' + save_key + '.png')\n",
    "            # Show the plot\n",
    "            plt.show()\n"
   ]
  },
  {
   "cell_type": "code",
   "execution_count": null,
   "metadata": {},
   "outputs": [],
   "source": []
  }
 ],
 "metadata": {
  "kernelspec": {
   "display_name": "Python 3 (ipykernel)",
   "language": "python",
   "name": "python3"
  },
  "language_info": {
   "codemirror_mode": {
    "name": "ipython",
    "version": 3
   },
   "file_extension": ".py",
   "mimetype": "text/x-python",
   "name": "python",
   "nbconvert_exporter": "python",
   "pygments_lexer": "ipython3",
   "version": "3.10.8"
  }
 },
 "nbformat": 4,
 "nbformat_minor": 1
}
