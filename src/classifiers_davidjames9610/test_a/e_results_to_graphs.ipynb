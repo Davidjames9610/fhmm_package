{
 "cells": [
  {
   "cell_type": "code",
   "execution_count": 3,
   "metadata": {
    "collapsed": true
   },
   "outputs": [],
   "source": [
    "import sys\n",
    "\n",
    "import numpy as np\n",
    "\n",
    "sys.path.append(\"/Users/david/Documents/code/fhmm/v1\")"
   ]
  },
  {
   "cell_type": "code",
   "execution_count": 7,
   "outputs": [
    {
     "name": "stdout",
     "output_type": "stream",
     "text": [
      "/Users/david/Documents/code/fhmm/v1/src/classifiers_davidjames9610/test_a/speech_commands\n"
     ]
    }
   ],
   "source": [
    "from importlib import reload\n",
    "from src.classifiers_davidjames9610.test_a.config import config_location\n",
    "import importlib\n",
    "import src.classifiers_davidjames9610.test_a.config as base_config\n",
    "reload(base_config)\n",
    "config = importlib.import_module(base_config.config_location)\n",
    "reload(config)\n",
    "print(config.basedir)\n",
    "import pandas as pd\n",
    "import time"
   ],
   "metadata": {
    "collapsed": false
   }
  },
  {
   "cell_type": "code",
   "execution_count": 5,
   "outputs": [],
   "source": [
    "import pickle\n",
    "import d_classifiers_to_results\n",
    "reload(d_classifiers_to_results)\n",
    "\n",
    "sls = pickle.load(open(config.samples_labels,'rb'))\n",
    "features = pickle.load(open(config.features,'rb'))\n",
    "classifiers = pickle.load(open(config.classifiers,'rb'))\n",
    "results = pickle.load(open(config.results,'rb'))\n"
   ],
   "metadata": {
    "collapsed": false
   }
  },
  {
   "cell_type": "code",
   "execution_count": 25,
   "outputs": [],
   "source": [
    "import src.misc_davidjames9610.utils as utils\n",
    "reload(utils)\n",
    "\n",
    "# plot grouped bar graph\n",
    "\n",
    "stat_type = 'ACC'\n",
    "features_to_include = ['lp', 'lp_GaussNoise_SNR20', 'lp_GaussNoise_SNR40']\n",
    "cols_order = ['model','feature', 'SNR', 'Noise','ACC', 'PPV', 'TPR', 'TNR', 'FPR', 'FNR', 'NPV', 'FDR']\n",
    "df_array = {}\n",
    "\n",
    "for result_key in results:\n",
    "    curr_results = results[result_key]\n",
    "    row_array = []\n",
    "    for classifier_key in curr_results:\n",
    "        if not classifier_key.__contains__('time'):\n",
    "            curr_classifier = curr_results[classifier_key]\n",
    "            for feature in curr_classifier:\n",
    "                curr_cm = curr_classifier[feature]\n",
    "                curr_stats = curr_classifier[feature]['stats']\n",
    "                row = curr_stats.copy()\n",
    "                row['model'] = classifier_key\n",
    "                row['feature'] = feature.split('_')[0]\n",
    "                if len(feature.split('_')) > 1:\n",
    "                    row['SNR'] = feature.split('_')[-1].replace('SNR','')\n",
    "                    row['Noise'] = ' '.join(feature.split('_')[1:-1])\n",
    "                else:\n",
    "                    row['SNR'] = 'None'\n",
    "                    row['Noise'] = 'None'\n",
    "                row_array.append(row)\n",
    "    curr_df = pd.DataFrame(row_array)\n",
    "    curr_df = curr_df[cols_order]\n",
    "    curr_df = curr_df.sort_values(['Noise', 'SNR','model'], ascending=[True, False, True]).copy()\n",
    "    # re-order any None to top\n",
    "    rows_to_move = curr_df[curr_df['Noise'] == 'None']\n",
    "    rest_of_df = curr_df[curr_df['Noise'] != 'None']\n",
    "    df_array[result_key] = pd.concat([rows_to_move, rest_of_df])"
   ],
   "metadata": {
    "collapsed": false
   }
  },
  {
   "cell_type": "code",
   "execution_count": 16,
   "outputs": [],
   "source": [
    "results_df = pd.DataFrame(row_array)"
   ],
   "metadata": {
    "collapsed": false
   }
  },
  {
   "cell_type": "code",
   "execution_count": 18,
   "outputs": [],
   "source": [
    "results_df = results_df.sort_values(['Noise', 'SNR','model']).copy()"
   ],
   "metadata": {
    "collapsed": false
   }
  },
  {
   "cell_type": "code",
   "execution_count": 19,
   "outputs": [],
   "source": [
    "results_gauss_noise_df = results_df[results_df['Noise'] == 'GaussNoise']\n",
    "results_real_noise_df = results_df[results_df['Noise'] == 'GaussNoise']"
   ],
   "metadata": {
    "collapsed": false
   }
  },
  {
   "cell_type": "code",
   "execution_count": null,
   "outputs": [],
   "source": [],
   "metadata": {
    "collapsed": false
   }
  }
 ],
 "metadata": {
  "kernelspec": {
   "display_name": "Python 3",
   "language": "python",
   "name": "python3"
  },
  "language_info": {
   "codemirror_mode": {
    "name": "ipython",
    "version": 2
   },
   "file_extension": ".py",
   "mimetype": "text/x-python",
   "name": "python",
   "nbconvert_exporter": "python",
   "pygments_lexer": "ipython2",
   "version": "2.7.6"
  }
 },
 "nbformat": 4,
 "nbformat_minor": 0
}
