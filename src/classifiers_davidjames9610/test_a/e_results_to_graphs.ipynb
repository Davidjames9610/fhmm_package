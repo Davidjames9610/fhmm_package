{
 "cells": [
  {
   "cell_type": "code",
   "execution_count": 12,
   "metadata": {},
   "outputs": [],
   "source": [
    "import sys\n",
    "import numpy as np\n",
    "sys.path.append(\"/Users/david/Documents/code/fhmm/v1\")"
   ]
  },
  {
   "cell_type": "code",
   "execution_count": 13,
   "metadata": {},
   "outputs": [
    {
     "name": "stdout",
     "output_type": "stream",
     "text": [
      "/Users/david/Documents/code/fhmm/v1/src/classifiers_davidjames9610/test_a/whale_data\n"
     ]
    }
   ],
   "source": [
    "from importlib import reload\n",
    "from src.classifiers_davidjames9610.test_a.config import config_location\n",
    "import importlib\n",
    "import src.classifiers_davidjames9610.test_a.config as base_config\n",
    "reload(base_config)\n",
    "config = importlib.import_module(base_config.config_location)\n",
    "reload(config)\n",
    "print(config.basedir)\n",
    "import pandas as pd\n",
    "import time"
   ]
  },
  {
   "cell_type": "code",
   "execution_count": 14,
   "metadata": {},
   "outputs": [
    {
     "name": "stdout",
     "output_type": "stream",
     "text": [
      "loading lp_GaussNoise_SNR20.pickle\n",
      "loading mfcc_GaussNoise_SNR60.pickle\n",
      "loading mfcc_GaussNoise_SNR40.pickle\n",
      "loading lp_GaussNoise_SNR10.pickle\n",
      "loading mfcc_RealNoise_UNDER_WATER_DRONE_SNR0.pickle\n",
      "loading mfcc_None_None.pickle\n",
      "loading mfcc_RealNoise_UNDER_WATER_DRONE_SNR20.pickle\n",
      "loading mfcc_RealNoise_UNDER_WATER_DRONE_SNR-10.pickle\n",
      "loading lp_RealNoise_UNDER_WATER_DRONE_SNR0.pickle\n",
      "loading lp_None_None.pickle\n",
      "loading lp_GaussNoise_SNR40.pickle\n",
      "loading lp_RealNoise_UNDER_WATER_DRONE_SNR-10.pickle\n",
      "loading mfcc_GaussNoise_SNR10.pickle\n",
      "loading lp_RealNoise_UNDER_WATER_DRONE_SNR10.pickle\n",
      "loading lp_GaussNoise_SNR60.pickle\n",
      "loading mfcc_RealNoise_UNDER_WATER_DRONE_SNR10.pickle\n",
      "loading mfcc_GaussNoise_SNR20.pickle\n",
      "loading lp_RealNoise_UNDER_WATER_DRONE_SNR20.pickle\n",
      "loading GMMHMM.pickle\n",
      "loading GaussianHMM.pickle\n",
      "loading fhmm.pickle\n"
     ]
    }
   ],
   "source": [
    "import pickle\n",
    "import d_classifiers_to_results\n",
    "reload(d_classifiers_to_results)\n",
    "import src.misc_davidjames9610.utils as utils\n",
    "reload(utils)\n",
    "\n",
    "sls = pickle.load(open(config.samples_labels,'rb'))\n",
    "features = utils.folder_pickles_to_dict(config.basedir + '/features')\n",
    "classifiers = utils.folder_pickles_to_dict(config.basedir + '/classifiers')\n"
   ]
  },
  {
   "cell_type": "code",
   "execution_count": 15,
   "outputs": [],
   "source": [
    "! find . -name \".DS_Store\" -type f -delete"
   ],
   "metadata": {
    "collapsed": false
   }
  },
  {
   "cell_type": "code",
   "execution_count": 16,
   "metadata": {},
   "outputs": [
    {
     "name": "stdout",
     "output_type": "stream",
     "text": [
      "loading lp_GaussNoise_SNR20.pickle\n",
      "loading lp_GaussNoise_SNR10.pickle\n",
      "loading lp_RealNoise_UNDER_WATER_DRONE_SNR0.pickle\n",
      "loading lp_GaussNoise_SNR40.pickle\n",
      "loading lp_RealNoise_UNDER_WATER_DRONE_SNR-10.pickle\n",
      "loading lp_RealNoise_UNDER_WATER_DRONE_SNR10.pickle\n",
      "loading lp_GaussNoise_SNR60.pickle\n",
      "loading lp_RealNoise_UNDER_WATER_DRONE_SNR20.pickle\n",
      "loading lp_GaussNoise_SNR20.pickle\n",
      "loading lp_GaussNoise_SNR10.pickle\n",
      "loading lp_RealNoise_UNDER_WATER_DRONE_SNR0.pickle\n",
      "loading lp_None_None.pickle\n",
      "loading lp_GaussNoise_SNR40.pickle\n",
      "loading lp_RealNoise_UNDER_WATER_DRONE_SNR-10.pickle\n",
      "loading lp_RealNoise_UNDER_WATER_DRONE_SNR10.pickle\n",
      "loading lp_GaussNoise_SNR60.pickle\n",
      "loading lp_RealNoise_UNDER_WATER_DRONE_SNR20.pickle\n",
      "loading mfcc_GaussNoise_SNR60.pickle\n",
      "loading mfcc_GaussNoise_SNR40.pickle\n",
      "loading mfcc_RealNoise_UNDER_WATER_DRONE_SNR0.pickle\n",
      "loading mfcc_None_None.pickle\n",
      "loading mfcc_RealNoise_UNDER_WATER_DRONE_SNR20.pickle\n",
      "loading mfcc_RealNoise_UNDER_WATER_DRONE_SNR-10.pickle\n",
      "loading mfcc_GaussNoise_SNR10.pickle\n",
      "loading mfcc_RealNoise_UNDER_WATER_DRONE_SNR10.pickle\n",
      "loading mfcc_GaussNoise_SNR20.pickle\n",
      "Directory '/Users/david/Documents/code/fhmm/v1/src/classifiers_davidjames9610/test_a/whale_data//csvs' already exists, removing old files:  False\n",
      "loading lp_GaussNoise_SNR20.pickle\n",
      "loading lp_GaussNoise_SNR10.pickle\n",
      "loading lp_RealNoise_UNDER_WATER_DRONE_SNR0.pickle\n",
      "loading lp_GaussNoise_SNR40.pickle\n",
      "loading lp_RealNoise_UNDER_WATER_DRONE_SNR-10.pickle\n",
      "loading lp_RealNoise_UNDER_WATER_DRONE_SNR10.pickle\n",
      "loading lp_GaussNoise_SNR60.pickle\n",
      "loading lp_RealNoise_UNDER_WATER_DRONE_SNR20.pickle\n",
      "loading lp_GaussNoise_SNR20.pickle\n",
      "loading lp_GaussNoise_SNR10.pickle\n",
      "loading lp_RealNoise_UNDER_WATER_DRONE_SNR0.pickle\n",
      "loading lp_None_None.pickle\n",
      "loading lp_GaussNoise_SNR40.pickle\n",
      "loading lp_RealNoise_UNDER_WATER_DRONE_SNR-10.pickle\n",
      "loading lp_RealNoise_UNDER_WATER_DRONE_SNR10.pickle\n",
      "loading lp_GaussNoise_SNR60.pickle\n",
      "loading lp_RealNoise_UNDER_WATER_DRONE_SNR20.pickle\n",
      "loading mfcc_GaussNoise_SNR60.pickle\n",
      "loading mfcc_GaussNoise_SNR40.pickle\n",
      "loading mfcc_RealNoise_UNDER_WATER_DRONE_SNR0.pickle\n",
      "loading mfcc_None_None.pickle\n",
      "loading mfcc_RealNoise_UNDER_WATER_DRONE_SNR20.pickle\n",
      "loading mfcc_RealNoise_UNDER_WATER_DRONE_SNR-10.pickle\n",
      "loading mfcc_GaussNoise_SNR10.pickle\n",
      "loading mfcc_RealNoise_UNDER_WATER_DRONE_SNR10.pickle\n",
      "loading mfcc_GaussNoise_SNR20.pickle\n",
      "Directory '/Users/david/Documents/code/fhmm/v1/src/classifiers_davidjames9610/test_a/whale_data//csvs' already exists, removing old files:  False\n"
     ]
    }
   ],
   "source": [
    "import os\n",
    "# dataframes_arrays = {}\n",
    "# dataframe = {}\n",
    "cols_order = ['model','feature', 'SNR', 'noise', 'time', 'acc', 'precision', 'recall']\n",
    "df_array = {}\n",
    "\n",
    "classifier_approaches = (\n",
    "'classification_annotations',\n",
    "# 'classification_buffer',\n",
    "'classification_annotations_valg',\n",
    "# 'classification_buffer_valg'\n",
    ")\n",
    "\n",
    "for classifier_approach in os.listdir(config.basedir + '/results'):\n",
    "    if classifier_approach in classifier_approaches:\n",
    "        row_array = []\n",
    "        approach_approach_path = os.path.join(config.basedir + '/results', classifier_approach)\n",
    "        for classifier_type in os.listdir(approach_approach_path):\n",
    "            classifier_type_path = os.path.join(approach_approach_path, classifier_type)\n",
    "            classifier_results = utils.folder_pickles_to_dict(classifier_type_path)\n",
    "            for feature_key in classifier_results:\n",
    "                curr_stats = classifier_results[feature_key]['stats']\n",
    "\n",
    "                row = curr_stats.copy()\n",
    "                row['model'] = classifier_type\n",
    "                row['feature'] = feature_key.split('_')[0]\n",
    "                if len(feature_key.split('_')) > 1:\n",
    "                    snr = feature_key.split('_')[-1].replace('SNR','')\n",
    "                    if snr != 'None':\n",
    "                        snr = int(snr)\n",
    "                        row['SNR'] = snr\n",
    "                    row['noise'] = ' '.join(feature_key.split('_')[1:-1])\n",
    "                row['time'] = classifier_results[feature_key]['time']\n",
    "                row_array.append(row)\n",
    "        curr_df = pd.DataFrame(row_array)\n",
    "        curr_df = curr_df[cols_order]\n",
    "        curr_df = curr_df.sort_values(['noise', 'SNR','model'], ascending=[True, True, True]).copy()\n",
    "        # re-order any None to top\n",
    "        rows_to_move = curr_df[curr_df['noise'] == 'None']\n",
    "        rest_of_df = curr_df[curr_df['noise'] != 'None']\n",
    "        df_rounded = pd.concat([rows_to_move, rest_of_df])\n",
    "        df_rounded = df_rounded.round(decimals=3).copy()\n",
    "        df_replaced_values = df_rounded.replace({'GaussNoise': 'Gaussian Noise', 'RealNoise UNDER WATER DRONE': 'Real Noise', 'lp': 'log-power', 'fhmm': 'FHMM'})\n",
    "\n",
    "        df_array[classifier_approach] = df_replaced_values\n",
    "        new_dir = config.basedir + '//csvs'\n",
    "        utils.create_directory_if_not_exists(new_dir, False)\n",
    "\n",
    "        df_array[classifier_approach].to_csv(new_dir + '//' + classifier_approach + '.csv')\n",
    "\n",
    "# find . -name \".DS_Store\" -type f -delete"
   ]
  },
  {
   "cell_type": "markdown",
   "source": [
    "$ PPV = TP / (TP + FP) $\n",
    "$ TPR = TP / (TP + FN) $"
   ],
   "metadata": {
    "collapsed": false
   }
  },
  {
   "cell_type": "code",
   "execution_count": 5,
   "metadata": {
    "pycharm": {
     "name": "#%%    \n"
    }
   },
   "outputs": [
    {
     "name": "stdout",
     "output_type": "stream",
     "text": [
      "Directory '/Users/david/Documents/code/fhmm/v1/src/classifiers_davidjames9610/test_a/speech_commands//csvs' already exists, removing old files:  False\n",
      "Directory '/Users/david/Documents/code/fhmm/v1/src/classifiers_davidjames9610/test_a/speech_commands//csvs' already exists, removing old files:  False\n",
      "Directory '/Users/david/Documents/code/fhmm/v1/src/classifiers_davidjames9610/test_a/speech_commands//csvs' already exists, removing old files:  False\n",
      "Directory '/Users/david/Documents/code/fhmm/v1/src/classifiers_davidjames9610/test_a/speech_commands//csvs' already exists, removing old files:  False\n"
     ]
    }
   ],
   "source": [
    "# save as csvs\n",
    "# for key in df_array:\n",
    "#     new_dir = config.basedir + '//csvs'\n",
    "#     utils.create_directory_if_not_exists(new_dir, False)\n",
    "#     df_array[key].to_csv(new_dir + '//' + key + '.csv')"
   ]
  },
  {
   "cell_type": "code",
   "execution_count": 18,
   "metadata": {},
   "outputs": [
    {
     "name": "stdout",
     "output_type": "stream",
     "text": [
      "saving plots for: classification_annotations\n",
      "Gaussian Noise\n",
      "Directory '/Users/david/Documents/code/fhmm/v1/src/classifiers_davidjames9610/test_a/whale_data//bar_plots//classification_annotations' already exists, removing old files:  False\n"
     ]
    },
    {
     "data": {
      "text/plain": "<Figure size 1000x600 with 1 Axes>",
      "image/png": "[encoded data removed]"
     },
     "metadata": {},
     "output_type": "display_data"
    },
    {
     "name": "stdout",
     "output_type": "stream",
     "text": [
      "Real Noise\n",
      "Directory '/Users/david/Documents/code/fhmm/v1/src/classifiers_davidjames9610/test_a/whale_data//bar_plots//classification_annotations' already exists, removing old files:  False\n"
     ]
    },
    {
     "data": {
      "text/plain": "<Figure size 1000x600 with 1 Axes>",
      "image/png": "[encoded data removed]"
     },
     "metadata": {},
     "output_type": "display_data"
    }
   ],
   "source": [
    "import seaborn as sns\n",
    "import matplotlib.pyplot as plt\n",
    "\n",
    "classifier_type_dict = {\n",
    "    'classification_annotations': 'Annotations',\n",
    "    # 'classification_buffer': 'Buffer',\n",
    "    # 'classification_annotations_valg': 'Viterbi',\n",
    "    # 'classification_buffer_valg': 'Viterbi Buffer'\n",
    "}\n",
    "\n",
    "noise_type_dict = {\n",
    "    'GaussNoise': 'Gaussian Noise',\n",
    "    'RealNoise UNDER WATER DRONE': 'Under Water Drone'\n",
    "}\n",
    "\n",
    "measure = 'acc'\n",
    "\n",
    "for arr_key in df_array:\n",
    "    if arr_key in classifier_type_dict:\n",
    "        curr_df = df_array[arr_key]\n",
    "        print('saving plots for:', arr_key)\n",
    "        for noise in curr_df['noise'].unique():\n",
    "            if noise != 'None':\n",
    "                print(noise)\n",
    "                curr_df_noise = curr_df[(curr_df['noise'] == noise)]\n",
    "                save_key = arr_key + '_' + noise + '_' + measure\n",
    "                title = classifier_type_dict[arr_key] + ' ' + noise\n",
    "\n",
    "                plt.figure(figsize=(10, 6))\n",
    "                sns.barplot(x='SNR', y=measure, hue='model', data=curr_df_noise, errorbar=None)\n",
    "\n",
    "                # Customize the plot\n",
    "                plt.title(title + ' ' + measure + ' vs SNR')\n",
    "                plt.xlabel('SNR')\n",
    "                plt.ylabel('Time')\n",
    "                plt.legend(title='Model Type')\n",
    "                new_dir = config.basedir + '//bar_plots//' + arr_key\n",
    "                utils.create_directory_if_not_exists(new_dir, False)\n",
    "                plt.savefig(new_dir + '//' + save_key + '.png')\n",
    "                # Show the plot\n",
    "                plt.show()\n"
   ]
  },
  {
   "cell_type": "code",
   "execution_count": null,
   "metadata": {},
   "outputs": [],
   "source": []
  }
 ],
 "metadata": {
  "kernelspec": {
   "display_name": "Python 3 (ipykernel)",
   "language": "python",
   "name": "python3"
  },
  "language_info": {
   "codemirror_mode": {
    "name": "ipython",
    "version": 3
   },
   "file_extension": ".py",
   "mimetype": "text/x-python",
   "name": "python",
   "nbconvert_exporter": "python",
   "pygments_lexer": "ipython3",
   "version": "3.10.8"
  }
 },
 "nbformat": 4,
 "nbformat_minor": 1
}
