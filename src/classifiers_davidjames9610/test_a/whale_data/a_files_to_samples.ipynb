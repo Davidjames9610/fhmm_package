{
 "cells": [
  {
   "cell_type": "code",
   "execution_count": 6,
   "metadata": {
    "collapsed": true
   },
   "outputs": [],
   "source": [
    "import sys\n",
    "sys.path.append(\"/Users/david/Documents/code/fhmm/v1\")"
   ]
  },
  {
   "cell_type": "code",
   "execution_count": 19,
   "outputs": [],
   "source": [
    "from importlib import reload\n",
    "\n",
    "import src.ads_davidjames9610.ads as myads\n",
    "\n",
    "from collections import Counter\n",
    "import numpy as np\n",
    "import librosa\n",
    "import matplotlib.pyplot as plt\n",
    "import os.path\n",
    "\n",
    "import pandas as pd\n",
    "import src.misc_davidjames9610.get_data as get_data\n",
    "import src.misc_davidjames9610.annotations as annot\n",
    "import src.misc_davidjames9610.proc_methods as proc\n",
    "from constants import *\n",
    "import importlib\n",
    "importlib.reload(get_data)\n",
    "importlib.reload(annot)\n",
    "\n",
    "from python_speech_features import mfcc, delta\n",
    "from spafe.utils import vis\n",
    "\n",
    "import IPython\n",
    "from scipy.io import wavfile"
   ],
   "metadata": {
    "collapsed": false
   }
  },
  {
   "cell_type": "code",
   "execution_count": 20,
   "outputs": [],
   "source": [
    "# from whale.setup import get_data, const, annotations\n",
    "# import importlib\n",
    "# importlib.reload(const)\n",
    "\n",
    "importlib.reload(get_data)\n",
    "\n",
    "# const for fe and what not\n",
    "fs = 4000\n",
    "\n",
    "labels_set = [HUMPBACK, SOUTHERN_RIGHT_WHALE, BRYDES, BOWHEAD, SPERM, NOISE] #, HUMPBACK_B, BOWHEAD, NOISE]\n",
    "num_to_label = {i: labels_set[i] for i in range(len(labels_set))}\n",
    "label_to_num = {labels_set[i] : i for i in range(len(labels_set))}\n",
    "\n",
    "get_data_dict = {\n",
    "    HUMPBACK: [get_data.GetDataSimple(HPB_WTK_DATA,HPB_WTK_LABEL_ALL, fs, proc.file_to_audio)],\n",
    "    SOUTHERN_RIGHT_WHALE: [get_data.GetDataSimple(SRW_WTK_DATA,SRW_WTK_LABEL, fs, proc.file_to_audio)],\n",
    "    BRYDES: [get_data.GetDataSimple(BRD_VRS_DATA,BRD_VRS_LABEL, fs, proc.file_to_audio)],\n",
    "    BOWHEAD: [get_data.GetDataSimple(BWH_YTD_DATA,BWH_YTD_LABEL, fs, proc.file_to_audio)],\n",
    "    SPERM: [get_data.GetDataSimple(SPM_WTK_DATA_0,SPM_WTK_LABEL_0, fs, proc.file_to_audio),\n",
    "            get_data.GetDataSimple(SPM_WTK_DATA_1,SPM_WTK_LABEL_1, fs, proc.file_to_audio),\n",
    "            get_data.GetDataSimple(SPM_WTK_DATA_2,SPM_WTK_LABEL_2, fs, proc.file_to_audio)],\n",
    "    NOISE: [get_data.GetDataSimple(BRD_VRS_DATA,BRD_VRS_NOISE, fs, proc.file_to_audio),\n",
    "            get_data.GetDataSimple(HPB_MBY_DATA,HPB_MBY_NOISE, fs, proc.file_to_audio)]\n",
    "}"
   ],
   "metadata": {
    "collapsed": false
   }
  },
  {
   "cell_type": "code",
   "execution_count": 21,
   "outputs": [
    {
     "name": "stdout",
     "output_type": "stream",
     "text": [
      "__collected samples__\n",
      "HPB :  76\n",
      "SRW :  63\n",
      "BRD :  40\n",
      "BWH :  38\n",
      "SPM :  33\n",
      "NOISE :  55\n"
     ]
    }
   ],
   "source": [
    "samples, labels = get_data.get_samples(get_data_dict, labels_set, label_to_num)"
   ],
   "metadata": {
    "collapsed": false
   }
  },
  {
   "cell_type": "code",
   "execution_count": 22,
   "outputs": [],
   "source": [
    "import pickle\n",
    "pickle.dump({\n",
    "    'samples': samples,\n",
    "    'labels': labels,\n",
    "    'labels_set': labels_set,\n",
    "    'num_to_label': num_to_label,\n",
    "    'label_to_num': label_to_num,\n",
    "    'fs': fs\n",
    "}, open('samples_labels.pickle','wb'))"
   ],
   "metadata": {
    "collapsed": false
   }
  },
  {
   "cell_type": "code",
   "execution_count": null,
   "outputs": [],
   "source": [],
   "metadata": {
    "collapsed": false
   }
  }
 ],
 "metadata": {
  "kernelspec": {
   "display_name": "Python 3",
   "language": "python",
   "name": "python3"
  },
  "language_info": {
   "codemirror_mode": {
    "name": "ipython",
    "version": 2
   },
   "file_extension": ".py",
   "mimetype": "text/x-python",
   "name": "python",
   "nbconvert_exporter": "python",
   "pygments_lexer": "ipython2",
   "version": "2.7.6"
  }
 },
 "nbformat": 4,
 "nbformat_minor": 0
}
