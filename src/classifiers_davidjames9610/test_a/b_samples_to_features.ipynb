{
 "cells": [
  {
   "cell_type": "code",
   "execution_count": 1,
   "outputs": [],
   "source": [
    "# the aim is to end up with train, test, evaluate\n",
    "import sys\n",
    "sys.path.append(\"/Users/david/Documents/code/fhmm/v1\")"
   ],
   "metadata": {
    "collapsed": false
   }
  },
  {
   "cell_type": "code",
   "execution_count": 2,
   "outputs": [
    {
     "name": "stdout",
     "output_type": "stream",
     "text": [
      "/Users/david/Documents/code/fhmm/v1/src/classifiers_davidjames9610/test_a/whale_data\n"
     ]
    }
   ],
   "source": [
    "import src.ads_davidjames9610.ads as ads\n",
    "import src.ads_davidjames9610.useful as useful\n",
    "import numpy as np\n",
    "import os\n",
    "import os.path\n",
    "from pathlib import Path\n",
    "import matplotlib.pyplot as plt\n",
    "from importlib import reload\n",
    "import importlib\n",
    "import src.classifiers_davidjames9610.test_a.config as base_config\n",
    "reload(base_config)\n",
    "config = importlib.import_module(base_config.config_location)\n",
    "reload(config)\n",
    "print(config.basedir)\n",
    "import src.misc_davidjames9610.fe_methods as fe\n",
    "import src.misc_davidjames9610.proc_methods as pm"
   ],
   "metadata": {
    "collapsed": false
   }
  },
  {
   "cell_type": "markdown",
   "source": [
    "\"\"\"\n",
    "we want to end up with this\n",
    "\n",
    "    section 2, samples to features,\n",
    "    -- choose fe_method,\n",
    "    -- noise and reverb, apply to test / evaluate before fe method,\n",
    "\n",
    "    select fe_methods,\n",
    "    -- this point also is important for choosing cross-validation, and train-test-eval split\n",
    "    - fe_methods = ['mfcc', 'log-power', 'lfcc']\n",
    "    - select noise or reverb to be applied to eval and test\n",
    "    - post_proc = ['noise', 'reverb']\n",
    "\n",
    "    -- labels don't change\n",
    "\n",
    "    features = {\n",
    "        'mfcc':\n",
    "            'train': [],\n",
    "            'train_labels': [cv_index_0] [cv_index_1]\n",
    "            'test': [],\n",
    "            'test_labels': []   // test and eval will need different process method if noise is being added\n",
    "            'eval': [],\n",
    "            'eval_labels': []\n",
    "        'lfcc':\n",
    "            ...\n",
    "    }\n",
    "\"\"\""
   ],
   "metadata": {
    "collapsed": false
   }
  },
  {
   "cell_type": "code",
   "execution_count": 3,
   "outputs": [],
   "source": [
    "import pickle\n",
    "sls = pickle.load(open(config.samples_labels,'rb'))"
   ],
   "metadata": {
    "collapsed": false
   }
  },
  {
   "cell_type": "code",
   "execution_count": null,
   "outputs": [],
   "source": [
    "# going to have to do fe after cross-validation split\n",
    "import src.misc_davidjames9610.cross_validation as cv\n",
    "from src.misc_davidjames9610.cross_validation import *\n",
    "import importlib\n",
    "importlib.reload(cv)\n",
    "import b_samples_to_features\n",
    "reload(b_samples_to_features)\n",
    "import src.misc_davidjames9610.noisey as noisey\n",
    "reload(noisey)\n",
    "import random\n",
    "\n",
    "# define config things\n",
    "n_folds = 2\n",
    "cv_output = cv.split_data_for_cross_validation(sls['samples'], sls['labels'], n_folds) # , test_ratio=0.8) # could update test ratio to\n",
    "signal_average_power = b_samples_to_features.get_average_power_for_samples(cv_output)\n",
    "signal_average_power_db = 10 * np.log10(signal_average_power)\n",
    "max_sample_length = np.max([len(sample) for sample in sls['samples']])\n"
   ],
   "metadata": {
    "collapsed": false
   }
  },
  {
   "cell_type": "code",
   "execution_count": null,
   "outputs": [],
   "source": [
    "from src.misc_davidjames9610.noisey import get_noise_avg_watts\n",
    "import importlib\n",
    "importlib.reload(fe)\n",
    "nfft = 128\n",
    "\n",
    "class ProcessingBase:\n",
    "    def __init__(self, fe_method):\n",
    "        self.fe_method = fe_method\n",
    "    def __str__(self):\n",
    "        return self.fe_method.__str__()\n",
    "    def pre_process(self, sample):\n",
    "        return self.fe_method(sample)\n",
    "    def post_process(self, sample):\n",
    "        return self.fe_method(sample)\n",
    "    def get_noise_feature(self):\n",
    "        pass\n",
    "\n",
    "class ProcessingGaussNoise:\n",
    "    def __init__(self, fe_method, snr, signal_power, sample_len):\n",
    "        self.fe_method = fe_method\n",
    "        self.snr = snr\n",
    "        self.signal_power = signal_power\n",
    "        self.noise_sample = noisey.get_noise_for_sample(sample_len, self.signal_power,self.snr, self.snr, self.snr)\n",
    "\n",
    "    def __str__(self):\n",
    "        return self.fe_method.__str__() + '_GaussNoise_SNR' + str(self.snr)\n",
    "    def pre_process(self, sample):\n",
    "        return self.fe_method(sample)\n",
    "    def post_process(self, sample):\n",
    "        sample = self.noise_sample[:len(sample)] + sample\n",
    "        return self.fe_method(sample)\n",
    "    def get_noise_feature(self):\n",
    "        return self.fe_method(self.noise_sample)\n",
    "\n",
    "class ProcessingRealNoise:\n",
    "    def __init__(self, fe_method, snr, signal_power, sample_len, noise_key):\n",
    "\n",
    "        self.fe_method = fe_method\n",
    "        self.snr = snr\n",
    "        self.signal_power = signal_power\n",
    "        self.noise_key = noise_key\n",
    "\n",
    "        self.noise_sample = b_samples_to_features.get_real_noise_sample(\n",
    "            noise_key=base_config.noise_sound_lib[noise_key], target_snr_db=snr, signal_db=signal_average_power, sample_len=sample_len, sr=config.sr)\n",
    "\n",
    "    def __str__(self):\n",
    "        return self.fe_method.__str__() + '_RealNoise_' + self.noise_key + '_SNR' + str(self.snr)\n",
    "\n",
    "    def pre_process(self, sample):\n",
    "        return self.fe_method(sample)\n",
    "    def post_process(self, sample):\n",
    "        sample = self.noise_sample[:len(sample)] + sample\n",
    "        return self.fe_method(sample)\n",
    "    def get_noise_feature(self):\n",
    "        return self.fe_method(self.noise_sample)\n",
    "\n",
    "class ProcessingGaussNoiseReverb:\n",
    "    # todo finish this somehow\n",
    "    def __init__(self, fe_method, snr, signal_power, sample_len):\n",
    "        self.snr = snr\n",
    "        self.signal_power = signal_power\n",
    "        self.fe_method = fe_method\n",
    "    def __str__(self):\n",
    "        return self.fe_method.__str__() + '_GaussNoise_SNR' + str(self.snr) + '_Reverb'\n",
    "    def pre_process(self, sample):\n",
    "        return self.fe_method(sample)\n",
    "    def post_process(self, sample):\n",
    "        # todo update so Gauss Noise Reverb works\n",
    "        return self.fe_method(sample)\n",
    "    def get_noise_feature(self):\n",
    "        # update\n",
    "        return []\n"
   ],
   "metadata": {
    "collapsed": false
   }
  },
  {
   "cell_type": "code",
   "execution_count": null,
   "outputs": [
    {
     "ename": "KeyboardInterrupt",
     "evalue": "",
     "output_type": "error",
     "traceback": [
      "\u001B[0;31m---------------------------------------------------------------------------\u001B[0m",
      "\u001B[0;31mKeyboardInterrupt\u001B[0m                         Traceback (most recent call last)",
      "Cell \u001B[0;32mIn[9], line 11\u001B[0m\n\u001B[1;32m      1\u001B[0m proc_methods \u001B[38;5;241m=\u001B[39m [\n\u001B[1;32m      2\u001B[0m     \u001B[38;5;66;03m# ProcessingBase(\u001B[39;00m\n\u001B[1;32m      3\u001B[0m     \u001B[38;5;66;03m#     fe_method=fe.FeatureExtractorLogPower(nfft=128)),\u001B[39;00m\n\u001B[1;32m      4\u001B[0m     ProcessingBase(\n\u001B[1;32m      5\u001B[0m         fe_method\u001B[38;5;241m=\u001B[39mfe\u001B[38;5;241m.\u001B[39mFeatureExtractorLogPower(nfft\u001B[38;5;241m=\u001B[39m\u001B[38;5;241m128\u001B[39m)),\n\u001B[1;32m      6\u001B[0m     ProcessingGaussNoise(\n\u001B[1;32m      7\u001B[0m         fe_method\u001B[38;5;241m=\u001B[39mfe\u001B[38;5;241m.\u001B[39mFeatureExtractorLogPower(nfft\u001B[38;5;241m=\u001B[39m\u001B[38;5;241m128\u001B[39m),\n\u001B[1;32m      8\u001B[0m         snr\u001B[38;5;241m=\u001B[39m\u001B[38;5;241m40\u001B[39m,\n\u001B[1;32m      9\u001B[0m         signal_power\u001B[38;5;241m=\u001B[39msignal_average_power,\n\u001B[1;32m     10\u001B[0m         sample_len\u001B[38;5;241m=\u001B[39mmax_sample_length),\n\u001B[0;32m---> 11\u001B[0m     \u001B[43mProcessingGaussNoise\u001B[49m\u001B[43m(\u001B[49m\n\u001B[1;32m     12\u001B[0m \u001B[43m        \u001B[49m\u001B[43mfe_method\u001B[49m\u001B[38;5;241;43m=\u001B[39;49m\u001B[43mfe\u001B[49m\u001B[38;5;241;43m.\u001B[39;49m\u001B[43mFeatureExtractorLogPower\u001B[49m\u001B[43m(\u001B[49m\u001B[43mnfft\u001B[49m\u001B[38;5;241;43m=\u001B[39;49m\u001B[38;5;241;43m128\u001B[39;49m\u001B[43m)\u001B[49m\u001B[43m,\u001B[49m\n\u001B[1;32m     13\u001B[0m \u001B[43m        \u001B[49m\u001B[43msnr\u001B[49m\u001B[38;5;241;43m=\u001B[39;49m\u001B[38;5;241;43m20\u001B[39;49m\u001B[43m,\u001B[49m\n\u001B[1;32m     14\u001B[0m \u001B[43m        \u001B[49m\u001B[43msignal_power\u001B[49m\u001B[38;5;241;43m=\u001B[39;49m\u001B[43msignal_average_power\u001B[49m\u001B[43m,\u001B[49m\n\u001B[1;32m     15\u001B[0m \u001B[43m        \u001B[49m\u001B[43msample_len\u001B[49m\u001B[38;5;241;43m=\u001B[39;49m\u001B[43mmax_sample_length\u001B[49m\u001B[43m)\u001B[49m,\n\u001B[1;32m     16\u001B[0m     ProcessingRealNoise(\n\u001B[1;32m     17\u001B[0m         fe_method\u001B[38;5;241m=\u001B[39mfe\u001B[38;5;241m.\u001B[39mFeatureExtractorLogPower(nfft\u001B[38;5;241m=\u001B[39m\u001B[38;5;241m128\u001B[39m),\n\u001B[1;32m     18\u001B[0m         snr\u001B[38;5;241m=\u001B[39m\u001B[38;5;241m40\u001B[39m,\n\u001B[1;32m     19\u001B[0m         signal_power\u001B[38;5;241m=\u001B[39msignal_average_power,\n\u001B[1;32m     20\u001B[0m         sample_len\u001B[38;5;241m=\u001B[39mmax_sample_length,\n\u001B[1;32m     21\u001B[0m         noise_key\u001B[38;5;241m=\u001B[39m\u001B[38;5;124m'\u001B[39m\u001B[38;5;124mUNDER_WATER_DRONE\u001B[39m\u001B[38;5;124m'\u001B[39m\n\u001B[1;32m     22\u001B[0m         ),\n\u001B[1;32m     23\u001B[0m         ProcessingRealNoise(\n\u001B[1;32m     24\u001B[0m         fe_method\u001B[38;5;241m=\u001B[39mfe\u001B[38;5;241m.\u001B[39mFeatureExtractorLogPower(nfft\u001B[38;5;241m=\u001B[39m\u001B[38;5;241m128\u001B[39m),\n\u001B[1;32m     25\u001B[0m         snr\u001B[38;5;241m=\u001B[39m\u001B[38;5;241m20\u001B[39m,\n\u001B[1;32m     26\u001B[0m         signal_power\u001B[38;5;241m=\u001B[39msignal_average_power,\n\u001B[1;32m     27\u001B[0m         sample_len\u001B[38;5;241m=\u001B[39mmax_sample_length,\n\u001B[1;32m     28\u001B[0m         noise_key\u001B[38;5;241m=\u001B[39m\u001B[38;5;124m'\u001B[39m\u001B[38;5;124mUNDER_WATER_DRONE\u001B[39m\u001B[38;5;124m'\u001B[39m\n\u001B[1;32m     29\u001B[0m         )\n\u001B[1;32m     30\u001B[0m     \u001B[38;5;66;03m# ProcessingGaussNoise(\u001B[39;00m\n\u001B[1;32m     31\u001B[0m     \u001B[38;5;66;03m#     fe_method=fe.FeatureExtractorLogPower(nfft=128),\u001B[39;00m\n\u001B[1;32m     32\u001B[0m     \u001B[38;5;66;03m#     snr=20,\u001B[39;00m\n\u001B[1;32m     33\u001B[0m     \u001B[38;5;66;03m#     signal_power=signal_average_power,\u001B[39;00m\n\u001B[1;32m     34\u001B[0m     \u001B[38;5;66;03m#     sample_len=max_sample_length),\u001B[39;00m\n\u001B[1;32m     35\u001B[0m     \u001B[38;5;66;03m# ProcessingGaussNoise(\u001B[39;00m\n\u001B[1;32m     36\u001B[0m     \u001B[38;5;66;03m#     fe_method=fe.FeatureExtractorLogPower(nfft=128),\u001B[39;00m\n\u001B[1;32m     37\u001B[0m     \u001B[38;5;66;03m#     snr=10,\u001B[39;00m\n\u001B[1;32m     38\u001B[0m     \u001B[38;5;66;03m#     signal_power=signal_average_power,\u001B[39;00m\n\u001B[1;32m     39\u001B[0m     \u001B[38;5;66;03m#     sample_len=max_sample_length),\u001B[39;00m\n\u001B[1;32m     40\u001B[0m \n\u001B[1;32m     41\u001B[0m     \u001B[38;5;66;03m# ProcessingBase(\u001B[39;00m\n\u001B[1;32m     42\u001B[0m     \u001B[38;5;66;03m#     fe_method=fe.FeatureExtractorMfcc(nfft=128, num_ceps=8, fs=config.sr)),\u001B[39;00m\n\u001B[1;32m     43\u001B[0m     \u001B[38;5;66;03m# ProcessingGaussNoise(\u001B[39;00m\n\u001B[1;32m     44\u001B[0m     \u001B[38;5;66;03m#     fe_method=fe.FeatureExtractorMfcc(nfft=128, num_ceps=8, fs=config.sr),\u001B[39;00m\n\u001B[1;32m     45\u001B[0m     \u001B[38;5;66;03m#     snr=60,\u001B[39;00m\n\u001B[1;32m     46\u001B[0m     \u001B[38;5;66;03m#     signal_power=signal_average_power,\u001B[39;00m\n\u001B[1;32m     47\u001B[0m     \u001B[38;5;66;03m#     sample_len=max_sample_length),\u001B[39;00m\n\u001B[1;32m     48\u001B[0m     \u001B[38;5;66;03m#     ProcessingGaussNoise(\u001B[39;00m\n\u001B[1;32m     49\u001B[0m     \u001B[38;5;66;03m#     fe_method=fe.FeatureExtractorMfcc(nfft=128, num_ceps=8, fs=config.sr),\u001B[39;00m\n\u001B[1;32m     50\u001B[0m     \u001B[38;5;66;03m#     snr=40,\u001B[39;00m\n\u001B[1;32m     51\u001B[0m     \u001B[38;5;66;03m#     signal_power=signal_average_power,\u001B[39;00m\n\u001B[1;32m     52\u001B[0m     \u001B[38;5;66;03m#     sample_len=max_sample_length),\u001B[39;00m\n\u001B[1;32m     53\u001B[0m     \u001B[38;5;66;03m#     ProcessingGaussNoise(\u001B[39;00m\n\u001B[1;32m     54\u001B[0m     \u001B[38;5;66;03m#     fe_method=fe.FeatureExtractorMfcc(nfft=128, num_ceps=8, fs=config.sr),\u001B[39;00m\n\u001B[1;32m     55\u001B[0m     \u001B[38;5;66;03m#     snr=20,\u001B[39;00m\n\u001B[1;32m     56\u001B[0m     \u001B[38;5;66;03m#     signal_power=signal_average_power,\u001B[39;00m\n\u001B[1;32m     57\u001B[0m     \u001B[38;5;66;03m#     sample_len=max_sample_length),\u001B[39;00m\n\u001B[1;32m     58\u001B[0m     \u001B[38;5;66;03m#     ProcessingGaussNoise(\u001B[39;00m\n\u001B[1;32m     59\u001B[0m     \u001B[38;5;66;03m#     fe_method=fe.FeatureExtractorMfcc(nfft=128, num_ceps=8, fs=config.sr),\u001B[39;00m\n\u001B[1;32m     60\u001B[0m     \u001B[38;5;66;03m#     snr=10,\u001B[39;00m\n\u001B[1;32m     61\u001B[0m     \u001B[38;5;66;03m#     signal_power=signal_average_power,\u001B[39;00m\n\u001B[1;32m     62\u001B[0m     \u001B[38;5;66;03m#     sample_len=max_sample_length),\u001B[39;00m\n\u001B[1;32m     63\u001B[0m     ]\n\u001B[1;32m     65\u001B[0m \u001B[38;5;28;01mfor\u001B[39;00m proc_method \u001B[38;5;129;01min\u001B[39;00m proc_methods:\n\u001B[1;32m     66\u001B[0m     \u001B[38;5;28mprint\u001B[39m(proc_method\u001B[38;5;241m.\u001B[39m\u001B[38;5;21m__str__\u001B[39m())\n",
      "Cell \u001B[0;32mIn[8], line 23\u001B[0m, in \u001B[0;36mProcessingGaussNoise.__init__\u001B[0;34m(self, fe_method, snr, signal_power, sample_len)\u001B[0m\n\u001B[1;32m     21\u001B[0m \u001B[38;5;28mself\u001B[39m\u001B[38;5;241m.\u001B[39msnr \u001B[38;5;241m=\u001B[39m snr\n\u001B[1;32m     22\u001B[0m \u001B[38;5;28mself\u001B[39m\u001B[38;5;241m.\u001B[39msignal_power \u001B[38;5;241m=\u001B[39m signal_power\n\u001B[0;32m---> 23\u001B[0m \u001B[38;5;28mself\u001B[39m\u001B[38;5;241m.\u001B[39mnoise_sample \u001B[38;5;241m=\u001B[39m \u001B[43mnoisey\u001B[49m\u001B[38;5;241;43m.\u001B[39;49m\u001B[43mget_noise_for_sample\u001B[49m\u001B[43m(\u001B[49m\u001B[43msample_len\u001B[49m\u001B[43m,\u001B[49m\u001B[43m \u001B[49m\u001B[38;5;28;43mself\u001B[39;49m\u001B[38;5;241;43m.\u001B[39;49m\u001B[43msignal_power\u001B[49m\u001B[43m,\u001B[49m\u001B[38;5;28;43mself\u001B[39;49m\u001B[38;5;241;43m.\u001B[39;49m\u001B[43msnr\u001B[49m\u001B[43m,\u001B[49m\u001B[43m \u001B[49m\u001B[38;5;28;43mself\u001B[39;49m\u001B[38;5;241;43m.\u001B[39;49m\u001B[43msnr\u001B[49m\u001B[43m,\u001B[49m\u001B[43m \u001B[49m\u001B[38;5;28;43mself\u001B[39;49m\u001B[38;5;241;43m.\u001B[39;49m\u001B[43msnr\u001B[49m\u001B[43m)\u001B[49m\n",
      "File \u001B[0;32m~/Documents/code/fhmm/v1/src/misc_davidjames9610/noisey.py:110\u001B[0m, in \u001B[0;36mget_noise_for_sample\u001B[0;34m(signal_sample_len, sig_db, snr_1, snr_2, snr_3)\u001B[0m\n\u001B[1;32m    107\u001B[0m noise_power_2 \u001B[38;5;241m=\u001B[39m get_noise_power_given_signal_avg_db(sig_db, snr_2)\n\u001B[1;32m    108\u001B[0m noise_power_3 \u001B[38;5;241m=\u001B[39m get_noise_power_given_signal_avg_db(sig_db, snr_3)\n\u001B[0;32m--> 110\u001B[0m noisey_sample, _ \u001B[38;5;241m=\u001B[39m \u001B[43mgenerate_gaussian_noise\u001B[49m\u001B[43m(\u001B[49m\u001B[43msignal_sample_len\u001B[49m\u001B[43m,\u001B[49m\u001B[43m \u001B[49m\u001B[43mnoise_power_1\u001B[49m\u001B[43m,\u001B[49m\u001B[43m \u001B[49m\u001B[43mnoise_power_2\u001B[49m\u001B[43m,\u001B[49m\u001B[43m \u001B[49m\u001B[43mnoise_power_3\u001B[49m\u001B[43m)\u001B[49m\n\u001B[1;32m    111\u001B[0m \u001B[38;5;28;01mreturn\u001B[39;00m noisey_sample\n",
      "File \u001B[0;32m~/Documents/code/fhmm/v1/src/misc_davidjames9610/noisey.py:90\u001B[0m, in \u001B[0;36mgenerate_gaussian_noise\u001B[0;34m(num_samples, power_a, power_b, power_c)\u001B[0m\n\u001B[1;32m     87\u001B[0m model\u001B[38;5;241m.\u001B[39mcovars_ \u001B[38;5;241m=\u001B[39m covars\n\u001B[1;32m     89\u001B[0m \u001B[38;5;66;03m# Generate samples from the HMM\u001B[39;00m\n\u001B[0;32m---> 90\u001B[0m noise, states \u001B[38;5;241m=\u001B[39m \u001B[43mmodel\u001B[49m\u001B[38;5;241;43m.\u001B[39;49m\u001B[43msample\u001B[49m\u001B[43m(\u001B[49m\u001B[43mnum_samples\u001B[49m\u001B[43m)\u001B[49m\n\u001B[1;32m     92\u001B[0m \u001B[38;5;28;01mreturn\u001B[39;00m noise\u001B[38;5;241m.\u001B[39mflatten(), states\n",
      "File \u001B[0;32m~/.conda/envs/ubm/lib/python3.10/site-packages/hmmlearn/base.py:436\u001B[0m, in \u001B[0;36m_AbstractHMM.sample\u001B[0;34m(self, n_samples, random_state, currstate)\u001B[0m\n\u001B[1;32m    433\u001B[0m     currstate \u001B[38;5;241m=\u001B[39m (\n\u001B[1;32m    434\u001B[0m         (transmat_cdf[currstate] \u001B[38;5;241m>\u001B[39m random_state\u001B[38;5;241m.\u001B[39mrand())\u001B[38;5;241m.\u001B[39margmax())\n\u001B[1;32m    435\u001B[0m     state_sequence\u001B[38;5;241m.\u001B[39mappend(currstate)\n\u001B[0;32m--> 436\u001B[0m     X\u001B[38;5;241m.\u001B[39mappend(\u001B[38;5;28;43mself\u001B[39;49m\u001B[38;5;241;43m.\u001B[39;49m\u001B[43m_generate_sample_from_state\u001B[49m\u001B[43m(\u001B[49m\n\u001B[1;32m    437\u001B[0m \u001B[43m        \u001B[49m\u001B[43mcurrstate\u001B[49m\u001B[43m,\u001B[49m\u001B[43m \u001B[49m\u001B[43mrandom_state\u001B[49m\u001B[38;5;241;43m=\u001B[39;49m\u001B[43mrandom_state\u001B[49m\u001B[43m)\u001B[49m)\n\u001B[1;32m    439\u001B[0m \u001B[38;5;28;01mreturn\u001B[39;00m np\u001B[38;5;241m.\u001B[39matleast_2d(X), np\u001B[38;5;241m.\u001B[39marray(state_sequence, dtype\u001B[38;5;241m=\u001B[39m\u001B[38;5;28mint\u001B[39m)\n",
      "File \u001B[0;32m~/.conda/envs/ubm/lib/python3.10/site-packages/hmmlearn/_emissions.py:179\u001B[0m, in \u001B[0;36mBaseGaussianHMM._generate_sample_from_state\u001B[0;34m(self, state, random_state)\u001B[0m\n\u001B[1;32m    178\u001B[0m \u001B[38;5;28;01mdef\u001B[39;00m \u001B[38;5;21m_generate_sample_from_state\u001B[39m(\u001B[38;5;28mself\u001B[39m, state, random_state):\n\u001B[0;32m--> 179\u001B[0m     \u001B[38;5;28;01mreturn\u001B[39;00m \u001B[43mrandom_state\u001B[49m\u001B[38;5;241;43m.\u001B[39;49m\u001B[43mmultivariate_normal\u001B[49m\u001B[43m(\u001B[49m\n\u001B[1;32m    180\u001B[0m \u001B[43m        \u001B[49m\u001B[38;5;28;43mself\u001B[39;49m\u001B[38;5;241;43m.\u001B[39;49m\u001B[43mmeans_\u001B[49m\u001B[43m[\u001B[49m\u001B[43mstate\u001B[49m\u001B[43m]\u001B[49m\u001B[43m,\u001B[49m\u001B[43m \u001B[49m\u001B[38;5;28;43mself\u001B[39;49m\u001B[38;5;241;43m.\u001B[39;49m\u001B[43mcovars_\u001B[49m\u001B[43m[\u001B[49m\u001B[43mstate\u001B[49m\u001B[43m]\u001B[49m\n\u001B[1;32m    181\u001B[0m \u001B[43m    \u001B[49m\u001B[43m)\u001B[49m\n",
      "File \u001B[0;32mmtrand.pyx:4155\u001B[0m, in \u001B[0;36mnumpy.random.mtrand.RandomState.multivariate_normal\u001B[0;34m()\u001B[0m\n",
      "File \u001B[0;32m<__array_function__ internals>:180\u001B[0m, in \u001B[0;36msvd\u001B[0;34m(*args, **kwargs)\u001B[0m\n",
      "File \u001B[0;32m~/.conda/envs/ubm/lib/python3.10/site-packages/numpy/linalg/linalg.py:1657\u001B[0m, in \u001B[0;36msvd\u001B[0;34m(a, full_matrices, compute_uv, hermitian)\u001B[0m\n\u001B[1;32m   1654\u001B[0m         gufunc \u001B[38;5;241m=\u001B[39m _umath_linalg\u001B[38;5;241m.\u001B[39msvd_n_s\n\u001B[1;32m   1656\u001B[0m signature \u001B[38;5;241m=\u001B[39m \u001B[38;5;124m'\u001B[39m\u001B[38;5;124mD->DdD\u001B[39m\u001B[38;5;124m'\u001B[39m \u001B[38;5;28;01mif\u001B[39;00m isComplexType(t) \u001B[38;5;28;01melse\u001B[39;00m \u001B[38;5;124m'\u001B[39m\u001B[38;5;124md->ddd\u001B[39m\u001B[38;5;124m'\u001B[39m\n\u001B[0;32m-> 1657\u001B[0m u, s, vh \u001B[38;5;241m=\u001B[39m \u001B[43mgufunc\u001B[49m\u001B[43m(\u001B[49m\u001B[43ma\u001B[49m\u001B[43m,\u001B[49m\u001B[43m \u001B[49m\u001B[43msignature\u001B[49m\u001B[38;5;241;43m=\u001B[39;49m\u001B[43msignature\u001B[49m\u001B[43m,\u001B[49m\u001B[43m \u001B[49m\u001B[43mextobj\u001B[49m\u001B[38;5;241;43m=\u001B[39;49m\u001B[43mextobj\u001B[49m\u001B[43m)\u001B[49m\n\u001B[1;32m   1658\u001B[0m u \u001B[38;5;241m=\u001B[39m u\u001B[38;5;241m.\u001B[39mastype(result_t, copy\u001B[38;5;241m=\u001B[39m\u001B[38;5;28;01mFalse\u001B[39;00m)\n\u001B[1;32m   1659\u001B[0m s \u001B[38;5;241m=\u001B[39m s\u001B[38;5;241m.\u001B[39mastype(_realType(result_t), copy\u001B[38;5;241m=\u001B[39m\u001B[38;5;28;01mFalse\u001B[39;00m)\n",
      "\u001B[0;31mKeyboardInterrupt\u001B[0m: "
     ]
    }
   ],
   "source": [
    "proc_methods = [\n",
    "    # ProcessingBase(\n",
    "    #     fe_method=fe.FeatureExtractorLogPower(nfft=128)),\n",
    "    ProcessingBase(\n",
    "        fe_method=fe.FeatureExtractorLogPower(nfft=128)),\n",
    "    ProcessingGaussNoise(\n",
    "        fe_method=fe.FeatureExtractorLogPower(nfft=128),\n",
    "        snr=40,\n",
    "        signal_power=signal_average_power,\n",
    "        sample_len=max_sample_length),\n",
    "    ProcessingGaussNoise(\n",
    "        fe_method=fe.FeatureExtractorLogPower(nfft=128),\n",
    "        snr=20,\n",
    "        signal_power=signal_average_power,\n",
    "        sample_len=max_sample_length),\n",
    "    ProcessingRealNoise(\n",
    "        fe_method=fe.FeatureExtractorLogPower(nfft=128),\n",
    "        snr=40,\n",
    "        signal_power=signal_average_power,\n",
    "        sample_len=max_sample_length,\n",
    "        noise_key='UNDER_WATER_DRONE'\n",
    "        ),\n",
    "    ProcessingRealNoise(\n",
    "        fe_method=fe.FeatureExtractorLogPower(nfft=128),\n",
    "        snr=20,\n",
    "        signal_power=signal_average_power,\n",
    "        sample_len=max_sample_length,\n",
    "        noise_key='UNDER_WATER_DRONE'\n",
    "        )\n",
    "    # ProcessingGaussNoise(\n",
    "    #     fe_method=fe.FeatureExtractorLogPower(nfft=128),\n",
    "    #     snr=20,\n",
    "    #     signal_power=signal_average_power,\n",
    "    #     sample_len=max_sample_length),\n",
    "    # ProcessingGaussNoise(\n",
    "    #     fe_method=fe.FeatureExtractorLogPower(nfft=128),\n",
    "    #     snr=10,\n",
    "    #     signal_power=signal_average_power,\n",
    "    #     sample_len=max_sample_length),\n",
    "\n",
    "    # ProcessingBase(\n",
    "    #     fe_method=fe.FeatureExtractorMfcc(nfft=128, num_ceps=8, fs=config.sr)),\n",
    "    # ProcessingGaussNoise(\n",
    "    #     fe_method=fe.FeatureExtractorMfcc(nfft=128, num_ceps=8, fs=config.sr),\n",
    "    #     snr=60,\n",
    "    #     signal_power=signal_average_power,\n",
    "    #     sample_len=max_sample_length),\n",
    "    #     ProcessingGaussNoise(\n",
    "    #     fe_method=fe.FeatureExtractorMfcc(nfft=128, num_ceps=8, fs=config.sr),\n",
    "    #     snr=40,\n",
    "    #     signal_power=signal_average_power,\n",
    "    #     sample_len=max_sample_length),\n",
    "    #     ProcessingGaussNoise(\n",
    "    #     fe_method=fe.FeatureExtractorMfcc(nfft=128, num_ceps=8, fs=config.sr),\n",
    "    #     snr=20,\n",
    "    #     signal_power=signal_average_power,\n",
    "    #     sample_len=max_sample_length),\n",
    "    #     ProcessingGaussNoise(\n",
    "    #     fe_method=fe.FeatureExtractorMfcc(nfft=128, num_ceps=8, fs=config.sr),\n",
    "    #     snr=10,\n",
    "    #     signal_power=signal_average_power,\n",
    "    #     sample_len=max_sample_length),\n",
    "    ]\n",
    "\n",
    "for proc_method in proc_methods:\n",
    "    print(proc_method.__str__())\n"
   ],
   "metadata": {
    "collapsed": false
   }
  },
  {
   "cell_type": "code",
   "execution_count": null,
   "outputs": [],
   "source": [],
   "metadata": {
    "collapsed": false
   }
  },
  {
   "cell_type": "code",
   "execution_count": null,
   "outputs": [],
   "source": [
    "reload(fe)\n",
    "\n",
    "features = {\n",
    "}\n",
    "\n",
    "import b_samples_to_features\n",
    "reload(b_samples_to_features)\n",
    "\n",
    "for proc_method in proc_methods:\n",
    "\n",
    "    fe_name = proc_method.__str__()\n",
    "    features[fe_name] = {}\n",
    "    print('processing for: ', fe_name)\n",
    "    n_folds = len(cv_output['train_data'])\n",
    "\n",
    "    # train\n",
    "    train_features = []\n",
    "    train_labels = []\n",
    "    for i in range(n_folds):\n",
    "        curr_features = [proc_method.pre_process(sample) for sample in cv_output['train_data'][i]]\n",
    "        curr_labels = cv_output['train_label'][i]\n",
    "        train_features.append(curr_features)\n",
    "        train_labels.append(curr_labels)\n",
    "    features[fe_name]['train_features'] = train_features\n",
    "    features[fe_name]['train_label'] = train_labels\n",
    "\n",
    "    # val\n",
    "    val_features = []\n",
    "    val_labels = []\n",
    "    val_noise = []\n",
    "    for i in range(n_folds):\n",
    "        curr_features = []\n",
    "        curr_noise_features = []\n",
    "\n",
    "        for sample in cv_output['val_data'][i]:\n",
    "            curr_feature = proc_method.post_process(sample)\n",
    "            curr_features.append(curr_feature)\n",
    "\n",
    "        curr_noise_features.append(proc_method.get_noise_feature())\n",
    "\n",
    "        curr_labels = cv_output['val_label'][i]\n",
    "        val_features.append(curr_features)\n",
    "        val_labels.append(curr_labels)\n",
    "        val_noise.append(curr_noise_features)\n",
    "\n",
    "    features[fe_name]['val_features'] = val_features\n",
    "    features[fe_name]['val_label'] = cv_output['val_label']\n",
    "    features[fe_name]['noise_features'] = val_noise\n"
   ],
   "metadata": {
    "collapsed": false
   }
  },
  {
   "cell_type": "code",
   "execution_count": null,
   "outputs": [],
   "source": [
    "import pickle\n",
    "pickle.dump(features, open(config.features,'wb'))"
   ],
   "metadata": {
    "collapsed": false
   }
  },
  {
   "cell_type": "code",
   "execution_count": null,
   "outputs": [],
   "source": [
    "config.features"
   ],
   "metadata": {
    "collapsed": false
   }
  },
  {
   "cell_type": "code",
   "execution_count": null,
   "outputs": [],
   "source": [],
   "metadata": {
    "collapsed": false
   }
  }
 ],
 "metadata": {
  "kernelspec": {
   "display_name": "Python 3",
   "language": "python",
   "name": "python3"
  },
  "language_info": {
   "codemirror_mode": {
    "name": "ipython",
    "version": 2
   },
   "file_extension": ".py",
   "mimetype": "text/x-python",
   "name": "python",
   "nbconvert_exporter": "python",
   "pygments_lexer": "ipython2",
   "version": "2.7.6"
  }
 },
 "nbformat": 4,
 "nbformat_minor": 0
}
