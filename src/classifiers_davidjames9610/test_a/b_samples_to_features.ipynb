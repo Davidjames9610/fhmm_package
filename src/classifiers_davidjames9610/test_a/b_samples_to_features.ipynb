{
 "cells": [
  {
   "cell_type": "code",
   "execution_count": 13,
   "outputs": [],
   "source": [
    "# the aim is to end up with train, test, evaluate\n",
    "import sys\n",
    "sys.path.append(\"/Users/david/Documents/code/fhmm/v1\")"
   ],
   "metadata": {
    "collapsed": false
   }
  },
  {
   "cell_type": "code",
   "execution_count": 24,
   "outputs": [
    {
     "name": "stdout",
     "output_type": "stream",
     "text": [
      "/Users/david/Documents/code/fhmm/v1/src/classifiers_davidjames9610/test_a/speech_commands\n"
     ]
    }
   ],
   "source": [
    "import src.ads_davidjames9610.ads as ads\n",
    "import src.ads_davidjames9610.useful as useful\n",
    "import numpy as np\n",
    "import os\n",
    "import os.path\n",
    "from pathlib import Path\n",
    "import matplotlib.pyplot as plt\n",
    "from importlib import reload\n",
    "import importlib\n",
    "import src.classifiers_davidjames9610.test_a.config as base_config\n",
    "reload(base_config)\n",
    "config = importlib.import_module(base_config.config_location)\n",
    "reload(config)\n",
    "print(config.basedir)\n",
    "import src.misc_davidjames9610.fe_methods as fe\n",
    "import src.misc_davidjames9610.proc_methods as pm"
   ],
   "metadata": {
    "collapsed": false
   }
  },
  {
   "cell_type": "markdown",
   "source": [
    "\"\"\"\n",
    "we want to end up with this\n",
    "\n",
    "    section 2, samples to features,\n",
    "    -- choose fe_method,\n",
    "    -- noise and reverb, apply to test / evaluate before fe method,\n",
    "\n",
    "    select fe_methods,\n",
    "    -- this point also is important for choosing cross-validation, and train-test-eval split\n",
    "    - fe_methods = ['mfcc', 'log-power', 'lfcc']\n",
    "    - select noise or reverb to be applied to eval and test\n",
    "    - post_proc = ['noise', 'reverb']\n",
    "\n",
    "    -- labels don't change\n",
    "\n",
    "    features = {\n",
    "        'mfcc':\n",
    "            'train': [],\n",
    "            'train_labels': [cv_index_0] [cv_index_1]\n",
    "            'test': [],\n",
    "            'test_labels': []   // test and eval will need different process method if noise is being added\n",
    "            'eval': [],\n",
    "            'eval_labels': []\n",
    "        'lfcc':\n",
    "            ...\n",
    "    }\n",
    "\"\"\""
   ],
   "metadata": {
    "collapsed": false
   }
  },
  {
   "cell_type": "code",
   "execution_count": 25,
   "outputs": [],
   "source": [
    "import pickle\n",
    "sls = pickle.load(open(config.samples_labels,'rb'))"
   ],
   "metadata": {
    "collapsed": false
   }
  },
  {
   "cell_type": "code",
   "execution_count": 26,
   "outputs": [],
   "source": [
    "# going to have to do fe after cross-validation split\n",
    "import src.misc_davidjames9610.cross_validation as cv\n",
    "from src.misc_davidjames9610.cross_validation import *\n",
    "import importlib\n",
    "importlib.reload(cv)\n",
    "import b_samples_to_features\n",
    "reload(b_samples_to_features)\n",
    "import src.misc_davidjames9610.noisey as noisey\n",
    "reload(noisey)\n",
    "import random\n",
    "\n",
    "# define config things\n",
    "n_folds = 2\n",
    "cv_output = cv.split_data_for_cross_validation(sls['samples'], sls['labels'], n_folds) # , test_ratio=0.8) # could update test ratio to\n",
    "signal_average_power = b_samples_to_features.get_average_power_for_samples(cv_output)\n",
    "signal_average_power_db = 10 * np.log10(signal_average_power)\n",
    "max_sample_length = np.max([len(sample) for sample in sls['samples']])\n"
   ],
   "metadata": {
    "collapsed": false
   }
  },
  {
   "cell_type": "code",
   "execution_count": 27,
   "outputs": [],
   "source": [
    "from src.misc_davidjames9610.noisey import get_noise_avg_watts\n",
    "import importlib\n",
    "importlib.reload(fe)\n",
    "nfft = 128\n",
    "\n",
    "class ProcessingBase:\n",
    "    def __init__(self, fe_method):\n",
    "        self.fe_method = fe_method\n",
    "    def __str__(self):\n",
    "        return self.fe_method.__str__()\n",
    "    def pre_process(self, sample):\n",
    "        return self.fe_method(sample)\n",
    "    def post_process(self, sample):\n",
    "        return self.fe_method(sample)\n",
    "    def get_noise_feature(self):\n",
    "        return []\n",
    "\n",
    "class ProcessingGaussNoise:\n",
    "    def __init__(self, fe_method, noise_snr, signal_power, sample_len):\n",
    "        self.fe_method = fe_method\n",
    "        self.noise_snr = noise_snr\n",
    "        self.signal_power = signal_power\n",
    "        self.noise_sample = noisey.get_noise_for_sample(sample_len, self.signal_power,self.noise_snr, self.noise_snr, self.noise_snr)\n",
    "\n",
    "    def __str__(self):\n",
    "        return self.fe_method.__str__() + 'GaussNoise_SNR' + str(self.noise_snr)\n",
    "    def pre_process(self, sample):\n",
    "        return self.fe_method(sample)\n",
    "    def post_process(self, sample):\n",
    "        sample = self.noise_sample[:len(sample)] + sample\n",
    "        return self.fe_method(sample)\n",
    "    def get_noise_feature(self):\n",
    "        return self.fe_method(self.noise_sample)\n",
    "\n",
    "\n",
    "\n",
    "class ProcessingRealNoise:\n",
    "    def __init__(self, fe_method, noise_snr, signal_power, sample_len, noise_key):\n",
    "\n",
    "        self.fe_method = fe_method\n",
    "        self.noise_snr = noise_snr\n",
    "        self.signal_power = signal_power\n",
    "\n",
    "\n",
    "\n",
    "        self.noise_sample = noisey.get_noise_for_sample(sample_len, self.signal_power,self.noise_snr, self.noise_snr, self.noise_snr)\n",
    "\n",
    "    def __str__(self):\n",
    "        return self.fe_method.__str__() + 'GaussNoise_SNR' + str(self.noise_snr)\n",
    "    def pre_process(self, sample):\n",
    "        return self.fe_method(sample)\n",
    "    def post_process(self, sample):\n",
    "        sample = self.noise_sample[:len(sample)] + sample\n",
    "        return self.fe_method(sample)\n",
    "    def get_noise_feature(self):\n",
    "        return self.fe_method(self.noise_sample)\n",
    "\n",
    "\n",
    "class ProcessingGaussNoiseReverb:\n",
    "    def __init__(self, fe_method, noise_snr, signal_power, sample_len):\n",
    "        self.noise_snr = noise_snr\n",
    "        self.signal_power = signal_power\n",
    "        self.fe_method = fe_method\n",
    "    def __str__(self):\n",
    "        return self.fe_method.__str__() + 'GaussNoise_SNR' + str(self.noise_snr) + '_Reverb'\n",
    "    def pre_process(self, sample):\n",
    "        return self.fe_method(sample)\n",
    "    def post_process(self, sample):\n",
    "        # todo update so Gauss Noise Reverb works\n",
    "        return self.fe_method(sample)\n",
    "    def get_noise_feature(self):\n",
    "        # update\n",
    "        return []\n"
   ],
   "metadata": {
    "collapsed": false
   }
  },
  {
   "cell_type": "code",
   "execution_count": null,
   "outputs": [],
   "source": [
    "import numpy as np\n",
    "\n",
    "def scale_signal_to_db(signal, current_db, target_db):\n",
    "    # Convert current dB level to power in watts\n",
    "    current_power_watts = 10 ** (current_db / 10)\n",
    "\n",
    "    # Convert target dB level to power in watts\n",
    "    target_power_watts = 10 ** (target_db / 10)\n",
    "\n",
    "    # Calculate the scaling factor\n",
    "    scaling_factor = np.sqrt(target_power_watts / current_power_watts)\n",
    "\n",
    "    # Scale the signal\n",
    "    scaled_signal = signal * scaling_factor\n",
    "\n",
    "    return scaled_signal\n"
   ],
   "metadata": {
    "collapsed": false
   }
  },
  {
   "cell_type": "code",
   "execution_count": 35,
   "outputs": [
    {
     "name": "stdout",
     "output_type": "stream",
     "text": [
      "original noise watts 0.09872509\n",
      "signal watts 1.0263409085549056\n",
      "noise watts 0.0102634085\n",
      "signal dbs 0.11291639638021203\n",
      "noise dbs -19.887083768844604\n",
      "target dbs 20\n"
     ]
    },
    {
     "data": {
      "text/plain": "array([-9.8397059e-06, -9.8397059e-06,  0.0000000e+00, ...,\n        6.3960010e-04,  5.7072216e-04,  3.5424862e-04], dtype=float32)"
     },
     "execution_count": 35,
     "metadata": {},
     "output_type": "execute_result"
    }
   ],
   "source": [
    "\n",
    "def get_real_noise_sample(noise_key, target_snr_db, signal_power, sample_len):\n",
    "    # 1. read in noise sample and normalise\n",
    "    noise_sample = useful.file_to_audio(noise_key, config.sr)[0]\n",
    "\n",
    "    if len(noise_sample) < sample_len:\n",
    "        print('oh no; len(noise_sample) < sample_len')\n",
    "\n",
    "    # 2. scale the power\n",
    "    noise_avg_watts = np.mean(noise_sample ** 2)\n",
    "\n",
    "    print('original noise watts', noise_avg_watts)\n",
    "\n",
    "    noise_target_db = signal_power - target_snr_db\n",
    "    noise_target_watts = 10 ** (noise_target_db / 10)\n",
    "\n",
    "    # Calculate the scaling factor\n",
    "    scaling_factor = np.sqrt(noise_target_watts / noise_avg_watts)\n",
    "    scaled_noise_sample = noise_sample * scaling_factor\n",
    "\n",
    "    # print watts\n",
    "    print('signal watts', 10 ** (signal_power / 10))\n",
    "    print('noise watts', np.mean(scaled_noise_sample ** 2))\n",
    "\n",
    "    # db\n",
    "    print('signal dbs', signal_power)\n",
    "    print('noise dbs', 10 * np.log10(np.mean(scaled_noise_sample ** 2)))\n",
    "    print('target dbs', target_snr_db)\n",
    "\n",
    "    return scaled_noise_sample\n",
    "\n",
    "get_real_noise_sample(base_config.UNDER_WATER_DRONE, 20, signal_average_power, max_sample_length)\n"
   ],
   "metadata": {
    "collapsed": false
   }
  },
  {
   "cell_type": "code",
   "execution_count": 30,
   "outputs": [
    {
     "data": {
      "text/plain": "(array([-3.2449909e-05, -3.7455582e-05, -1.1038762e-05, ...,\n         1.7091444e-03,  1.1040343e-03,  0.0000000e+00], dtype=float32),\n 22050)"
     },
     "execution_count": 30,
     "metadata": {},
     "output_type": "execute_result"
    }
   ],
   "source": [
    "import librosa\n",
    "reload(base_config)\n",
    "librosa.load(base_config.UNDER_WATER_DRONE)"
   ],
   "metadata": {
    "collapsed": false
   }
  },
  {
   "cell_type": "code",
   "execution_count": null,
   "outputs": [],
   "source": [
    "\n",
    "proc_methods = [\n",
    "    # ProcessingBase(\n",
    "    #     fe_method=fe.FeatureExtractorLogPower(nfft=128)),\n",
    "    ProcessingBase(\n",
    "        fe_method=fe.FeatureExtractorLogPower(nfft=128)),\n",
    "    ProcessingGaussNoise(\n",
    "        fe_method=fe.FeatureExtractorLogPower(nfft=128),\n",
    "        noise_snr=60,\n",
    "        signal_power=signal_average_power,\n",
    "        sample_len=max_sample_length),\n",
    "    ProcessingGaussNoise(\n",
    "        fe_method=fe.FeatureExtractorLogPower(nfft=128),\n",
    "        noise_snr=40,\n",
    "        signal_power=signal_average_power,\n",
    "        sample_len=max_sample_length),\n",
    "    ProcessingGaussNoise(\n",
    "        fe_method=fe.FeatureExtractorLogPower(nfft=128),\n",
    "        noise_snr=20,\n",
    "        signal_power=signal_average_power,\n",
    "        sample_len=max_sample_length),\n",
    "    ProcessingGaussNoise(\n",
    "        fe_method=fe.FeatureExtractorLogPower(nfft=128),\n",
    "        noise_snr=10,\n",
    "        signal_power=signal_average_power,\n",
    "        sample_len=max_sample_length),\n",
    "    # ProcessingBase(\n",
    "    #     fe_method=fe.FeatureExtractorMfcc(nfft=128, num_ceps=8, fs=config.sr)),\n",
    "    # ProcessingGaussNoise(\n",
    "    #     fe_method=fe.FeatureExtractorMfcc(nfft=128, num_ceps=8, fs=config.sr),\n",
    "    #     noise_snr=60,\n",
    "    #     signal_power=signal_average_power,\n",
    "    #     sample_len=max_sample_length),\n",
    "    #     ProcessingGaussNoise(\n",
    "    #     fe_method=fe.FeatureExtractorMfcc(nfft=128, num_ceps=8, fs=config.sr),\n",
    "    #     noise_snr=40,\n",
    "    #     signal_power=signal_average_power,\n",
    "    #     sample_len=max_sample_length),\n",
    "    #     ProcessingGaussNoise(\n",
    "    #     fe_method=fe.FeatureExtractorMfcc(nfft=128, num_ceps=8, fs=config.sr),\n",
    "    #     noise_snr=20,\n",
    "    #     signal_power=signal_average_power,\n",
    "    #     sample_len=max_sample_length),\n",
    "    #     ProcessingGaussNoise(\n",
    "    #     fe_method=fe.FeatureExtractorMfcc(nfft=128, num_ceps=8, fs=config.sr),\n",
    "    #     noise_snr=10,\n",
    "    #     signal_power=signal_average_power,\n",
    "    #     sample_len=max_sample_length),\n",
    "    ]\n",
    "\n",
    "for proc_method in proc_methods:\n",
    "    print(proc_method.__str__())\n"
   ],
   "metadata": {
    "collapsed": false
   }
  },
  {
   "cell_type": "code",
   "execution_count": 21,
   "outputs": [
    {
     "name": "stdout",
     "output_type": "stream",
     "text": [
      "processing for:  lp\n",
      "processing for:  lpGaussNoise_SNR60\n",
      "processing for:  lpGaussNoise_SNR40\n",
      "processing for:  lpGaussNoise_SNR20\n",
      "processing for:  lpGaussNoise_SNR10\n"
     ]
    }
   ],
   "source": [
    "reload(fe)\n",
    "\n",
    "features = {\n",
    "}\n",
    "\n",
    "import b_samples_to_features\n",
    "reload(b_samples_to_features)\n",
    "\n",
    "for proc_method in proc_methods:\n",
    "\n",
    "    fe_name = proc_method.__str__()\n",
    "    features[fe_name] = {}\n",
    "    print('processing for: ', fe_name)\n",
    "    n_folds = len(cv_output['train_data'])\n",
    "\n",
    "    # train\n",
    "    train_features = []\n",
    "    train_labels = []\n",
    "    for i in range(n_folds):\n",
    "        curr_features = [proc_method.pre_process(sample) for sample in cv_output['train_data'][i]]\n",
    "        curr_labels = cv_output['train_label'][i]\n",
    "        train_features.append(curr_features)\n",
    "        train_labels.append(curr_labels)\n",
    "    features[fe_name]['train_features'] = train_features\n",
    "    features[fe_name]['train_label'] = train_labels\n",
    "\n",
    "    # val\n",
    "    val_features = []\n",
    "    val_labels = []\n",
    "    val_noise = []\n",
    "    for i in range(n_folds):\n",
    "        curr_features = []\n",
    "        curr_noise_features = []\n",
    "\n",
    "        for sample in cv_output['val_data'][i]:\n",
    "            curr_feature = proc_method.post_process(sample)\n",
    "            curr_features.append(curr_feature)\n",
    "\n",
    "        curr_noise_features.append(proc_method.get_noise_feature())\n",
    "\n",
    "        curr_labels = cv_output['val_label'][i]\n",
    "        val_features.append(curr_features)\n",
    "        val_labels.append(curr_labels)\n",
    "        val_noise.append(curr_noise_features)\n",
    "\n",
    "    features[fe_name]['val_features'] = val_features\n",
    "    features[fe_name]['val_label'] = cv_output['val_label']\n",
    "    features[fe_name]['noise_features'] = val_noise\n"
   ],
   "metadata": {
    "collapsed": false
   }
  },
  {
   "cell_type": "code",
   "execution_count": 22,
   "outputs": [],
   "source": [
    "import pickle\n",
    "pickle.dump(features, open(config.features,'wb'))"
   ],
   "metadata": {
    "collapsed": false
   }
  },
  {
   "cell_type": "code",
   "execution_count": 23,
   "outputs": [
    {
     "data": {
      "text/plain": "'/Users/david/Documents/code/fhmm/v1/src/classifiers_davidjames9610/test_a/speech_commands/features.pickle'"
     },
     "execution_count": 23,
     "metadata": {},
     "output_type": "execute_result"
    }
   ],
   "source": [
    "config.features"
   ],
   "metadata": {
    "collapsed": false
   }
  },
  {
   "cell_type": "code",
   "execution_count": null,
   "outputs": [],
   "source": [],
   "metadata": {
    "collapsed": false
   }
  }
 ],
 "metadata": {
  "kernelspec": {
   "display_name": "Python 3",
   "language": "python",
   "name": "python3"
  },
  "language_info": {
   "codemirror_mode": {
    "name": "ipython",
    "version": 2
   },
   "file_extension": ".py",
   "mimetype": "text/x-python",
   "name": "python",
   "nbconvert_exporter": "python",
   "pygments_lexer": "ipython2",
   "version": "2.7.6"
  }
 },
 "nbformat": 4,
 "nbformat_minor": 0
}
