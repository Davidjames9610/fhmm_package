{
 "cells": [
  {
   "cell_type": "code",
   "execution_count": 1,
   "outputs": [],
   "source": [
    "# the aim is to end up with train, test, evaluate\n",
    "import sys\n",
    "sys.path.append(\"/Users/david/Documents/code/fhmm/v1\")"
   ],
   "metadata": {
    "collapsed": false
   }
  },
  {
   "cell_type": "code",
   "execution_count": 7,
   "outputs": [],
   "source": [
    "import src.ads_davidjames9610.ads as ads\n",
    "import src.ads_davidjames9610.useful as useful\n",
    "import numpy as np\n",
    "import os\n",
    "import os.path\n",
    "from pathlib import Path\n",
    "import matplotlib.pyplot as plt\n",
    "from importlib import reload\n",
    "from src.classifiers_davidjames9610.test_a.config import *\n",
    "import src.misc_davidjames9610.fe_methods as fe\n",
    "import src.misc_davidjames9610.proc_methods as pm"
   ],
   "metadata": {
    "collapsed": false
   }
  },
  {
   "cell_type": "markdown",
   "source": [
    "\"\"\"\n",
    "we want to end up with this\n",
    "\n",
    "    section 2, samples to features,\n",
    "    -- choose fe_method,\n",
    "    -- noise and reverb, apply to test / evaluate before fe method,\n",
    "\n",
    "    select fe_methods,\n",
    "    -- this point also is important for choosing cross-validation, and train-test-eval split\n",
    "    - fe_methods = ['mfcc', 'log-power', 'lfcc']\n",
    "    - select noise or reverb to be applied to eval and test\n",
    "    - post_proc = ['noise', 'reverb']\n",
    "\n",
    "    -- labels don't change\n",
    "\n",
    "    features = {\n",
    "        'mfcc':\n",
    "            'train': [],\n",
    "            'train_labels': [cv_index_0] [cv_index_1]\n",
    "            'test': [],\n",
    "            'test_labels': []   // test and eval will need different process method if noise is being added\n",
    "            'eval': [],\n",
    "            'eval_labels': []\n",
    "        'lfcc':\n",
    "            ...\n",
    "    }\n",
    "\"\"\""
   ],
   "metadata": {
    "collapsed": false
   }
  },
  {
   "cell_type": "code",
   "execution_count": 8,
   "outputs": [],
   "source": [
    "import pickle\n",
    "sls = pickle.load(open('samples_labels.pickle','rb'))"
   ],
   "metadata": {
    "collapsed": false
   }
  },
  {
   "cell_type": "code",
   "execution_count": 9,
   "outputs": [],
   "source": [
    "import importlib\n",
    "importlib.reload(fe)\n",
    "nfft = 128\n",
    "\n",
    "# processing = [\n",
    "#     {'fe': fe.FeatureExtractorLogPower(nfft),\n",
    "#      'noise': None,\n",
    "#      'reverb': None,\n",
    "#      'name': 'lp_clean'     # function ?\n",
    "#      }\n",
    "# ]\n",
    "\n",
    "# proc_methods_pre = []\n",
    "# proc_methods_post = []\n",
    "# signal_to_noise_ratios = [None, 20, 10]\n",
    "\n",
    "fe_methods = [fe.FeatureExtractorLogPower(nfft=128), fe.FeatureExtractorMfcc(nfft=128, num_ceps=8, fs=sr)]"
   ],
   "metadata": {
    "collapsed": false
   }
  },
  {
   "cell_type": "code",
   "execution_count": 10,
   "outputs": [],
   "source": [
    "# going to have to do fe after cross-validation split\n",
    "import src.misc_davidjames9610.cross_validation as cv\n",
    "from src.misc_davidjames9610.cross_validation import *\n",
    "import importlib\n",
    "importlib.reload(cv)\n",
    "\n",
    "# define config things\n",
    "n_folds = 2\n",
    "cv_output = cv.split_data_for_cross_validation(sls['samples'], sls['labels'], n_folds, test_ratio=0.1)"
   ],
   "metadata": {
    "collapsed": false
   }
  },
  {
   "cell_type": "code",
   "execution_count": 15,
   "outputs": [],
   "source": [
    "reload(fe)\n",
    "\n",
    "features = {\n",
    "}\n",
    "\n",
    "for fe_method in fe_methods:\n",
    "    # for extra proc in proc ?\n",
    "    fe_name = fe_method.__str__()\n",
    "    features[fe_name] = {}\n",
    "\n",
    "    # train\n",
    "    train_features = []\n",
    "    train_labels = []\n",
    "    for i in range(n_folds):\n",
    "        curr_features = [fe_method(sample) for sample in cv_output['train_data'][i]]\n",
    "        curr_labels = cv_output['train_label'][i]\n",
    "        train_features.append(curr_features)\n",
    "        train_labels.append(curr_labels)\n",
    "\n",
    "        # ng inf error handler\n",
    "        # mask = [np.isneginf(array).any() for array in curr_features]\n",
    "        # train_features.append([feat for feat in curr_features if not mask])\n",
    "        # mask = np.invert(np.array(mask))\n",
    "        # train_labels.append(cv_output['train_label'][i][mask])\n",
    "\n",
    "    features[fe_name]['train_features'] = train_features\n",
    "    features[fe_name]['train_label'] = train_labels\n",
    "\n",
    "    # val\n",
    "    val_features = []\n",
    "    val_labels = []\n",
    "    for i in range(n_folds):\n",
    "        # no noise added her since this is used for training\n",
    "        val_features.append([fe_method(sample) for sample in cv_output['val_data'][i]])\n",
    "    features[fe_name]['val_features'] = val_features\n",
    "    features[fe_name]['val_label'] = cv_output['val_label']\n",
    "\n",
    "    # test\n",
    "    # TODO add in noise and reverb here if required\n",
    "    test_features = [fe_method(sample) for sample in cv_output['test_data']]\n",
    "    features[fe_name]['test_features'] = test_features\n",
    "    features[fe_name]['test_label'] = cv_output['test_label']\n"
   ],
   "metadata": {
    "collapsed": false
   }
  },
  {
   "cell_type": "code",
   "execution_count": 16,
   "outputs": [],
   "source": [
    "import pickle\n",
    "pickle.dump(features, open('features.pickle','wb'))"
   ],
   "metadata": {
    "collapsed": false
   }
  },
  {
   "cell_type": "code",
   "execution_count": null,
   "outputs": [],
   "source": [],
   "metadata": {
    "collapsed": false
   }
  }
 ],
 "metadata": {
  "kernelspec": {
   "display_name": "Python 3",
   "language": "python",
   "name": "python3"
  },
  "language_info": {
   "codemirror_mode": {
    "name": "ipython",
    "version": 2
   },
   "file_extension": ".py",
   "mimetype": "text/x-python",
   "name": "python",
   "nbconvert_exporter": "python",
   "pygments_lexer": "ipython2",
   "version": "2.7.6"
  }
 },
 "nbformat": 4,
 "nbformat_minor": 0
}
