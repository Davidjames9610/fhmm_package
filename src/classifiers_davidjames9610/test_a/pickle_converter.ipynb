{
 "cells": [
  {
   "cell_type": "code",
   "execution_count": 2,
   "outputs": [],
   "source": [
    "# the aim is to end up with train, test, evaluate\n",
    "import sys\n",
    "sys.path.append(\"/Users/david/Documents/code/fhmm/v1\")"
   ],
   "metadata": {
    "collapsed": false
   }
  },
  {
   "cell_type": "code",
   "execution_count": 3,
   "outputs": [
    {
     "name": "stdout",
     "output_type": "stream",
     "text": [
      "/Users/david/Documents/code/fhmm/v1/src/classifiers_davidjames9610/test_a/speech_commands\n"
     ]
    }
   ],
   "source": [
    "\n",
    "import src.ads_davidjames9610.ads as ads\n",
    "import src.ads_davidjames9610.useful as useful\n",
    "import numpy as np\n",
    "import os\n",
    "import os.path\n",
    "from pathlib import Path\n",
    "import matplotlib.pyplot as plt\n",
    "from importlib import reload\n",
    "import importlib\n",
    "import src.classifiers_davidjames9610.test_a.config as base_config\n",
    "reload(base_config)\n",
    "config = importlib.import_module(base_config.config_location)\n",
    "reload(config)\n",
    "print(config.basedir)\n",
    "import src.misc_davidjames9610.fe_methods as fe\n",
    "import src.misc_davidjames9610.proc_methods as pm\n",
    "import pickle"
   ],
   "metadata": {
    "collapsed": false
   }
  },
  {
   "cell_type": "code",
   "execution_count": null,
   "outputs": [],
   "source": [
    "# convert pickle file to individual\n",
    "import pickle\n",
    "import src.misc_davidjames9610.utils as utils\n",
    "\n",
    "# classifiers = utils.folder_pickles_to_dict(config.basedir + '/classifiers', 'GaussianHMM')\n",
    "# classifiers['GaussianHMM']['trained_classifiers']['lp_None_None'] = classifiers['GaussianHMM']['trained_classifiers']['lp']\n",
    "# del(classifiers['GaussianHMM']['trained_classifiers']['lp'])\n",
    "# classifiers['GaussianHMM']['features'].append('lp_None_None')\n",
    "# utils.dict_to_folder_pickles(config.basedir + '/classifiers', classifiers)"
   ],
   "metadata": {
    "collapsed": false
   }
  },
  {
   "cell_type": "code",
   "execution_count": null,
   "outputs": [],
   "source": [
    "sls = pickle.load(open(config.samples_labels,'rb'))\n"
   ],
   "metadata": {
    "collapsed": false
   }
  },
  {
   "cell_type": "code",
   "execution_count": null,
   "outputs": [],
   "source": [
    "features = pickle.load(open(config.features,'rb'))"
   ],
   "metadata": {
    "collapsed": false
   }
  },
  {
   "cell_type": "code",
   "execution_count": null,
   "outputs": [],
   "source": [],
   "metadata": {
    "collapsed": false
   }
  }
 ],
 "metadata": {
  "kernelspec": {
   "display_name": "Python 3",
   "language": "python",
   "name": "python3"
  },
  "language_info": {
   "codemirror_mode": {
    "name": "ipython",
    "version": 2
   },
   "file_extension": ".py",
   "mimetype": "text/x-python",
   "name": "python",
   "nbconvert_exporter": "python",
   "pygments_lexer": "ipython2",
   "version": "2.7.6"
  }
 },
 "nbformat": 4,
 "nbformat_minor": 0
}
