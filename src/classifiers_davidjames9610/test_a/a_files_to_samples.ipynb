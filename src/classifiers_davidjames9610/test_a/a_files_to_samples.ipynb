{
 "cells": [
  {
   "cell_type": "code",
   "execution_count": null,
   "metadata": {
    "collapsed": true
   },
   "outputs": [],
   "source": [
    "# the aim of this notebook is to end up with the samples of interest into a pickles\n",
    "# look at voice first then whale"
   ]
  },
  {
   "cell_type": "code",
   "execution_count": null,
   "outputs": [],
   "source": [
    "# voice"
   ],
   "metadata": {
    "collapsed": false
   }
  },
  {
   "cell_type": "code",
   "execution_count": 1,
   "outputs": [],
   "source": [
    "import sys\n",
    "sys.path.append(\"/Users/david/Documents/code/fhmm/v1\")"
   ],
   "metadata": {
    "collapsed": false
   }
  },
  {
   "cell_type": "code",
   "execution_count": 2,
   "outputs": [],
   "source": [
    "import src.ads_davidjames9610.ads as ads\n",
    "import src.ads_davidjames9610.useful as useful\n",
    "import numpy as np\n",
    "import os\n",
    "import os.path\n",
    "from pathlib import Path\n",
    "import matplotlib.pyplot as plt\n",
    "from importlib import reload\n",
    "from src.classifiers_davidjames9610.test_a.e_config import *"
   ],
   "metadata": {
    "collapsed": false
   }
  },
  {
   "cell_type": "code",
   "execution_count": 3,
   "outputs": [],
   "source": [
    "datasetFolder = r\"/Users/david/Documents/data/speechCommands\"\n",
    "speech_ads = ads.AudioDatastore()\n",
    "speech_ads.populate(datasetFolder,include_sub_folders=True, label_source=True)"
   ],
   "metadata": {
    "collapsed": false
   }
  },
  {
   "cell_type": "code",
   "execution_count": 4,
   "outputs": [],
   "source": [
    "unique_words = np.unique(speech_ads.labels)\n",
    "\n",
    "dict_of_words = {}\n",
    "arr_of_speakers = []\n",
    "dict_of_speakers = {}\n",
    "\n",
    "for word in unique_words:\n",
    "    ads_subset = ads.subset(speech_ads, label=word)\n",
    "    speakers = []\n",
    "    for file in ads_subset.files:\n",
    "        nm = os.path.basename(file)\n",
    "        nm = nm.split('_')[0]\n",
    "        speakers.append('a' + nm)\n",
    "    unique_labels, unique_counts = np.unique(speakers, return_counts=True)\n",
    "    filtered_labels = (unique_labels[unique_counts > 8])\n",
    "    if len(filtered_labels) > 1:\n",
    "        dict_of_words[word] = filtered_labels\n",
    "        for label in filtered_labels:\n",
    "            if label in dict_of_speakers:\n",
    "                dict_of_speakers[label].append(word)\n",
    "            else:\n",
    "                dict_of_speakers[label] = [word]\n",
    "\n",
    "speakers_dense = []\n",
    "for key in dict_of_speakers:\n",
    "    noises = dict_of_speakers[key]\n",
    "    if len(noises) > 7 and (key not in ['ac50f55b8']):\n",
    "        speakers_dense.append(key)\n",
    "\n",
    "speakers = []\n",
    "for file in speech_ads.files:\n",
    "    nm = os.path.basename(file)\n",
    "    nm = nm.split('_')[0]\n",
    "    speakers.append('a' + nm)\n",
    "\n",
    "speech_ads.set(labels=speakers)\n",
    "\n",
    "ads_all = []\n",
    "for speaker in speakers_dense:\n",
    "    ads_all.append(ads.subset(speech_ads, label=speaker))"
   ],
   "metadata": {
    "collapsed": false
   }
  },
  {
   "cell_type": "code",
   "execution_count": 5,
   "outputs": [],
   "source": [
    "speakers = []\n",
    "for file in speech_ads.files:\n",
    "    nm = os.path.basename(file)\n",
    "    nm = nm.split('_')[0]\n",
    "    speakers.append('a' + nm)\n",
    "\n",
    "speech_ads.set(labels=speakers)"
   ],
   "metadata": {
    "collapsed": false
   }
  },
  {
   "cell_type": "code",
   "execution_count": 6,
   "outputs": [],
   "source": [
    "ads_all = []\n",
    "for speaker in speakers_dense:\n",
    "    ads_all.append(ads.subset(speech_ads, label=speaker))"
   ],
   "metadata": {
    "collapsed": false
   }
  },
  {
   "cell_type": "code",
   "execution_count": 7,
   "outputs": [],
   "source": [
    "# possibly updated this to include a better VAD\n",
    "samples = []\n",
    "labels = []\n",
    "\n",
    "labels_set = speakers_dense\n",
    "num_to_label = {i: labels_set[i] for i in range(len(labels_set))}\n",
    "label_to_num = {labels_set[i] : i for i in range(len(labels_set))}\n",
    "\n",
    "count = 0\n",
    "for speaker_ads in ads_all:\n",
    "    count +=1\n",
    "    if count % 10 == 0: print(count)\n",
    "    labels.extend([label_to_num[label] for label in speaker_ads.labels]) # all the same\n",
    "    samples.extend([useful.file_to_audio(file, sr)[0] for file in speaker_ads.files])"
   ],
   "metadata": {
    "collapsed": false
   }
  },
  {
   "cell_type": "code",
   "execution_count": 8,
   "outputs": [],
   "source": [
    "import pickle\n",
    "pickle.dump({\n",
    "    'samples': samples,\n",
    "    'labels': labels,\n",
    "    'labels_set': labels_set,\n",
    "    'num_to_label': num_to_label,\n",
    "    'label_to_num': label_to_num\n",
    "}, open('samples_labels.pickle','wb'))"
   ],
   "metadata": {
    "collapsed": false
   }
  },
  {
   "cell_type": "code",
   "execution_count": null,
   "outputs": [],
   "source": [],
   "metadata": {
    "collapsed": false
   }
  }
 ],
 "metadata": {
  "kernelspec": {
   "display_name": "Python 3",
   "language": "python",
   "name": "python3"
  },
  "language_info": {
   "codemirror_mode": {
    "name": "ipython",
    "version": 2
   },
   "file_extension": ".py",
   "mimetype": "text/x-python",
   "name": "python",
   "nbconvert_exporter": "python",
   "pygments_lexer": "ipython2",
   "version": "2.7.6"
  }
 },
 "nbformat": 4,
 "nbformat_minor": 0
}
