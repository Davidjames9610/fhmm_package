{
 "cells": [
  {
   "cell_type": "code",
   "execution_count": 1,
   "metadata": {
    "collapsed": true
   },
   "outputs": [],
   "source": [
    "import sys\n",
    "sys.path.append(\"/Users/david/Documents/code/fhmm/v1\")"
   ]
  },
  {
   "cell_type": "code",
   "execution_count": 2,
   "outputs": [],
   "source": [
    "import src.ads_davidjames9610.ads as ads\n",
    "import src.ads_davidjames9610.useful as useful\n",
    "import numpy as np\n",
    "import os\n",
    "import os.path\n",
    "from pathlib import Path\n",
    "import matplotlib.pyplot as plt\n",
    "from importlib import reload\n",
    "from src.classifiers_davidjames9610.test_a.e_config import *\n",
    "import src.misc_davidjames9610.fe_methods as fe\n",
    "import src.misc_davidjames9610.proc_methods as pm\n",
    "from hmmlearn.hmm import GaussianHMM, GMMHMM, BaseHMM\n",
    "from sklearn.metrics import confusion_matrix, ConfusionMatrixDisplay"
   ],
   "metadata": {
    "collapsed": false
   }
  },
  {
   "cell_type": "code",
   "execution_count": 3,
   "outputs": [],
   "source": [
    "import pickle\n",
    "sls = pickle.load(open('samples_labels.pickle','rb'))\n",
    "features = pickle.load(open('features.pickle','rb'))\n",
    "classifiers = pickle.load(open('classifiers.pickle','rb'))"
   ],
   "metadata": {
    "collapsed": false
   }
  },
  {
   "cell_type": "code",
   "execution_count": 4,
   "outputs": [],
   "source": [
    "CLASSIFICATION = 'classification'\n",
    "REGRESSION = 'regression'\n",
    "\n",
    "eval_type = CLASSIFICATION"
   ],
   "metadata": {
    "collapsed": false
   }
  },
  {
   "cell_type": "code",
   "execution_count": 6,
   "outputs": [
    {
     "name": "stdout",
     "output_type": "stream",
     "text": [
      "testing for feature type:  lp\n"
     ]
    },
    {
     "ename": "KeyboardInterrupt",
     "evalue": "",
     "output_type": "error",
     "traceback": [
      "\u001B[0;31m---------------------------------------------------------------------------\u001B[0m",
      "\u001B[0;31mKeyboardInterrupt\u001B[0m                         Traceback (most recent call last)",
      "Cell \u001B[0;32mIn[6], line 4\u001B[0m\n\u001B[1;32m      1\u001B[0m \u001B[38;5;28;01mimport\u001B[39;00m \u001B[38;5;21;01md_classifiers_to_results\u001B[39;00m\n\u001B[1;32m      2\u001B[0m reload(d_classifiers_to_results)\n\u001B[0;32m----> 4\u001B[0m classification_results \u001B[38;5;241m=\u001B[39m \u001B[43md_classifiers_to_results\u001B[49m\u001B[38;5;241;43m.\u001B[39;49m\u001B[43mget_classification_results\u001B[49m\u001B[43m(\u001B[49m\n\u001B[1;32m      5\u001B[0m \u001B[43m    \u001B[49m\u001B[43mfeatures\u001B[49m\u001B[43m,\u001B[49m\u001B[43m \u001B[49m\u001B[43mclassifiers\u001B[49m\u001B[43m,\u001B[49m\u001B[43m \u001B[49m\u001B[43msls\u001B[49m\u001B[43m,\u001B[49m\u001B[43m \u001B[49m\u001B[38;5;28;43;01mTrue\u001B[39;49;00m\u001B[43m)\u001B[49m\n",
      "File \u001B[0;32m~/Documents/code/fhmm/v1/src/classifiers_davidjames9610/test_a/d_classifiers_to_results.py:22\u001B[0m, in \u001B[0;36mget_classification_results\u001B[0;34m(features, classifiers, sls, plot_cm)\u001B[0m\n\u001B[1;32m     19\u001B[0m test_labels \u001B[38;5;241m=\u001B[39m []\n\u001B[1;32m     21\u001B[0m \u001B[38;5;28;01mfor\u001B[39;00m feat \u001B[38;5;129;01min\u001B[39;00m curr_features:\n\u001B[0;32m---> 22\u001B[0m     speakers_scores \u001B[38;5;241m=\u001B[39m []\n\u001B[1;32m     23\u001B[0m     \u001B[38;5;28;01mfor\u001B[39;00m speaker \u001B[38;5;129;01min\u001B[39;00m sls[\u001B[38;5;124m'\u001B[39m\u001B[38;5;124mlabels_set\u001B[39m\u001B[38;5;124m'\u001B[39m]:\n\u001B[1;32m     24\u001B[0m         speaker_hmm: BaseHMM \u001B[38;5;241m=\u001B[39m curr_classifiers[speaker]\n",
      "File \u001B[0;32m~/Documents/code/fhmm/v1/src/classifiers_davidjames9610/test_a/d_classifiers_to_results.py:22\u001B[0m, in \u001B[0;36mget_classification_results\u001B[0;34m(features, classifiers, sls, plot_cm)\u001B[0m\n\u001B[1;32m     19\u001B[0m test_labels \u001B[38;5;241m=\u001B[39m []\n\u001B[1;32m     21\u001B[0m \u001B[38;5;28;01mfor\u001B[39;00m feat \u001B[38;5;129;01min\u001B[39;00m curr_features:\n\u001B[0;32m---> 22\u001B[0m     speakers_scores \u001B[38;5;241m=\u001B[39m []\n\u001B[1;32m     23\u001B[0m     \u001B[38;5;28;01mfor\u001B[39;00m speaker \u001B[38;5;129;01min\u001B[39;00m sls[\u001B[38;5;124m'\u001B[39m\u001B[38;5;124mlabels_set\u001B[39m\u001B[38;5;124m'\u001B[39m]:\n\u001B[1;32m     24\u001B[0m         speaker_hmm: BaseHMM \u001B[38;5;241m=\u001B[39m curr_classifiers[speaker]\n",
      "File \u001B[0;32m_pydevd_bundle/pydevd_cython_darwin_310_64.pyx:1179\u001B[0m, in \u001B[0;36m_pydevd_bundle.pydevd_cython_darwin_310_64.SafeCallWrapper.__call__\u001B[0;34m()\u001B[0m\n",
      "File \u001B[0;32m_pydevd_bundle/pydevd_cython_darwin_310_64.pyx:620\u001B[0m, in \u001B[0;36m_pydevd_bundle.pydevd_cython_darwin_310_64.PyDBFrame.trace_dispatch\u001B[0;34m()\u001B[0m\n",
      "File \u001B[0;32m_pydevd_bundle/pydevd_cython_darwin_310_64.pyx:1095\u001B[0m, in \u001B[0;36m_pydevd_bundle.pydevd_cython_darwin_310_64.PyDBFrame.trace_dispatch\u001B[0;34m()\u001B[0m\n",
      "File \u001B[0;32m_pydevd_bundle/pydevd_cython_darwin_310_64.pyx:1057\u001B[0m, in \u001B[0;36m_pydevd_bundle.pydevd_cython_darwin_310_64.PyDBFrame.trace_dispatch\u001B[0;34m()\u001B[0m\n",
      "File \u001B[0;32m_pydevd_bundle/pydevd_cython_darwin_310_64.pyx:317\u001B[0m, in \u001B[0;36m_pydevd_bundle.pydevd_cython_darwin_310_64.PyDBFrame.do_wait_suspend\u001B[0;34m()\u001B[0m\n",
      "File \u001B[0;32m/Applications/PyCharm.app/Contents/plugins/python/helpers/pydev/pydevd.py:1160\u001B[0m, in \u001B[0;36mPyDB.do_wait_suspend\u001B[0;34m(self, thread, frame, event, arg, send_suspend_message, is_unhandled_exception)\u001B[0m\n\u001B[1;32m   1157\u001B[0m         from_this_thread\u001B[38;5;241m.\u001B[39mappend(frame_id)\n\u001B[1;32m   1159\u001B[0m \u001B[38;5;28;01mwith\u001B[39;00m \u001B[38;5;28mself\u001B[39m\u001B[38;5;241m.\u001B[39m_threads_suspended_single_notification\u001B[38;5;241m.\u001B[39mnotify_thread_suspended(thread_id, stop_reason):\n\u001B[0;32m-> 1160\u001B[0m     \u001B[38;5;28;43mself\u001B[39;49m\u001B[38;5;241;43m.\u001B[39;49m\u001B[43m_do_wait_suspend\u001B[49m\u001B[43m(\u001B[49m\u001B[43mthread\u001B[49m\u001B[43m,\u001B[49m\u001B[43m \u001B[49m\u001B[43mframe\u001B[49m\u001B[43m,\u001B[49m\u001B[43m \u001B[49m\u001B[43mevent\u001B[49m\u001B[43m,\u001B[49m\u001B[43m \u001B[49m\u001B[43marg\u001B[49m\u001B[43m,\u001B[49m\u001B[43m \u001B[49m\u001B[43msuspend_type\u001B[49m\u001B[43m,\u001B[49m\u001B[43m \u001B[49m\u001B[43mfrom_this_thread\u001B[49m\u001B[43m)\u001B[49m\n",
      "File \u001B[0;32m/Applications/PyCharm.app/Contents/plugins/python/helpers/pydev/pydevd.py:1175\u001B[0m, in \u001B[0;36mPyDB._do_wait_suspend\u001B[0;34m(self, thread, frame, event, arg, suspend_type, from_this_thread)\u001B[0m\n\u001B[1;32m   1172\u001B[0m             \u001B[38;5;28mself\u001B[39m\u001B[38;5;241m.\u001B[39m_call_mpl_hook()\n\u001B[1;32m   1174\u001B[0m         \u001B[38;5;28mself\u001B[39m\u001B[38;5;241m.\u001B[39mprocess_internal_commands()\n\u001B[0;32m-> 1175\u001B[0m         \u001B[43mtime\u001B[49m\u001B[38;5;241;43m.\u001B[39;49m\u001B[43msleep\u001B[49m\u001B[43m(\u001B[49m\u001B[38;5;241;43m0.01\u001B[39;49m\u001B[43m)\u001B[49m\n\u001B[1;32m   1177\u001B[0m \u001B[38;5;28mself\u001B[39m\u001B[38;5;241m.\u001B[39mcancel_async_evaluation(get_current_thread_id(thread), \u001B[38;5;28mstr\u001B[39m(\u001B[38;5;28mid\u001B[39m(frame)))\n\u001B[1;32m   1179\u001B[0m \u001B[38;5;66;03m# process any stepping instructions\u001B[39;00m\n",
      "\u001B[0;31mKeyboardInterrupt\u001B[0m: "
     ]
    }
   ],
   "source": [
    "import d_classifiers_to_results\n",
    "reload(d_classifiers_to_results)\n",
    "\n",
    "classification_results = d_classifiers_to_results.get_classification_results(\n",
    "    features, classifiers, sls, True)\n"
   ],
   "metadata": {
    "collapsed": false
   }
  },
  {
   "cell_type": "code",
   "execution_count": null,
   "outputs": [],
   "source": [
    "# combined hmm approach, still Viterbi, this assumes I have longish real input data,\n",
    "import src.misc_davidjames9610.decode_combine as dc\n",
    "reload(dc)\n",
    "\n",
    "# decode_combine_results = d_classifiers_to_results.decode_combine_results()\n",
    "\n",
    "results = {}  # one for each process method\n",
    "\n",
    "# CLASSIFICATION\n",
    "for feature_key in features:\n",
    "\n",
    "    print('testing for feature type: ', feature_key)\n",
    "    cv_index = 0    # todo think about updating this cv index for testing\n",
    "    curr_features = features[feature_key]['val_features'][cv_index]\n",
    "    curr_label = features[feature_key]['val_label'][cv_index]\n",
    "    curr_classifiers = classifiers[feature_key]\n",
    "\n",
    "    combined_model = dc.DecodeCombineGaussian([hmm for hmm in curr_classifiers])\n",
    "\n",
    "    _, val_pred, val_log_prob = combined_model.decode_hmmlearn(np.concatenate(curr_features))\n"
   ],
   "metadata": {
    "collapsed": false
   }
  },
  {
   "cell_type": "code",
   "execution_count": null,
   "outputs": [],
   "source": [],
   "metadata": {
    "collapsed": false
   }
  }
 ],
 "metadata": {
  "kernelspec": {
   "display_name": "Python 3",
   "language": "python",
   "name": "python3"
  },
  "language_info": {
   "codemirror_mode": {
    "name": "ipython",
    "version": 2
   },
   "file_extension": ".py",
   "mimetype": "text/x-python",
   "name": "python",
   "nbconvert_exporter": "python",
   "pygments_lexer": "ipython2",
   "version": "2.7.6"
  }
 },
 "nbformat": 4,
 "nbformat_minor": 0
}
