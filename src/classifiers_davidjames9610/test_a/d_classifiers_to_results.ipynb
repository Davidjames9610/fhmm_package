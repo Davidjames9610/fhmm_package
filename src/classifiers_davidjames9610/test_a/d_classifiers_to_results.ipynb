{
 "cells": [
  {
   "cell_type": "markdown",
   "metadata": {},
   "source": []
  },
  {
   "cell_type": "code",
   "execution_count": 1,
   "metadata": {},
   "outputs": [],
   "source": [
    "import sys\n",
    "sys.path.append(\"/Users/david/Documents/code/fhmm/v1\")"
   ]
  },
  {
   "cell_type": "code",
   "execution_count": 2,
   "metadata": {},
   "outputs": [
    {
     "name": "stdout",
     "output_type": "stream",
     "text": [
      "/Users/david/Documents/code/fhmm/v1/src/classifiers_davidjames9610/test_a/ivector_speech_data\n"
     ]
    }
   ],
   "source": [
    "from importlib import reload\n",
    "from src.classifiers_davidjames9610.test_a.config import config_location\n",
    "import importlib\n",
    "import src.classifiers_davidjames9610.test_a.config as base_config\n",
    "reload(base_config)\n",
    "config = importlib.import_module(base_config.config_location)\n",
    "reload(config)\n",
    "print(config.basedir)\n",
    "import time"
   ]
  },
  {
   "cell_type": "code",
   "execution_count": 3,
   "metadata": {},
   "outputs": [],
   "source": [
    "# time = 20 ms\n",
    "# fs = 16000 = 1/t\n",
    "# windows samples = 20 * 10^-3 * 1/1600\n",
    "# = 0.2 * 1600 = 800"
   ]
  },
  {
   "cell_type": "code",
   "execution_count": 9,
   "metadata": {},
   "outputs": [],
   "source": [
    "import pickle\n",
    "import d_classifiers_to_results\n",
    "import src.misc_davidjames9610.utils as utils\n",
    "reload(d_classifiers_to_results)\n",
    "sls = utils.load_pickle(config.samples_labels)"
   ]
  },
  {
   "cell_type": "code",
   "execution_count": null,
   "metadata": {
    "pycharm": {
     "is_executing": true
    }
   },
   "outputs": [
    {
     "name": "stdout",
     "output_type": "stream",
     "text": [
      "loading lp_GaussNoise_SNR20.pickle\n",
      "loading lp_RealNoise_UNDER_WATER_DRONE_SNR40.pickle\n",
      "loading lp_GaussNoise_SNR0.pickle\n",
      "loading lp_GaussNoise_SNR10.pickle\n",
      "loading lp_GaussNoise_SNR-10.pickle\n",
      "loading lp_RealNoise_UNDER_WATER_DRONE_SNR0.pickle\n",
      "loading lp_None_None.pickle\n",
      "loading lp_GaussNoise_SNR40.pickle\n",
      "loading lp_RealNoise_UNDER_WATER_DRONE_SNR-10.pickle\n"
     ]
    }
   ],
   "source": [
    "import src.misc_davidjames9610.utils as utils\n",
    "reload(utils)\n",
    "reload(d_classifiers_to_results)\n",
    "\n",
    "import d_classifiers_to_results\n",
    "reload(d_classifiers_to_results)\n",
    "reload(utils)\n",
    "\n",
    "feature_keys = ['lp'] # ['lp', 'mfcc', 'lp']\n",
    "classifier_keys = [ 'fhmm'] # ['GaussianHMM', 'GMMHMM', 'fhmm']\n",
    "\n",
    "plot_cms = True\n",
    "save_cms = True\n",
    "\n",
    "for feature_key, classifier_key in zip(feature_keys, classifier_keys):\n",
    "    results = {}\n",
    "    # feature_key = 'lp'\n",
    "    # classifier_key = 'fhmm'\n",
    "    features = utils.folder_pickles_to_dict(config.basedir + '/features', feature_key)\n",
    "    classifiers = utils.folder_pickles_to_dict(config.basedir + '/classifiers', classifier_key)\n",
    "\n",
    "    include_buffer = False\n",
    "    if include_buffer:\n",
    "        d_classifiers_to_results.include_buffer_in_features(features, buffer_length=110, buffer_step=50)\n",
    "        utils.dict_to_folder_pickles(config.basedir + '/features', features)\n",
    "\n",
    "    start_time = time.time()\n",
    "\n",
    "    result_types = [\n",
    "        # 'classification_annotations',\n",
    "        # 'classification_buffer',\n",
    "        'classification_annotations_valg',\n",
    "        # 'classification_buffer_valg',\n",
    "        ]\n",
    "    for result_type in result_types:\n",
    "    # result_type = result_types[3]\n",
    "        results[result_type] = d_classifiers_to_results.get_classification_results(\n",
    "            features, classifiers, sls, config.basedir, result_type, plot_cm=plot_cms, save_plots=save_cms, new_results=True, clean_results_dir=True, clean_plot_results=True)\n",
    "\n",
    "    end_time = time.time()\n",
    "    print(f\"Execution time: {end_time - start_time:.6f} seconds\")"
   ]
  },
  {
   "cell_type": "code",
   "execution_count": null,
   "metadata": {},
   "outputs": [],
   "source": []
  }
 ],
 "metadata": {
  "kernelspec": {
   "display_name": "Python 3 (ipykernel)",
   "language": "python",
   "name": "python3"
  },
  "language_info": {
   "codemirror_mode": {
    "name": "ipython",
    "version": 3
   },
   "file_extension": ".py",
   "mimetype": "text/x-python",
   "name": "python",
   "nbconvert_exporter": "python",
   "pygments_lexer": "ipython3",
   "version": "3.10.8"
  }
 },
 "nbformat": 4,
 "nbformat_minor": 1
}
