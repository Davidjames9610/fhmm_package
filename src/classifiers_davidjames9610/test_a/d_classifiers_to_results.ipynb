{
 "cells": [
  {
   "cell_type": "markdown",
   "source": [],
   "metadata": {
    "collapsed": false
   }
  },
  {
   "cell_type": "code",
   "execution_count": 2,
   "metadata": {
    "collapsed": true
   },
   "outputs": [],
   "source": [
    "import sys\n",
    "sys.path.append(\"/Users/david/Documents/code/fhmm/v1\")"
   ]
  },
  {
   "cell_type": "code",
   "execution_count": 1,
   "outputs": [
    {
     "name": "stdout",
     "output_type": "stream",
     "text": [
      "/Users/david/Documents/code/fhmm/v1/src/classifiers_davidjames9610/test_a/speech_commands\n"
     ]
    }
   ],
   "source": [
    "from importlib import reload\n",
    "from src.classifiers_davidjames9610.test_a.config import config_location\n",
    "import importlib\n",
    "import src.classifiers_davidjames9610.test_a.config as base_config\n",
    "reload(base_config)\n",
    "config = importlib.import_module(base_config.config_location)\n",
    "reload(config)\n",
    "print(config.basedir)\n",
    "import time"
   ],
   "metadata": {
    "collapsed": false
   }
  },
  {
   "cell_type": "code",
   "execution_count": 3,
   "outputs": [],
   "source": [
    "# time = 20 ms\n",
    "# fs = 16000 = 1/t\n",
    "# windows samples = 20 * 10^-3 * 1/1600\n",
    "# = 0.2 * 1600 = 800"
   ],
   "metadata": {
    "collapsed": false
   }
  },
  {
   "cell_type": "code",
   "execution_count": 2,
   "outputs": [],
   "source": [
    "import pickle\n",
    "import d_classifiers_to_results\n",
    "import src.misc_davidjames9610.utils as utils\n",
    "reload(d_classifiers_to_results)\n",
    "sls = utils.load_pickle(config.samples_labels)"
   ],
   "metadata": {
    "collapsed": false
   }
  },
  {
   "cell_type": "code",
   "execution_count": 13,
   "outputs": [
    {
     "name": "stdout",
     "output_type": "stream",
     "text": [
      "loading mfcc_None_None.pickle\n"
     ]
    }
   ],
   "source": [
    "features = utils.folder_pickles_to_dict(config.basedir + '/features', 'mfcc_None')"
   ],
   "metadata": {
    "collapsed": false
   }
  },
  {
   "cell_type": "code",
   "execution_count": 4,
   "outputs": [
    {
     "name": "stdout",
     "output_type": "stream",
     "text": [
      "loading GMMHMM.pickle\n"
     ]
    }
   ],
   "source": [
    "classifiers = utils.folder_pickles_to_dict(config.basedir + '/classifiers', 'GMMHMM')"
   ],
   "metadata": {
    "collapsed": false
   }
  },
  {
   "cell_type": "code",
   "execution_count": null,
   "outputs": [],
   "source": [
    "curr_classifiers = classifiers['GMMHMM']['trained_classifiers']['mfcc_None_None']\n",
    "classifiers_to_combine = [curr_classifiers[speaker_key] for speaker_key in\n",
    "                                                  curr_classifiers]"
   ],
   "metadata": {
    "collapsed": false
   }
  },
  {
   "cell_type": "code",
   "execution_count": 14,
   "outputs": [],
   "source": [
    "import numpy as np\n",
    "curr_features = features['mfcc_None_None']['val_features'][0]\n",
    "curr_label = features['mfcc_None_None']['val_label'][0]\n",
    "long_labels = [curr_label[i] * np.ones(len(curr_features[i])) for i in range(len(curr_label))]\n",
    "labels_true = np.concatenate(long_labels)"
   ],
   "metadata": {
    "collapsed": false
   }
  },
  {
   "cell_type": "code",
   "execution_count": 16,
   "outputs": [],
   "source": [
    "import src.misc_davidjames9610.decode_combine as dc\n",
    "reload(dc)\n",
    "combined_model = dc.DecodeCombineGMMHMM(classifiers_to_combine)"
   ],
   "metadata": {
    "collapsed": false
   }
  },
  {
   "cell_type": "code",
   "execution_count": 17,
   "outputs": [],
   "source": [
    "_, labels_predicted, val_log_prob = combined_model.decode_hmmlearn(np.concatenate(curr_features))\n",
    "\n",
    "# CM\n",
    "performance_metrics = utils.get_performance_metrics(labels_true, labels_predicted,\n",
    "                                                    list(sls['num_to_label'].keys()))\n"
   ],
   "metadata": {
    "collapsed": false
   }
  },
  {
   "cell_type": "code",
   "execution_count": 7,
   "outputs": [],
   "source": [
    "results = {}\n",
    "plot_cms = True\n",
    "save_cms = True"
   ],
   "metadata": {
    "collapsed": false
   }
  },
  {
   "cell_type": "code",
   "execution_count": 6,
   "outputs": [
    {
     "name": "stdout",
     "output_type": "stream",
     "text": [
      "loading GMMHMM.pickle\n"
     ]
    }
   ],
   "source": [
    "include_buffer = False\n",
    "if include_buffer:\n",
    "    d_classifiers_to_results.include_buffer_in_features(features, buffer_length=250, buffer_step=125)\n",
    "    import pickle\n",
    "    pickle.dump(features, open(config.features,'wb'))"
   ],
   "metadata": {
    "collapsed": false
   }
  },
  {
   "cell_type": "code",
   "execution_count": 7,
   "outputs": [],
   "source": [
    "import d_classifiers_to_results\n",
    "reload(d_classifiers_to_results)\n",
    "import src.misc_davidjames9610.utils as utils\n",
    "reload(utils)\n",
    "start_time = time.time()\n",
    "\n",
    "result_types = ['classification_annotations',\n",
    "                'classification_buffer',\n",
    "                'classification_annotations_valg',\n",
    "                'classification_buffer_valg',\n",
    "                ]\n",
    "result_type = result_types[3]\n",
    "results['classification_annotations'] = d_classifiers_to_results.get_classification_results(\n",
    "    features, classifiers, sls, config.basedir, result_type, plot_cm=plot_cms, save_plots=save_cms, new_results=True)\n",
    "\n",
    "end_time = time.time()\n",
    "print(f\"Execution time: {end_time - start_time:.6f} seconds\")"
   ],
   "metadata": {
    "collapsed": false
   }
  },
  {
   "cell_type": "code",
   "execution_count": 18,
   "outputs": [],
   "source": [
    "import d_classifiers_to_results\n",
    "reload(d_classifiers_to_results)\n",
    "start_time = time.time()\n",
    "\n",
    "results['classification_buffer'] = d_classifiers_to_results.get_classification_buff_results(\n",
    "    features, classifiers, sls, config.basedir, plot_cm=plot_cms, save_plots=save_cms)\n",
    "\n",
    "end_time = time.time()\n",
    "print(f\"Execution time: {end_time - start_time:.6f} seconds\")"
   ],
   "metadata": {
    "collapsed": false
   }
  },
  {
   "cell_type": "code",
   "execution_count": null,
   "outputs": [
    {
     "name": "stderr",
     "output_type": "stream",
     "text": [
      "Traceback (most recent call last):\n",
      "  File \"/Applications/PyCharm.app/Contents/plugins/python/helpers/pydev/_pydevd_bundle/pydevd_comm.py\", line 293, in _on_run\n",
      "    r = self.sock.recv(1024)\n",
      "ConnectionResetError: [Errno 54] Connection reset by peer\n"
     ]
    },
    {
     "ename": "KeyError",
     "evalue": "'mfcc'",
     "output_type": "error",
     "traceback": [
      "\u001B[0;31m---------------------------------------------------------------------------\u001B[0m",
      "\u001B[0;31mKeyError\u001B[0m                                  Traceback (most recent call last)",
      "Cell \u001B[0;32mIn[8], line 15\u001B[0m\n\u001B[1;32m      7\u001B[0m result_types \u001B[38;5;241m=\u001B[39m [\n\u001B[1;32m      8\u001B[0m     \u001B[38;5;124m'\u001B[39m\u001B[38;5;124mclassification_annotations\u001B[39m\u001B[38;5;124m'\u001B[39m,\n\u001B[1;32m      9\u001B[0m     \u001B[38;5;124m'\u001B[39m\u001B[38;5;124mclassification_buffer\u001B[39m\u001B[38;5;124m'\u001B[39m,\n\u001B[1;32m     10\u001B[0m     \u001B[38;5;124m'\u001B[39m\u001B[38;5;124mclassification_annotations_valg\u001B[39m\u001B[38;5;124m'\u001B[39m,\n\u001B[1;32m     11\u001B[0m     \u001B[38;5;124m'\u001B[39m\u001B[38;5;124mclassification_buffer_valg\u001B[39m\u001B[38;5;124m'\u001B[39m,\n\u001B[1;32m     12\u001B[0m ]\n\u001B[1;32m     14\u001B[0m result_type \u001B[38;5;241m=\u001B[39m result_types[\u001B[38;5;241m2\u001B[39m]\n\u001B[0;32m---> 15\u001B[0m results[result_type] \u001B[38;5;241m=\u001B[39m \u001B[43md_classifiers_to_results\u001B[49m\u001B[38;5;241;43m.\u001B[39;49m\u001B[43mget_classification_results\u001B[49m\u001B[43m(\u001B[49m\n\u001B[1;32m     16\u001B[0m \u001B[43m    \u001B[49m\u001B[43mfeatures\u001B[49m\u001B[43m,\u001B[49m\u001B[43m \u001B[49m\u001B[43mclassifiers\u001B[49m\u001B[43m,\u001B[49m\u001B[43m \u001B[49m\u001B[43msls\u001B[49m\u001B[43m,\u001B[49m\u001B[43m \u001B[49m\u001B[43mconfig\u001B[49m\u001B[38;5;241;43m.\u001B[39;49m\u001B[43mbasedir\u001B[49m\u001B[43m,\u001B[49m\u001B[43m \u001B[49m\u001B[43mresult_type\u001B[49m\u001B[43m,\u001B[49m\u001B[43m \u001B[49m\u001B[43mplot_cm\u001B[49m\u001B[38;5;241;43m=\u001B[39;49m\u001B[43mplot_cms\u001B[49m\u001B[43m,\u001B[49m\u001B[43m \u001B[49m\u001B[43msave_plots\u001B[49m\u001B[38;5;241;43m=\u001B[39;49m\u001B[43msave_cms\u001B[49m\u001B[43m,\u001B[49m\u001B[43m \u001B[49m\u001B[43mquick\u001B[49m\u001B[38;5;241;43m=\u001B[39;49m\u001B[38;5;28;43;01mTrue\u001B[39;49;00m\u001B[43m)\u001B[49m\n\u001B[1;32m     18\u001B[0m end_time \u001B[38;5;241m=\u001B[39m time\u001B[38;5;241m.\u001B[39mtime()\n\u001B[1;32m     19\u001B[0m \u001B[38;5;28mprint\u001B[39m(\u001B[38;5;124mf\u001B[39m\u001B[38;5;124m\"\u001B[39m\u001B[38;5;124mExecution time: \u001B[39m\u001B[38;5;132;01m{\u001B[39;00mend_time \u001B[38;5;241m-\u001B[39m start_time\u001B[38;5;132;01m:\u001B[39;00m\u001B[38;5;124m.6f\u001B[39m\u001B[38;5;132;01m}\u001B[39;00m\u001B[38;5;124m seconds\u001B[39m\u001B[38;5;124m\"\u001B[39m)\n",
      "File \u001B[0;32m~/Documents/code/fhmm/v1/src/classifiers_davidjames9610/test_a/d_classifiers_to_results.py:51\u001B[0m, in \u001B[0;36mget_classification_results\u001B[0;34m(features, classifiers, sls, basedir, result_type, plot_cm, save_plots, quick, save_results, new_results)\u001B[0m\n\u001B[1;32m     47\u001B[0m \u001B[38;5;28mprint\u001B[39m(\u001B[38;5;124m'\u001B[39m\u001B[38;5;124m  Testing for:\u001B[39m\u001B[38;5;124m'\u001B[39m, feature_key)\n\u001B[1;32m     49\u001B[0m cv_index \u001B[38;5;241m=\u001B[39m \u001B[38;5;241m0\u001B[39m  \u001B[38;5;66;03m# todo think about updating this cv index for testing\u001B[39;00m\n\u001B[0;32m---> 51\u001B[0m curr_features \u001B[38;5;241m=\u001B[39m \u001B[43mfeatures\u001B[49m\u001B[43m[\u001B[49m\u001B[43mfeature_key\u001B[49m\u001B[43m]\u001B[49m[\u001B[38;5;124m'\u001B[39m\u001B[38;5;124mval_features\u001B[39m\u001B[38;5;124m'\u001B[39m][cv_index]\n\u001B[1;32m     52\u001B[0m curr_label \u001B[38;5;241m=\u001B[39m features[feature_key][\u001B[38;5;124m'\u001B[39m\u001B[38;5;124mval_label\u001B[39m\u001B[38;5;124m'\u001B[39m][cv_index]\n\u001B[1;32m     53\u001B[0m curr_classifiers \u001B[38;5;241m=\u001B[39m classifier[\u001B[38;5;124m'\u001B[39m\u001B[38;5;124mtrained_classifiers\u001B[39m\u001B[38;5;124m'\u001B[39m][feature_key]\n",
      "\u001B[0;31mKeyError\u001B[0m: 'mfcc'"
     ]
    }
   ],
   "source": [
    "import d_classifiers_to_results\n",
    "reload(d_classifiers_to_results)\n",
    "start_time = time.time()\n",
    "\n",
    "results['classification_annotations_valg'] = d_classifiers_to_results.get_classification_valg_results(\n",
    "    features, classifiers, sls, config.basedir, plot_cm=plot_cms, save_plots=save_cms)\n",
    "\n",
    "end_time = time.time()\n",
    "print(f\"Execution time: {end_time - start_time:.6f} seconds\")"
   ],
   "metadata": {
    "collapsed": false
   }
  },
  {
   "cell_type": "code",
   "execution_count": null,
   "outputs": [],
   "source": [
    "import d_classifiers_to_results\n",
    "reload(d_classifiers_to_results)\n",
    "start_time = time.time()\n",
    "\n",
    "results['classification_buffer_valg'] = d_classifiers_to_results.get_classification_valg_buffer_results(\n",
    "    features, classifiers, sls, config.basedir, plot_cm=plot_cms, save_plots=save_cms)\n",
    "\n",
    "end_time = time.time()\n",
    "print(f\"Execution time: {end_time - start_time:.6f} seconds\")"
   ],
   "metadata": {
    "collapsed": false
   }
  },
  {
   "cell_type": "code",
   "execution_count": 21,
   "outputs": [
    {
     "name": "stdout",
     "output_type": "stream",
     "text": [
      "Directory '/Users/david/Documents/code/fhmm/v1/src/classifiers_davidjames9610/test_a/speech_commands/results/classification_buffer_valg' created.\n",
      "saving / updating  GaussianHMM\n"
     ]
    }
   ],
   "source": [
    "import pickle\n",
    "pickle.dump(results, open(config.results,'wb'))"
   ],
   "metadata": {
    "collapsed": false
   }
  },
  {
   "cell_type": "code",
   "execution_count": null,
   "outputs": [],
   "source": [],
   "metadata": {
    "collapsed": false
   }
  }
 ],
 "metadata": {
  "kernelspec": {
   "display_name": "Python 3",
   "language": "python",
   "name": "python3"
  },
  "language_info": {
   "codemirror_mode": {
    "name": "ipython",
    "version": 2
   },
   "file_extension": ".py",
   "mimetype": "text/x-python",
   "name": "python",
   "nbconvert_exporter": "python",
   "pygments_lexer": "ipython2",
   "version": "2.7.6"
  }
 },
 "nbformat": 4,
 "nbformat_minor": 0
}
