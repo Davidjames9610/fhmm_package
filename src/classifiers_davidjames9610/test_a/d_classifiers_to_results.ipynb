{
 "cells": [
  {
   "cell_type": "markdown",
   "metadata": {},
   "source": []
  },
  {
   "cell_type": "code",
   "execution_count": 1,
   "metadata": {},
   "outputs": [],
   "source": [
    "import sys\n",
    "sys.path.append(\"/Users/david/Documents/code/fhmm/v1\")"
   ]
  },
  {
   "cell_type": "code",
   "execution_count": 2,
   "metadata": {},
   "outputs": [
    {
     "name": "stdout",
     "output_type": "stream",
     "text": [
      "/Users/david/Documents/code/fhmm/v1/src/classifiers_davidjames9610/test_a/speech_commands\n"
     ]
    }
   ],
   "source": [
    "from importlib import reload\n",
    "from src.classifiers_davidjames9610.test_a.config import config_location\n",
    "import importlib\n",
    "import src.classifiers_davidjames9610.test_a.config as base_config\n",
    "reload(base_config)\n",
    "config = importlib.import_module(base_config.config_location)\n",
    "reload(config)\n",
    "print(config.basedir)\n",
    "import time"
   ]
  },
  {
   "cell_type": "code",
   "execution_count": 3,
   "metadata": {},
   "outputs": [],
   "source": [
    "# time = 20 ms\n",
    "# fs = 16000 = 1/t\n",
    "# windows samples = 20 * 10^-3 * 1/1600\n",
    "# = 0.2 * 1600 = 800"
   ]
  },
  {
   "cell_type": "code",
   "execution_count": 4,
   "metadata": {},
   "outputs": [],
   "source": [
    "import pickle\n",
    "import d_classifiers_to_results\n",
    "import src.misc_davidjames9610.utils as utils\n",
    "reload(d_classifiers_to_results)\n",
    "sls = utils.load_pickle(config.samples_labels)"
   ]
  },
  {
   "cell_type": "code",
   "execution_count": 5,
   "metadata": {},
   "outputs": [
    {
     "name": "stdout",
     "output_type": "stream",
     "text": [
      "loading mfcc_RealNoise_UNDER_WATER_DRONE_SNR40.pickle\n",
      "loading mfcc_GaussNoise_SNR60.pickle\n",
      "loading mfcc_RealNoise_UNDER_WATER_DRONE_SNR60.pickle\n",
      "loading mfcc_GaussNoise_SNR40.pickle\n",
      "loading mfcc_None_None.pickle\n",
      "loading mfcc_RealNoise_UNDER_WATER_DRONE_SNR20.pickle\n",
      "loading mfcc_GaussNoise_SNR10.pickle\n",
      "loading mfcc_RealNoise_UNDER_WATER_DRONE_SNR10.pickle\n",
      "loading mfcc_GaussNoise_SNR20.pickle\n"
     ]
    }
   ],
   "source": [
    "features = utils.folder_pickles_to_dict(config.basedir + '/features', 'mfcc')"
   ]
  },
  {
   "cell_type": "code",
   "execution_count": 6,
   "metadata": {},
   "outputs": [
    {
     "name": "stdout",
     "output_type": "stream",
     "text": [
      "loading GMMHMM.pickle\n"
     ]
    }
   ],
   "source": [
    "classifiers = utils.folder_pickles_to_dict(config.basedir + '/classifiers', 'GMMHMM')"
   ]
  },
  {
   "cell_type": "code",
   "execution_count": 7,
   "metadata": {},
   "outputs": [],
   "source": [
    "results = {}\n",
    "plot_cms = True\n",
    "save_cms = True"
   ]
  },
  {
   "cell_type": "code",
   "execution_count": 8,
   "metadata": {},
   "outputs": [
    {
     "name": "stdout",
     "output_type": "stream",
     "text": [
      "  buffering for: mfcc_GaussNoise_SNR10\n",
      "  buffering for: mfcc_GaussNoise_SNR20\n",
      "  buffering for: mfcc_GaussNoise_SNR40\n",
      "  buffering for: mfcc_GaussNoise_SNR60\n",
      "  buffering for: mfcc_None_None\n",
      "  buffering for: mfcc_RealNoise_UNDER_WATER_DRONE_SNR10\n",
      "  buffering for: mfcc_RealNoise_UNDER_WATER_DRONE_SNR20\n",
      "  buffering for: mfcc_RealNoise_UNDER_WATER_DRONE_SNR40\n",
      "  buffering for: mfcc_RealNoise_UNDER_WATER_DRONE_SNR60\n",
      "Directory '/Users/david/Documents/code/fhmm/v1/src/classifiers_davidjames9610/test_a/speech_commands/features' already exists, removing old files:  False\n",
      "saving / updating  mfcc_GaussNoise_SNR10\n",
      "saving / updating  mfcc_GaussNoise_SNR20\n",
      "saving / updating  mfcc_GaussNoise_SNR40\n",
      "saving / updating  mfcc_GaussNoise_SNR60\n",
      "saving / updating  mfcc_None_None\n",
      "saving / updating  mfcc_RealNoise_UNDER_WATER_DRONE_SNR10\n",
      "saving / updating  mfcc_RealNoise_UNDER_WATER_DRONE_SNR20\n",
      "saving / updating  mfcc_RealNoise_UNDER_WATER_DRONE_SNR40\n",
      "saving / updating  mfcc_RealNoise_UNDER_WATER_DRONE_SNR60\n"
     ]
    }
   ],
   "source": [
    "import src.misc_davidjames9610.utils as utils\n",
    "reload(utils)\n",
    "include_buffer = False\n",
    "if include_buffer:\n",
    "    d_classifiers_to_results.include_buffer_in_features(features, buffer_length=250, buffer_step=125)\n",
    "    utils.dict_to_folder_pickles(config.basedir + '/features', features)\n",
    "#     import pickle\n",
    "#     pickle.dump(features, open(config.features,'wb'))"
   ]
  },
  {
   "cell_type": "code",
   "execution_count": 9,
   "metadata": {},
   "outputs": [
    {
     "name": "stdout",
     "output_type": "stream",
     "text": [
      "Directory '/Users/david/Documents/code/fhmm/v1/src/classifiers_davidjames9610/test_a/speech_commands/plots/classification_buffer_valg/' already exists, removing old files:  False\n",
      "type: classification_buffer_valg\n",
      "For classifier: GMMHMM\n",
      "already saved: ['mfcc_RealNoise_UNDER_WATER_DRONE_SNR40', 'mfcc_GaussNoise_SNR60', 'mfcc_RealNoise_UNDER_WATER_DRONE_SNR60', 'mfcc_GaussNoise_SNR40', 'mfcc_None_None', 'mfcc_RealNoise_UNDER_WATER_DRONE_SNR20', 'mfcc_GaussNoise_SNR10', 'mfcc_RealNoise_UNDER_WATER_DRONE_SNR10', 'mfcc_GaussNoise_SNR20']\n",
      "Directory '/Users/david/Documents/code/fhmm/v1/src/classifiers_davidjames9610/test_a/speech_commands/results/classification_buffer_valg/GMMHMM' already exists, removing old files:  False\n",
      "Execution time: 0.000319 seconds\n"
     ]
    }
   ],
   "source": [
    "import d_classifiers_to_results\n",
    "reload(d_classifiers_to_results)\n",
    "\n",
    "start_time = time.time()\n",
    "\n",
    "result_types = ['classification_annotations',\n",
    "                'classification_buffer',\n",
    "                'classification_annotations_valg',\n",
    "                'classification_buffer_valg',\n",
    "                ]\n",
    "result_type = result_types[3]\n",
    "results[result_type] = d_classifiers_to_results.get_classification_results(\n",
    "    features, classifiers, sls, config.basedir, result_type, plot_cm=plot_cms, save_plots=save_cms)\n",
    "\n",
    "end_time = time.time()\n",
    "print(f\"Execution time: {end_time - start_time:.6f} seconds\")"
   ]
  },
  {
   "cell_type": "code",
   "execution_count": null,
   "metadata": {},
   "outputs": [],
   "source": []
  }
 ],
 "metadata": {
  "kernelspec": {
   "display_name": "Python 3 (ipykernel)",
   "language": "python",
   "name": "python3"
  },
  "language_info": {
   "codemirror_mode": {
    "name": "ipython",
    "version": 3
   },
   "file_extension": ".py",
   "mimetype": "text/x-python",
   "name": "python",
   "nbconvert_exporter": "python",
   "pygments_lexer": "ipython3",
   "version": "3.10.8"
  }
 },
 "nbformat": 4,
 "nbformat_minor": 1
}
