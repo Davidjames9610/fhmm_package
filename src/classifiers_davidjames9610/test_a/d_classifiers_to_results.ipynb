{
 "cells": [
  {
   "cell_type": "markdown",
   "source": [],
   "metadata": {
    "collapsed": false
   }
  },
  {
   "cell_type": "code",
   "execution_count": 13,
   "metadata": {
    "collapsed": true
   },
   "outputs": [],
   "source": [
    "import sys\n",
    "sys.path.append(\"/Users/david/Documents/code/fhmm/v1\")"
   ]
  },
  {
   "cell_type": "code",
   "execution_count": 14,
   "outputs": [
    {
     "name": "stdout",
     "output_type": "stream",
     "text": [
      "/Users/david/Documents/code/fhmm/v1/src/classifiers_davidjames9610/test_a/speech_commands\n"
     ]
    }
   ],
   "source": [
    "from importlib import reload\n",
    "from src.classifiers_davidjames9610.test_a.config import config_location\n",
    "import importlib\n",
    "import src.classifiers_davidjames9610.test_a.config as base_config\n",
    "reload(base_config)\n",
    "config = importlib.import_module(base_config.config_location)\n",
    "reload(config)\n",
    "print(config.basedir)\n",
    "import time"
   ],
   "metadata": {
    "collapsed": false
   }
  },
  {
   "cell_type": "code",
   "execution_count": 5,
   "outputs": [],
   "source": [
    "# time = 20 ms\n",
    "# fs = 16000 = 1/t\n",
    "# windows samples = 20 * 10^-3 * 1/1600\n",
    "# = 0.2 * 1600 = 800"
   ],
   "metadata": {
    "collapsed": false
   }
  },
  {
   "cell_type": "code",
   "execution_count": 27,
   "outputs": [],
   "source": [
    "import pickle\n",
    "import d_classifiers_to_results\n",
    "reload(d_classifiers_to_results)\n",
    "\n",
    "sls = pickle.load(open(config.samples_labels,'rb'))\n",
    "features = pickle.load(open(config.features,'rb'))\n",
    "classifiers = pickle.load(open(config.classifiers,'rb'))\n",
    "results = {}\n",
    "plot_cms = True\n",
    "save_cms = True\n",
    "# d_classifiers_to_results.include_buffer_in_features(features, buffer_length=250, buffer_step=125)\n",
    "# import pickle\n",
    "# pickle.dump(features, open(config.features,'wb'))"
   ],
   "metadata": {
    "collapsed": false
   }
  },
  {
   "cell_type": "code",
   "execution_count": 19,
   "outputs": [
    {
     "name": "stdout",
     "output_type": "stream",
     "text": [
      "Directory '/Users/david/Documents/code/fhmm/v1/src/classifiers_davidjames9610/test_a/speech_commands/results/classification/normal' already exists, removing old files:  True\n",
      "For classifier: GaussianHMM\n",
      "  Testing for: lp\n",
      "Execution time: 5.239945 seconds\n"
     ]
    }
   ],
   "source": [
    "import d_classifiers_to_results\n",
    "reload(d_classifiers_to_results)\n",
    "start_time = time.time()\n",
    "\n",
    "results['classification_annotations'] = d_classifiers_to_results.get_classification_results(\n",
    "    features, classifiers, sls, config.basedir, plot_cm=plot_cms, save_plots=save_cms)\n",
    "\n",
    "end_time = time.time()\n",
    "print(f\"Execution time: {end_time - start_time:.6f} seconds\")"
   ],
   "metadata": {
    "collapsed": false
   }
  },
  {
   "cell_type": "code",
   "execution_count": 20,
   "outputs": [
    {
     "name": "stdout",
     "output_type": "stream",
     "text": [
      "Directory '/Users/david/Documents/code/fhmm/v1/src/classifiers_davidjames9610/test_a/speech_commands/results/classification/buffer' already exists, removing old files:  True\n",
      "For classifier: GaussianHMM\n",
      "  Testing for: lp\n",
      "Execution time: 11.373649 seconds\n"
     ]
    }
   ],
   "source": [
    "import d_classifiers_to_results\n",
    "reload(d_classifiers_to_results)\n",
    "start_time = time.time()\n",
    "\n",
    "results['classification_buffer'] = d_classifiers_to_results.get_classification_buff_results(\n",
    "    features, classifiers, sls, config.basedir, plot_cm=plot_cms, save_plots=save_cms)\n",
    "\n",
    "end_time = time.time()\n",
    "print(f\"Execution time: {end_time - start_time:.6f} seconds\")"
   ],
   "metadata": {
    "collapsed": false
   }
  },
  {
   "cell_type": "code",
   "execution_count": 22,
   "outputs": [
    {
     "name": "stdout",
     "output_type": "stream",
     "text": [
      "Directory '/Users/david/Documents/code/fhmm/v1/src/classifiers_davidjames9610/test_a/speech_commands/results/classification-valg/normal' already exists, removing old files:  True\n",
      "For classifier: GaussianHMM\n",
      "testing for feature type:  lp\n",
      "use cm\n",
      "Execution time: 8.783930 seconds\n"
     ]
    }
   ],
   "source": [
    "import d_classifiers_to_results\n",
    "reload(d_classifiers_to_results)\n",
    "start_time = time.time()\n",
    "\n",
    "results['classification_annotations_valg'] = d_classifiers_to_results.get_classification_valg_results(\n",
    "    features, classifiers, sls, config.basedir, plot_cm=plot_cms, save_plots=save_cms)\n",
    "\n",
    "end_time = time.time()\n",
    "print(f\"Execution time: {end_time - start_time:.6f} seconds\")"
   ],
   "metadata": {
    "collapsed": false
   }
  },
  {
   "cell_type": "code",
   "execution_count": 24,
   "outputs": [
    {
     "name": "stdout",
     "output_type": "stream",
     "text": [
      "Directory '/Users/david/Documents/code/fhmm/v1/src/classifiers_davidjames9610/test_a/speech_commands/results/classification-valg/buffer/' already exists, removing old files:  True\n",
      "For classifier: GaussianHMM\n",
      "testing for feature type:  lp\n",
      "Execution time: 180.301012 seconds\n"
     ]
    }
   ],
   "source": [
    "import d_classifiers_to_results\n",
    "reload(d_classifiers_to_results)\n",
    "start_time = time.time()\n",
    "\n",
    "results['classification_buffer_valg'] = d_classifiers_to_results.get_classification_valg_buffer_results(\n",
    "    features, classifiers, sls, config.basedir, plot_cm=plot_cms, save_plots=save_cms)\n",
    "\n",
    "end_time = time.time()\n",
    "print(f\"Execution time: {end_time - start_time:.6f} seconds\")"
   ],
   "metadata": {
    "collapsed": false
   }
  },
  {
   "cell_type": "code",
   "execution_count": 26,
   "outputs": [],
   "source": [
    "import pickle\n",
    "pickle.dump(results, open(config.results,'wb'))"
   ],
   "metadata": {
    "collapsed": false
   }
  },
  {
   "cell_type": "code",
   "execution_count": null,
   "outputs": [],
   "source": [],
   "metadata": {
    "collapsed": false
   }
  }
 ],
 "metadata": {
  "kernelspec": {
   "display_name": "Python 3",
   "language": "python",
   "name": "python3"
  },
  "language_info": {
   "codemirror_mode": {
    "name": "ipython",
    "version": 2
   },
   "file_extension": ".py",
   "mimetype": "text/x-python",
   "name": "python",
   "nbconvert_exporter": "python",
   "pygments_lexer": "ipython2",
   "version": "2.7.6"
  }
 },
 "nbformat": 4,
 "nbformat_minor": 0
}
