{
 "cells": [
  {
   "cell_type": "code",
   "execution_count": 1,
   "metadata": {
    "collapsed": true
   },
   "outputs": [],
   "source": [
    "# pick a hmm classifier and run through features,\n",
    "# two different ways to analyse accuracy, confusion matrix per sample or combined model"
   ]
  },
  {
   "cell_type": "code",
   "execution_count": 2,
   "outputs": [],
   "source": [
    "import sys\n",
    "sys.path.append(\"/Users/david/Documents/code/fhmm/v1\")"
   ],
   "metadata": {
    "collapsed": false
   }
  },
  {
   "cell_type": "code",
   "execution_count": 3,
   "outputs": [],
   "source": [
    "import src.ads_davidjames9610.ads as ads\n",
    "import src.ads_davidjames9610.useful as useful\n",
    "import numpy as np\n",
    "import os\n",
    "import os.path\n",
    "from pathlib import Path\n",
    "import matplotlib.pyplot as plt\n",
    "from importlib import reload\n",
    "from src.classifiers_davidjames9610.test_a.e_config import *\n",
    "import src.misc_davidjames9610.fe_methods as fe\n",
    "import src.misc_davidjames9610.proc_methods as pm\n",
    "from hmmlearn.hmm import GaussianHMM, GMMHMM"
   ],
   "metadata": {
    "collapsed": false
   }
  },
  {
   "cell_type": "code",
   "execution_count": 4,
   "outputs": [],
   "source": [
    "import pickle\n",
    "sls = pickle.load(open('samples_labels.pickle','rb'))\n",
    "features = pickle.load(open('features.pickle','rb'))"
   ],
   "metadata": {
    "collapsed": false
   }
  },
  {
   "cell_type": "code",
   "execution_count": 5,
   "outputs": [],
   "source": [
    "# config\n",
    "number_of_iterations = 1\n",
    "n_components = 8"
   ],
   "metadata": {
    "collapsed": false
   }
  },
  {
   "cell_type": "code",
   "execution_count": 8,
   "outputs": [
    {
     "name": "stdout",
     "output_type": "stream",
     "text": [
      "training for feature type:  lp\n",
      "training for feature type:  mfcc\n"
     ]
    }
   ],
   "source": [
    "classifiers = {} # one for feature\n",
    "cv_index = 0 # TODO expand later\n",
    "\n",
    "for feature_key in features:\n",
    "\n",
    "    print('training for feature type: ', feature_key)\n",
    "\n",
    "    classifiers[feature_key] = {}\n",
    "    curr_features = features[feature_key]['train_features'][cv_index]\n",
    "    curr_labels = features[feature_key]['train_label'][cv_index]\n",
    "\n",
    "    for speaker in sls['labels_set']:\n",
    "\n",
    "        print('training on for speaker: ', speaker)\n",
    "\n",
    "        speaker_num = sls['label_to_num'][speaker]\n",
    "        mask = (curr_labels == speaker_num)\n",
    "        mask = mask.tolist()\n",
    "        speaker_features = [array for array, flag in zip(curr_features, mask) if flag]\n",
    "        speaker_features = np.array([item for sublist in speaker_features for item in sublist]) # TODO maybe dont flatten ?\n",
    "        curr_classifier = GaussianHMM(n_components=n_components, covariance_type='diag')\n",
    "        curr_classifier.fit(speaker_features)\n",
    "\n",
    "        classifiers[feature_key][speaker] = curr_classifier\n"
   ],
   "metadata": {
    "collapsed": false
   }
  },
  {
   "cell_type": "code",
   "execution_count": 9,
   "outputs": [],
   "source": [
    "import pickle\n",
    "pickle.dump(classifiers, open('classifiers.pickle','wb'))"
   ],
   "metadata": {
    "collapsed": false
   }
  }
 ],
 "metadata": {
  "kernelspec": {
   "display_name": "Python 3",
   "language": "python",
   "name": "python3"
  },
  "language_info": {
   "codemirror_mode": {
    "name": "ipython",
    "version": 2
   },
   "file_extension": ".py",
   "mimetype": "text/x-python",
   "name": "python",
   "nbconvert_exporter": "python",
   "pygments_lexer": "ipython2",
   "version": "2.7.6"
  }
 },
 "nbformat": 4,
 "nbformat_minor": 0
}
