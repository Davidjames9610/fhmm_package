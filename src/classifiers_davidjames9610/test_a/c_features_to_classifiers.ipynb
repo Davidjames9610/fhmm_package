{
 "cells": [
  {
   "cell_type": "code",
   "execution_count": 1,
   "metadata": {},
   "outputs": [],
   "source": [
    "# pick a hmm classifier and run through features,\n",
    "# two different ways to analyse accuracy, confusion matrix per sample or combined model"
   ]
  },
  {
   "cell_type": "code",
   "execution_count": 5,
   "metadata": {},
   "outputs": [],
   "source": [
    "import sys\n",
    "sys.path.append(\"/Users/david/Documents/code/fhmm/v1\")"
   ]
  },
  {
   "cell_type": "code",
   "execution_count": 6,
   "metadata": {},
   "outputs": [
    {
     "name": "stdout",
     "output_type": "stream",
     "text": [
      "/Users/david/Documents/code/fhmm/v1/src/classifiers_davidjames9610/test_a/whale_data\n"
     ]
    }
   ],
   "source": [
    "\n",
    "import numpy as np\n",
    "import os\n",
    "import os.path\n",
    "from pathlib import Path\n",
    "import matplotlib.pyplot as plt\n",
    "from importlib import reload\n",
    "import src.misc_davidjames9610.fe_methods as fe\n",
    "import src.misc_davidjames9610.proc_methods as pm\n",
    "import importlib\n",
    "from hmmlearn.hmm import GaussianHMM, GMMHMM\n",
    "\n",
    "import src.classifiers_davidjames9610.test_a.config as base_config\n",
    "reload(base_config)\n",
    "config = importlib.import_module(base_config.config_location)\n",
    "reload(config)\n",
    "print(config.basedir)"
   ]
  },
  {
   "cell_type": "code",
   "execution_count": 7,
   "outputs": [
    {
     "name": "stdout",
     "output_type": "stream",
     "text": [
      "lp fhmm\n",
      "loading lp_GaussNoise_SNR20.pickle\n",
      "loading lp_GaussNoise_SNR10.pickle\n",
      "loading lp_RealNoise_UNDER_WATER_DRONE_SNR0.pickle\n",
      "loading lp_None_None.pickle\n",
      "loading lp_GaussNoise_SNR40.pickle\n",
      "loading lp_RealNoise_UNDER_WATER_DRONE_SNR-10.pickle\n",
      "loading lp_RealNoise_UNDER_WATER_DRONE_SNR10.pickle\n",
      "loading lp_GaussNoise_SNR60.pickle\n",
      "loading lp_RealNoise_UNDER_WATER_DRONE_SNR20.pickle\n",
      "['lp_GaussNoise_SNR10', 'lp_GaussNoise_SNR20', 'lp_GaussNoise_SNR40', 'lp_GaussNoise_SNR60', 'lp_None_None', 'lp_RealNoise_UNDER_WATER_DRONE_SNR-10', 'lp_RealNoise_UNDER_WATER_DRONE_SNR0', 'lp_RealNoise_UNDER_WATER_DRONE_SNR10', 'lp_RealNoise_UNDER_WATER_DRONE_SNR20']\n",
      "For classifier: fhmm\n",
      "training for speaker:  HPB\n",
      "training for speaker:  SRW\n",
      "training for speaker:  BRD\n",
      "training for speaker:  BWH\n",
      "training for speaker:  SPM\n",
      "training for speaker:  NOISE\n",
      "done!\n",
      "Directory '/Users/david/Documents/code/fhmm/v1/src/classifiers_davidjames9610/test_a/whale_data/classifiers' already exists, removing old files:  False\n",
      "saving / updating  fhmm\n",
      "lp GaussianHMM\n",
      "loading lp_GaussNoise_SNR20.pickle\n",
      "loading lp_GaussNoise_SNR10.pickle\n",
      "loading lp_RealNoise_UNDER_WATER_DRONE_SNR0.pickle\n",
      "loading lp_None_None.pickle\n",
      "loading lp_GaussNoise_SNR40.pickle\n",
      "loading lp_RealNoise_UNDER_WATER_DRONE_SNR-10.pickle\n",
      "loading lp_RealNoise_UNDER_WATER_DRONE_SNR10.pickle\n",
      "loading lp_GaussNoise_SNR60.pickle\n",
      "loading lp_RealNoise_UNDER_WATER_DRONE_SNR20.pickle\n",
      "['lp_GaussNoise_SNR10', 'lp_GaussNoise_SNR20', 'lp_GaussNoise_SNR40', 'lp_GaussNoise_SNR60', 'lp_None_None', 'lp_RealNoise_UNDER_WATER_DRONE_SNR-10', 'lp_RealNoise_UNDER_WATER_DRONE_SNR0', 'lp_RealNoise_UNDER_WATER_DRONE_SNR10', 'lp_RealNoise_UNDER_WATER_DRONE_SNR20']\n",
      "For classifier: GaussianHMM\n",
      "training for speaker:  HPB\n",
      "training for speaker:  SRW\n",
      "training for speaker:  BRD\n",
      "training for speaker:  BWH\n",
      "training for speaker:  SPM\n",
      "training for speaker:  NOISE\n",
      "done!\n",
      "Directory '/Users/david/Documents/code/fhmm/v1/src/classifiers_davidjames9610/test_a/whale_data/classifiers' already exists, removing old files:  False\n",
      "saving / updating  GaussianHMM\n",
      "mfcc GMMHMM\n",
      "loading mfcc_GaussNoise_SNR60.pickle\n",
      "loading mfcc_GaussNoise_SNR40.pickle\n",
      "loading mfcc_RealNoise_UNDER_WATER_DRONE_SNR0.pickle\n",
      "loading mfcc_None_None.pickle\n",
      "loading mfcc_RealNoise_UNDER_WATER_DRONE_SNR20.pickle\n",
      "loading mfcc_RealNoise_UNDER_WATER_DRONE_SNR-10.pickle\n",
      "loading mfcc_GaussNoise_SNR10.pickle\n",
      "loading mfcc_RealNoise_UNDER_WATER_DRONE_SNR10.pickle\n",
      "loading mfcc_GaussNoise_SNR20.pickle\n",
      "['mfcc_GaussNoise_SNR10', 'mfcc_GaussNoise_SNR20', 'mfcc_GaussNoise_SNR40', 'mfcc_GaussNoise_SNR60', 'mfcc_None_None', 'mfcc_RealNoise_UNDER_WATER_DRONE_SNR-10', 'mfcc_RealNoise_UNDER_WATER_DRONE_SNR0', 'mfcc_RealNoise_UNDER_WATER_DRONE_SNR10', 'mfcc_RealNoise_UNDER_WATER_DRONE_SNR20']\n",
      "For classifier: GMMHMM\n",
      "training for speaker:  HPB\n",
      "training for speaker:  SRW\n",
      "training for speaker:  BRD\n",
      "training for speaker:  BWH\n",
      "training for speaker:  SPM\n",
      "training for speaker:  NOISE\n",
      "done!\n",
      "Directory '/Users/david/Documents/code/fhmm/v1/src/classifiers_davidjames9610/test_a/whale_data/classifiers' already exists, removing old files:  False\n",
      "saving / updating  GMMHMM\n"
     ]
    }
   ],
   "source": [
    "import pickle\n",
    "import src.misc_davidjames9610.utils as utils\n",
    "sls = pickle.load(open(config.samples_labels,'rb'))\n",
    "feature_keys = ['lp', 'lp', 'mfcc'] # 'lp'] # 'lp'\n",
    "classifier_keys = ['fhmm', 'GaussianHMM', 'GMMHMM'] #, 'fhmm'] # ['fhmm']\n",
    "\n",
    "import src.fhmm_davidjames9610.fhmm as fhmm\n",
    "reload(fhmm)\n",
    "\n",
    "for feature_type, classifier_key in zip(feature_keys, classifier_keys):\n",
    "\n",
    "    print(feature_type, classifier_key)\n",
    "\n",
    "    features = utils.folder_pickles_to_dict(config.basedir + '/features', feature_type)\n",
    "\n",
    "    ## --\n",
    "    # features = pickle.load(open(config.features,'rb'))\n",
    "    # print([key for key in features])\n",
    "    # config\n",
    "    print([key for key in features])\n",
    "    number_of_iterations = 1\n",
    "    n_components = 8 # 4\n",
    "\n",
    "    ## --\n",
    "\n",
    "    fhmm_keys = []\n",
    "    for key in features:\n",
    "        if key.__contains__('None'):\n",
    "            pass\n",
    "        else:\n",
    "            fhmm_keys.append(key)\n",
    "\n",
    "    classifiers = {\n",
    "        'GaussianHMM': {\n",
    "        'type': 'GaussianHMM', # 'fhmm', 'GMMHMM',\n",
    "        'features':\n",
    "            [key for key in features],\n",
    "            # ['lp_None_None', 'lp_GaussNoise_SNR60', 'lp_GaussNoise_SNR40', 'lp_GaussNoise_SNR20', 'lp_GaussNoise_SNR10', 'lp_RealNoise_UNDER_WATER_DRONE_SNR60', 'lp_RealNoise_UNDER_WATER_DRONE_SNR40', 'lp_RealNoise_UNDER_WATER_DRONE_SNR20', 'lp_RealNoise_UNDER_WATER_DRONE_SNR10'],\n",
    "        'trained_classifiers': {}\n",
    "        },\n",
    "        'fhmm': {\n",
    "        'type': 'fhmm', # 'fhmm', 'GMMHMM',\n",
    "        'features': fhmm_keys,\n",
    "        'trained_classifiers': {}\n",
    "        },\n",
    "        'GMMHMM': {\n",
    "        'type': 'GMMHMM', # 'fhmm', 'GMMHMM',\n",
    "        'features': [key for key in features], # ['mfcc_None_None', 'mfcc_GaussNoise_SNR60', 'mfcc_GaussNoise_SNR40', 'mfcc_GaussNoise_SNR20', 'mfcc_GaussNoise_SNR10'],\n",
    "        'trained_classifiers': {}\n",
    "        },\n",
    "    }\n",
    "\n",
    "    ## --\n",
    "\n",
    "    # classifiers = {} # one for feature\n",
    "    cv_index = 0 # TODO expand later\n",
    "\n",
    "    # for classifier_key in classifiers:\n",
    "\n",
    "    classifier = classifiers[classifier_key]\n",
    "\n",
    "    all_features_for_classifier = classifier['features']\n",
    "    classifier_type = classifier['type']\n",
    "\n",
    "    print('For classifier:', classifier_type)\n",
    "    features_base = feature_type + '_None_None'\n",
    "    curr_features = features[features_base]['train_features'][cv_index]\n",
    "    curr_labels = features[features_base]['train_label'][cv_index]\n",
    "\n",
    "    # this is what is used for all\n",
    "    for feature_key in all_features_for_classifier:\n",
    "            classifier['trained_classifiers'][feature_key] = {}\n",
    "\n",
    "    for speaker in sls['labels_set']:\n",
    "\n",
    "        print('training for speaker: ', speaker)\n",
    "\n",
    "        speaker_num = sls['label_to_num'][speaker]\n",
    "        mask = (np.array(curr_labels) == speaker_num)\n",
    "        mask = mask.tolist()\n",
    "\n",
    "        speaker_features = [array for array, flag in zip(curr_features, mask) if flag]\n",
    "        speaker_features = np.array([item for sublist in speaker_features for item in sublist]) # TOD use lengths instead of flattening ?\n",
    "\n",
    "        curr_classifier = None\n",
    "        if classifier_type == 'GaussianHMM' or classifier_type == 'fhmm':\n",
    "\n",
    "            curr_classifier = GaussianHMM(n_components=n_components, covariance_type='diag')\n",
    "            curr_classifier.fit(speaker_features)\n",
    "        elif classifier_type == 'GMMHMM':\n",
    "\n",
    "            curr_classifier = GMMHMM(n_components=n_components, covariance_type='diag', n_mix=2)\n",
    "            curr_classifier.fit(speaker_features)\n",
    "\n",
    "        for feature_key in all_features_for_classifier:\n",
    "            classifier['trained_classifiers'][feature_key][speaker] = curr_classifier\n",
    "\n",
    "    if classifier_type == 'fhmm':\n",
    "\n",
    "        for feature_key in all_features_for_classifier:\n",
    "            # print(feature_key)\n",
    "            noise_features = features[feature_key]['noise_features'][cv_index]\n",
    "            noise_features = np.array([item for sublist in noise_features for item in sublist])\n",
    "\n",
    "            for speaker in sls['labels_set']:\n",
    "                # print(speaker)\n",
    "                signal_classifier = classifier['trained_classifiers'][feature_key][speaker]\n",
    "                fhmm_classifier = fhmm.FHMM(n_components_a=signal_classifier.n_components, n_components_b=3)\n",
    "                fhmm_classifier.fit_given_signal_hmm(signal_classifier, noise_features)\n",
    "                classifier['trained_classifiers'][feature_key][speaker] = None\n",
    "                classifier['trained_classifiers'][feature_key][speaker] = fhmm_classifier\n",
    "\n",
    "    print('done!')\n",
    "    utils.dict_to_folder_pickles(config.basedir + '/classifiers', {classifier_key: classifier})\n"
   ],
   "metadata": {
    "collapsed": false
   }
  },
  {
   "cell_type": "code",
   "execution_count": 14,
   "metadata": {},
   "outputs": [
    {
     "name": "stdout",
     "output_type": "stream",
     "text": [
      "Directory '/Users/david/Documents/code/fhmm/v1/src/classifiers_davidjames9610/test_a/whale_data_ind/classifiers' already exists, removing old files:  False\n",
      "saving / updating  fhmm\n"
     ]
    }
   ],
   "source": [
    "# utils.dict_to_folder_pickles(config.basedir + '/classifiers', {classifier_key: classifier})"
   ]
  },
  {
   "cell_type": "code",
   "execution_count": 31,
   "metadata": {},
   "outputs": [],
   "source": [
    "import pickle\n",
    "pickle.dump(classifiers, open(config.classifiers,'wb'))"
   ]
  },
  {
   "cell_type": "code",
   "execution_count": 45,
   "metadata": {},
   "outputs": [
    {
     "name": "stdout",
     "output_type": "stream",
     "text": [
      "loading lp_None_None.pickle\n",
      "training for speaker:  a2aca1e72\n",
      "training for speaker:  a893705bb\n",
      "training for speaker:  ab5cf6ea8\n",
      "training for speaker:  ab66f4f93\n",
      "training for speaker:  ac1d39ce8\n",
      "training for speaker:  acce7416f\n",
      "training for speaker:  addedba85\n"
     ]
    }
   ],
   "source": [
    "from sklearn.metrics import ConfusionMatrixDisplay\n",
    "# Training for new classifiers\n",
    "\n",
    "import pickle\n",
    "import src.misc_davidjames9610.utils as utils\n",
    "import src.dnnhmm_davidjames9610.dnnhmm as dnnhmm\n",
    "reload(dnnhmm)\n",
    "import src.dnnhmm_davidjames9610.kerashmm as kerashmm\n",
    "reload(kerashmm)\n",
    "\n",
    "feature_key = 'lp_None_None'\n",
    "features = utils.folder_pickles_to_dict(config.basedir + '/features', feature_key)\n",
    "sls = pickle.load(open(config.samples_labels,'rb'))\n",
    "cv_index = 0 # TODO expand later\n",
    "curr_features = features[feature_key]['train_features'][cv_index]\n",
    "curr_labels = features[feature_key]['train_label'][cv_index]\n",
    "\n",
    "classifiers = {}\n",
    "classifiers_mlp = {}\n",
    "\n",
    "for speaker in sls['labels_set']:\n",
    "\n",
    "    print('training for speaker: ', speaker)\n",
    "\n",
    "    speaker_num = sls['label_to_num'][speaker]\n",
    "    mask = (np.array(curr_labels) == speaker_num)\n",
    "    mask = mask.tolist()\n",
    "\n",
    "    speaker_features = [array for array, flag in zip(curr_features, mask) if flag]\n",
    "    speaker_features_concat = np.array([item for sublist in speaker_features for item in sublist]) # TODO use lengths instead of flattening ?\n",
    "\n",
    "    curr_classifier = kerashmm.KerasHMM(8,3, lstm=False)\n",
    "    curr_classifier.fit(speaker_features_concat)\n",
    "    classifiers[speaker] = curr_classifier\n",
    "\n",
    "    # curr_classifier_mlp = dnnhmm.DNNHMM(8)\n",
    "    # curr_classifier_mlp.fit(speaker_features)\n",
    "    # classifiers[speaker] = curr_classifier_mlp\n"
   ]
  },
  {
   "cell_type": "code",
   "execution_count": 46,
   "outputs": [
    {
     "name": "stdout",
     "output_type": "stream",
     "text": [
      "0\n",
      "10\n",
      "20\n",
      "30\n",
      "40\n",
      "50\n",
      "60\n",
      "70\n",
      "80\n",
      "90\n"
     ]
    },
    {
     "data": {
      "text/plain": "<Figure size 640x480 with 2 Axes>",
      "image/png": "[encoded data removed]"
     },
     "metadata": {},
     "output_type": "display_data"
    }
   ],
   "source": [
    "curr_features = features[feature_key]['val_features'][cv_index]\n",
    "curr_label = features[feature_key]['val_label'][cv_index]\n",
    "test_labels = []\n",
    "len_to_test = 100\n",
    "for i in range(len(curr_features[:len_to_test])):\n",
    "\n",
    "    if i % 10 == 0: print(i)\n",
    "\n",
    "    speakers_scores = []\n",
    "    for speaker in sls['labels_set']:\n",
    "\n",
    "        speaker_hmm = classifiers[speaker]\n",
    "        speakers_scores.append(speaker_hmm.score(curr_features[i]))\n",
    "\n",
    "    arg_max_speaker = np.argmax(speakers_scores)\n",
    "    test_labels.append(arg_max_speaker)\n",
    "\n",
    "performance_metrics = utils.get_performance_metrics(np.array(test_labels), curr_label[:len_to_test],\n",
    "                                                    labels=list(sls['num_to_label'].keys()))\n",
    "\n",
    "disp = ConfusionMatrixDisplay(confusion_matrix=performance_metrics['cm'],\n",
    "                              display_labels=list(sls['label_to_num'].keys()))\n",
    "disp.plot(cmap=plt.cm.Blues, values_format='.2f')\n",
    "plt.title('classifier_type' + '_' + feature_key)\n",
    "plt.show()\n",
    "plt.close()"
   ],
   "metadata": {
    "collapsed": false
   }
  },
  {
   "cell_type": "code",
   "execution_count": null,
   "outputs": [],
   "source": [],
   "metadata": {
    "collapsed": false
   }
  }
 ],
 "metadata": {
  "kernelspec": {
   "display_name": "Python 3 (ipykernel)",
   "language": "python",
   "name": "python3"
  },
  "language_info": {
   "codemirror_mode": {
    "name": "ipython",
    "version": 3
   },
   "file_extension": ".py",
   "mimetype": "text/x-python",
   "name": "python",
   "nbconvert_exporter": "python",
   "pygments_lexer": "ipython3",
   "version": "3.10.8"
  }
 },
 "nbformat": 4,
 "nbformat_minor": 1
}
