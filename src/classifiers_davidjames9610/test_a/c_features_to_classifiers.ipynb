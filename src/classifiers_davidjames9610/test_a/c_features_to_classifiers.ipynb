{
 "cells": [
  {
   "cell_type": "code",
   "execution_count": 1,
   "metadata": {},
   "outputs": [],
   "source": [
    "# pick a hmm classifier and run through features,\n",
    "# two different ways to analyse accuracy, confusion matrix per sample or combined model"
   ]
  },
  {
   "cell_type": "code",
   "execution_count": 2,
   "metadata": {},
   "outputs": [],
   "source": [
    "import sys\n",
    "sys.path.append(\"/Users/david/Documents/code/fhmm/v1\")"
   ]
  },
  {
   "cell_type": "code",
   "execution_count": 3,
   "metadata": {},
   "outputs": [
    {
     "name": "stdout",
     "output_type": "stream",
     "text": [
      "/Users/david/Documents/code/fhmm/v1/src/classifiers_davidjames9610/test_a/speech_commands\n"
     ]
    }
   ],
   "source": [
    "\n",
    "import numpy as np\n",
    "import os\n",
    "import os.path\n",
    "from pathlib import Path\n",
    "import matplotlib.pyplot as plt\n",
    "from importlib import reload\n",
    "import src.misc_davidjames9610.fe_methods as fe\n",
    "import src.misc_davidjames9610.proc_methods as pm\n",
    "import importlib\n",
    "from hmmlearn.hmm import GaussianHMM, GMMHMM\n",
    "\n",
    "import src.classifiers_davidjames9610.test_a.config as base_config\n",
    "reload(base_config)\n",
    "config = importlib.import_module(base_config.config_location)\n",
    "reload(config)\n",
    "print(config.basedir)"
   ]
  },
  {
   "cell_type": "code",
   "execution_count": 4,
   "metadata": {},
   "outputs": [
    {
     "name": "stdout",
     "output_type": "stream",
     "text": [
      "loading mfcc_RealNoise_UNDER_WATER_DRONE_SNR40.pickle\n",
      "loading mfcc_GaussNoise_SNR60.pickle\n",
      "loading mfcc_RealNoise_UNDER_WATER_DRONE_SNR60.pickle\n",
      "loading mfcc_GaussNoise_SNR40.pickle\n",
      "loading mfcc_None_None.pickle\n",
      "loading mfcc_RealNoise_UNDER_WATER_DRONE_SNR20.pickle\n",
      "loading mfcc_GaussNoise_SNR10.pickle\n",
      "loading mfcc_RealNoise_UNDER_WATER_DRONE_SNR10.pickle\n",
      "loading mfcc_GaussNoise_SNR20.pickle\n"
     ]
    }
   ],
   "source": [
    "import pickle\n",
    "import src.misc_davidjames9610.utils as utils\n",
    "sls = pickle.load(open(config.samples_labels,'rb'))\n",
    "features = utils.folder_pickles_to_dict(config.basedir + '/features', 'mfcc')\n",
    "# features = pickle.load(open(config.features,'rb'))"
   ]
  },
  {
   "cell_type": "code",
   "execution_count": 5,
   "metadata": {},
   "outputs": [
    {
     "name": "stdout",
     "output_type": "stream",
     "text": [
      "['mfcc_GaussNoise_SNR10', 'mfcc_GaussNoise_SNR20', 'mfcc_GaussNoise_SNR40', 'mfcc_GaussNoise_SNR60', 'mfcc_None_None', 'mfcc_RealNoise_UNDER_WATER_DRONE_SNR10', 'mfcc_RealNoise_UNDER_WATER_DRONE_SNR20', 'mfcc_RealNoise_UNDER_WATER_DRONE_SNR40', 'mfcc_RealNoise_UNDER_WATER_DRONE_SNR60']\n"
     ]
    }
   ],
   "source": [
    "print([key for key in features])"
   ]
  },
  {
   "cell_type": "code",
   "execution_count": 6,
   "metadata": {},
   "outputs": [],
   "source": [
    "# config\n",
    "number_of_iterations = 1\n",
    "n_components = 8"
   ]
  },
  {
   "cell_type": "code",
   "execution_count": 13,
   "metadata": {
    "pycharm": {
     "is_executing": true
    }
   },
   "outputs": [],
   "source": [
    "classifiers = {\n",
    "    # {\n",
    "    # 'type': 'GaussianHMM', # 'fhmm', 'GMMHMM',\n",
    "    # 'features': ['lp', 'lp_GaussNoise_SNR60', 'lp_GaussNoise_SNR40', 'lp_GaussNoise_SNR20', 'lp_GaussNoise_SNR10', 'lp_RealNoise_UNDER_WATER_DRONE_SNR60', 'lp_RealNoise_UNDER_WATER_DRONE_SNR40', 'lp_RealNoise_UNDER_WATER_DRONE_SNR20', 'lp_RealNoise_UNDER_WATER_DRONE_SNR10',],\n",
    "    # 'trained_classifiers': {}\n",
    "    # },\n",
    "    # {\n",
    "    # 'type': 'fhmm', # 'fhmm', 'GMMHMM',\n",
    "    # 'features': ['lp_GaussNoise_SNR60', 'lp_GaussNoise_SNR40', 'lp_GaussNoise_SNR20', 'lp_GaussNoise_SNR10', 'lp_RealNoise_UNDER_WATER_DRONE_SNR60', 'lp_RealNoise_UNDER_WATER_DRONE_SNR40', 'lp_RealNoise_UNDER_WATER_DRONE_SNR20', 'lp_RealNoise_UNDER_WATER_DRONE_SNR10'],\n",
    "    # 'trained_classifiers': {}\n",
    "    # },\n",
    "    'GMMHMM': {\n",
    "    'type': 'GMMHMM', # 'fhmm', 'GMMHMM',\n",
    "    'features': [key for key in features], # ['mfcc_None_None', 'mfcc_GaussNoise_SNR60', 'mfcc_GaussNoise_SNR40', 'mfcc_GaussNoise_SNR20', 'mfcc_GaussNoise_SNR10'],\n",
    "    'trained_classifiers': {}\n",
    "    },\n",
    "}"
   ]
  },
  {
   "cell_type": "code",
   "execution_count": 14,
   "metadata": {},
   "outputs": [
    {
     "name": "stdout",
     "output_type": "stream",
     "text": [
      "For classifier: GMMHMM\n",
      "  Training on: mfcc_GaussNoise_SNR10\n",
      "training for speaker:  a2aca1e72\n",
      "training for speaker:  a893705bb\n",
      "training for speaker:  ab5cf6ea8\n",
      "training for speaker:  ab66f4f93\n",
      "training for speaker:  ac1d39ce8\n",
      "training for speaker:  acce7416f\n",
      "training for speaker:  addedba85\n",
      "  Training on: mfcc_GaussNoise_SNR20\n",
      "training for speaker:  a2aca1e72\n",
      "training for speaker:  a893705bb\n",
      "training for speaker:  ab5cf6ea8\n",
      "training for speaker:  ab66f4f93\n",
      "training for speaker:  ac1d39ce8\n",
      "training for speaker:  acce7416f\n",
      "training for speaker:  addedba85\n",
      "  Training on: mfcc_GaussNoise_SNR40\n",
      "training for speaker:  a2aca1e72\n",
      "training for speaker:  a893705bb\n",
      "training for speaker:  ab5cf6ea8\n",
      "training for speaker:  ab66f4f93\n",
      "training for speaker:  ac1d39ce8\n",
      "training for speaker:  acce7416f\n",
      "training for speaker:  addedba85\n",
      "  Training on: mfcc_GaussNoise_SNR60\n",
      "training for speaker:  a2aca1e72\n",
      "training for speaker:  a893705bb\n",
      "training for speaker:  ab5cf6ea8\n",
      "training for speaker:  ab66f4f93\n",
      "training for speaker:  ac1d39ce8\n",
      "training for speaker:  acce7416f\n",
      "training for speaker:  addedba85\n",
      "  Training on: mfcc_None_None\n",
      "training for speaker:  a2aca1e72\n",
      "training for speaker:  a893705bb\n",
      "training for speaker:  ab5cf6ea8\n",
      "training for speaker:  ab66f4f93\n",
      "training for speaker:  ac1d39ce8\n",
      "training for speaker:  acce7416f\n",
      "training for speaker:  addedba85\n",
      "  Training on: mfcc_RealNoise_UNDER_WATER_DRONE_SNR10\n",
      "training for speaker:  a2aca1e72\n",
      "training for speaker:  a893705bb\n",
      "training for speaker:  ab5cf6ea8\n",
      "training for speaker:  ab66f4f93\n",
      "training for speaker:  ac1d39ce8\n",
      "training for speaker:  acce7416f\n",
      "training for speaker:  addedba85\n",
      "  Training on: mfcc_RealNoise_UNDER_WATER_DRONE_SNR20\n",
      "training for speaker:  a2aca1e72\n",
      "training for speaker:  a893705bb\n",
      "training for speaker:  ab5cf6ea8\n",
      "training for speaker:  ab66f4f93\n",
      "training for speaker:  ac1d39ce8\n",
      "training for speaker:  acce7416f\n",
      "training for speaker:  addedba85\n",
      "  Training on: mfcc_RealNoise_UNDER_WATER_DRONE_SNR40\n",
      "training for speaker:  a2aca1e72\n",
      "training for speaker:  a893705bb\n",
      "training for speaker:  ab5cf6ea8\n",
      "training for speaker:  ab66f4f93\n",
      "training for speaker:  ac1d39ce8\n",
      "training for speaker:  acce7416f\n",
      "training for speaker:  addedba85\n",
      "  Training on: mfcc_RealNoise_UNDER_WATER_DRONE_SNR60\n",
      "training for speaker:  a2aca1e72\n",
      "training for speaker:  a893705bb\n",
      "training for speaker:  ab5cf6ea8\n",
      "training for speaker:  ab66f4f93\n",
      "training for speaker:  ac1d39ce8\n",
      "training for speaker:  acce7416f\n",
      "training for speaker:  addedba85\n"
     ]
    }
   ],
   "source": [
    "import src.fhmm_davidjames9610.fhmm as fhmm\n",
    "reload(fhmm)\n",
    "# classifiers = {} # one for feature\n",
    "cv_index = 0 # TODO expand later\n",
    "\n",
    "for classifier_key in classifiers:\n",
    "\n",
    "    classifier = classifiers[classifier_key]\n",
    "\n",
    "    all_features_for_classifier = classifier['features']\n",
    "    classifier_type = classifier['type']\n",
    "\n",
    "    print('For classifier:', classifier_type)\n",
    "\n",
    "    for feature_key in all_features_for_classifier:\n",
    "        print('  Training on:', feature_key)\n",
    "\n",
    "        classifier['trained_classifiers'][feature_key] = {}\n",
    "\n",
    "        curr_features = features[feature_key]['train_features'][cv_index]\n",
    "        curr_labels = features[feature_key]['train_label'][cv_index]\n",
    "        noise_features = None\n",
    "\n",
    "        if classifier_type == 'fhmm':\n",
    "            noise_features = features[feature_key]['noise_features'][cv_index]\n",
    "            noise_features = np.array([item for sublist in noise_features for item in sublist])\n",
    "\n",
    "        for speaker in sls['labels_set']:\n",
    "\n",
    "            print('training for speaker: ', speaker)\n",
    "\n",
    "            speaker_num = sls['label_to_num'][speaker]\n",
    "            mask = (curr_labels == speaker_num)\n",
    "            mask = mask.tolist()\n",
    "\n",
    "            speaker_features = [array for array, flag in zip(curr_features, mask) if flag]\n",
    "            speaker_features = np.array([item for sublist in speaker_features for item in sublist]) # TODO use lengths instead of flattening ?\n",
    "\n",
    "            curr_classifier = None\n",
    "            if classifier_type == 'fhmm':\n",
    "                # FHMM\n",
    "                curr_classifier = fhmm.FHMM(n_components_a=n_components, n_components_b=2)\n",
    "                curr_classifier.fit(speaker_features, noise_features)\n",
    "            elif classifier_type == 'GaussianHMM':\n",
    "                # GAUSSIAN HMM\n",
    "                curr_classifier = GaussianHMM(n_components=n_components, covariance_type='diag')\n",
    "                curr_classifier.fit(speaker_features)\n",
    "            elif classifier_type == 'GMMHMM':\n",
    "                # GAUSSIAN HMM\n",
    "                curr_classifier = GMMHMM(n_components=n_components, covariance_type='diag', n_mix=2)\n",
    "                curr_classifier.fit(speaker_features)\n",
    "\n",
    "            classifier['trained_classifiers'][feature_key][speaker] = curr_classifier\n",
    "\n",
    "# use_fhmm = False\n",
    "# print('training for feature type: ', feature_key)\n",
    "\n",
    "# if feature_key.__contains__('Noise') and feature_key.__contains__('lp'):\n",
    "#     print('using fhmm!')\n",
    "#     use_fhmm = True\n",
    "\n",
    "# classifiers[feature_key] = {}\n",
    "# curr_features = features[feature_key]['train_features'][cv_index]\n",
    "# curr_labels = features[feature_key]['train_label'][cv_index]\n",
    "\n",
    "# if use_fhmm:\n",
    "#     noise_features = features[feature_key]['noise_features'][cv_index]\n",
    "#     noise_features = np.array([item for sublist in noise_features for item in sublist])\n",
    "# print('score: ', curr_classifier.score(speaker_features))\n",
    "\n"
   ]
  },
  {
   "cell_type": "code",
   "execution_count": 15,
   "metadata": {},
   "outputs": [
    {
     "name": "stdout",
     "output_type": "stream",
     "text": [
      "Directory '/Users/david/Documents/code/fhmm/v1/src/classifiers_davidjames9610/test_a/speech_commands/classifiers' already exists, removing old files:  False\n",
      "saving / updating  GMMHMM\n"
     ]
    }
   ],
   "source": [
    "utils.dict_to_folder_pickles(config.basedir + '/classifiers', classifiers)"
   ]
  },
  {
   "cell_type": "code",
   "execution_count": 11,
   "metadata": {},
   "outputs": [],
   "source": [
    "import pickle\n",
    "pickle.dump(classifiers, open(config.classifiers,'wb'))"
   ]
  },
  {
   "cell_type": "code",
   "execution_count": null,
   "metadata": {},
   "outputs": [],
   "source": []
  }
 ],
 "metadata": {
  "kernelspec": {
   "display_name": "Python 3 (ipykernel)",
   "language": "python",
   "name": "python3"
  },
  "language_info": {
   "codemirror_mode": {
    "name": "ipython",
    "version": 3
   },
   "file_extension": ".py",
   "mimetype": "text/x-python",
   "name": "python",
   "nbconvert_exporter": "python",
   "pygments_lexer": "ipython3",
   "version": "3.10.8"
  }
 },
 "nbformat": 4,
 "nbformat_minor": 1
}
